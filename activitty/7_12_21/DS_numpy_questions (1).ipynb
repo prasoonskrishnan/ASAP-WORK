{
 "cells": [
  {
   "cell_type": "code",
   "execution_count": 1,
   "id": "minimal-aspect",
   "metadata": {
    "ExecuteTime": {
     "end_time": "2021-12-07T05:33:03.103637Z",
     "start_time": "2021-12-07T05:33:03.097630Z"
    }
   },
   "outputs": [],
   "source": [
    "import numpy as np "
   ]
  },
  {
   "cell_type": "markdown",
   "id": "connected-subcommittee",
   "metadata": {},
   "source": [
    "## section- **1**"
   ]
  },
  {
   "cell_type": "markdown",
   "id": "occupied-antarctica",
   "metadata": {},
   "source": [
    "###  check if elements from following arrays return the logical value True."
   ]
  },
  {
   "cell_type": "code",
   "execution_count": 2,
   "id": "joint-inspiration",
   "metadata": {
    "ExecuteTime": {
     "end_time": "2021-12-07T05:33:03.276640Z",
     "start_time": "2021-12-07T05:33:03.261642Z"
    }
   },
   "outputs": [],
   "source": [
    "A = np.array([[3, 2, 1, 4],\n",
    "              [5, 2, 1, 6]])\n",
    "\n",
    "B = np.array([[3, 2, 1, 4],\n",
    "              [5, 2, 0, 6]])\n",
    "\n",
    "C = np.array([[True, False, False],\n",
    "              [True, True, True]])\n",
    "\n",
    "D = np.array([0.1, 0.3])"
   ]
  },
  {
   "cell_type": "markdown",
   "id": "identified-package",
   "metadata": {},
   "source": [
    ">use all() method"
   ]
  },
  {
   "cell_type": "code",
   "execution_count": 3,
   "id": "residential-divorce",
   "metadata": {
    "ExecuteTime": {
     "end_time": "2021-12-07T05:33:03.372648Z",
     "start_time": "2021-12-07T05:33:03.339647Z"
    }
   },
   "outputs": [
    {
     "name": "stdout",
     "output_type": "stream",
     "text": [
      "A : True\n",
      "B : False\n",
      "C : False\n",
      "D : True\n"
     ]
    }
   ],
   "source": [
    "for name,array in zip(list(\"ABCD\"),[A,B,C,D]):\n",
    "    print(f\"{name} : {np.all(array)}\")"
   ]
  },
  {
   "cell_type": "markdown",
   "id": "electric-federation",
   "metadata": {},
   "source": [
    "### check if all elements from the following arrays returns the logical value True along the axis 1"
   ]
  },
  {
   "cell_type": "code",
   "execution_count": 4,
   "id": "broad-wedding",
   "metadata": {
    "ExecuteTime": {
     "end_time": "2021-12-07T05:33:03.467659Z",
     "start_time": "2021-12-07T05:33:03.449657Z"
    }
   },
   "outputs": [],
   "source": [
    "A = np.array([[3, 2, 1, 4],\n",
    "              [5, 2, 1, 6]])\n",
    "\n",
    "B = np.array([[3, 2, 1, 4],\n",
    "              [5, 2, 0, 6]])\n",
    "\n",
    "C = np.array([[True, False, False],\n",
    "              [True, True, True]])"
   ]
  },
  {
   "cell_type": "code",
   "execution_count": 5,
   "id": "simple-tradition",
   "metadata": {
    "ExecuteTime": {
     "end_time": "2021-12-07T05:33:03.624971Z",
     "start_time": "2021-12-07T05:33:03.471659Z"
    }
   },
   "outputs": [
    {
     "name": "stdout",
     "output_type": "stream",
     "text": [
      "A : [ True  True]\n",
      "B : [ True False]\n",
      "C : [False  True]\n"
     ]
    }
   ],
   "source": [
    "for name,array in zip(list(\"ABC\"),[A,B,C]):\n",
    "    print(f\"{name} : {np.all(array,axis=1)}\")"
   ]
  },
  {
   "cell_type": "markdown",
   "id": "backed-merchant",
   "metadata": {},
   "source": [
    "### check if any elements in the following arrays return the logical value True"
   ]
  },
  {
   "cell_type": "markdown",
   "id": "permanent-anthony",
   "metadata": {},
   "source": [
    ">use any() method"
   ]
  },
  {
   "cell_type": "code",
   "execution_count": 6,
   "id": "affected-spank",
   "metadata": {
    "ExecuteTime": {
     "end_time": "2021-12-07T05:33:03.784979Z",
     "start_time": "2021-12-07T05:33:03.651973Z"
    }
   },
   "outputs": [],
   "source": [
    "A = np.array([[0, 0, 0],\n",
    "              [0, 0, 0]])\n",
    "\n",
    "B = np.array([[0, 0, 0],\n",
    "              [0, 1, 0]])\n",
    "\n",
    "C = np.array([[False, False, False],\n",
    "              [True, False, False]])\n",
    "\n",
    "D = np.array([[0.1, 0.0]])"
   ]
  },
  {
   "cell_type": "code",
   "execution_count": 7,
   "id": "severe-kitty",
   "metadata": {
    "ExecuteTime": {
     "end_time": "2021-12-07T05:33:03.973613Z",
     "start_time": "2021-12-07T05:33:03.788981Z"
    }
   },
   "outputs": [
    {
     "name": "stdout",
     "output_type": "stream",
     "text": [
      "A : False\n",
      "B : True\n",
      "C : True\n",
      "D : True\n"
     ]
    }
   ],
   "source": [
    "for name,array in zip(list(\"ABCD\"),[A,B,C,D]):\n",
    "    print(f\"{name} : {np.any(array)}\")"
   ]
  },
  {
   "cell_type": "code",
   "execution_count": null,
   "id": "centered-identifier",
   "metadata": {},
   "outputs": [],
   "source": []
  },
  {
   "cell_type": "markdown",
   "id": "smooth-growing",
   "metadata": {},
   "source": [
    "### check if any elements in the following arrays return the logical value True along axis 0"
   ]
  },
  {
   "cell_type": "code",
   "execution_count": 8,
   "id": "inner-lawyer",
   "metadata": {
    "ExecuteTime": {
     "end_time": "2021-12-07T05:33:04.084622Z",
     "start_time": "2021-12-07T05:33:03.980619Z"
    }
   },
   "outputs": [],
   "source": [
    "A = np.array([[0, 0, 0],\n",
    "              [0, 0, 0]])\n",
    "\n",
    "B = np.array([[0, 0, 0],\n",
    "              [0, 1, 0]])\n",
    "\n",
    "C = np.array([[False, False, False],\n",
    "              [True, False, False]])\n",
    "\n",
    "D = np.array([[0.1, 0.0]])"
   ]
  },
  {
   "cell_type": "code",
   "execution_count": 9,
   "id": "regional-outline",
   "metadata": {
    "ExecuteTime": {
     "end_time": "2021-12-07T05:33:04.256640Z",
     "start_time": "2021-12-07T05:33:04.098628Z"
    }
   },
   "outputs": [
    {
     "name": "stdout",
     "output_type": "stream",
     "text": [
      "A : [False False False]\n",
      "B : [False  True False]\n",
      "C : [ True False False]\n",
      "D : [ True False]\n"
     ]
    }
   ],
   "source": [
    "for name,array in zip(list(\"ABCD\"),[A,B,C,D]):\n",
    "    print(f\"{name} : {np.any(array,axis=0)}\")"
   ]
  },
  {
   "cell_type": "markdown",
   "id": "located-secretary",
   "metadata": {},
   "source": [
    "### check if the following array has missing data"
   ]
  },
  {
   "cell_type": "markdown",
   "id": "collect-young",
   "metadata": {},
   "source": [
    ">use isnan() method"
   ]
  },
  {
   "cell_type": "code",
   "execution_count": 25,
   "id": "popular-blind",
   "metadata": {
    "ExecuteTime": {
     "end_time": "2021-12-07T05:41:50.217027Z",
     "start_time": "2021-12-07T05:41:50.206028Z"
    }
   },
   "outputs": [],
   "source": [
    "A = np.array([[3, 2, 1, np.nan],\n",
    "              [5, np.nan, 1, 6]])"
   ]
  },
  {
   "cell_type": "code",
   "execution_count": 26,
   "id": "permanent-neighborhood",
   "metadata": {
    "ExecuteTime": {
     "end_time": "2021-12-07T05:41:51.878368Z",
     "start_time": "2021-12-07T05:41:51.869369Z"
    }
   },
   "outputs": [
    {
     "name": "stdout",
     "output_type": "stream",
     "text": [
      "[[False False False  True]\n",
      " [False  True False False]]\n"
     ]
    }
   ],
   "source": [
    "print(np.isnan(A))"
   ]
  },
  {
   "cell_type": "markdown",
   "id": "extra-behavior",
   "metadata": {},
   "source": [
    "### check if following arrays are equal(element wise)"
   ]
  },
  {
   "cell_type": "markdown",
   "id": "blessed-skating",
   "metadata": {},
   "source": [
    "> use allclose() method"
   ]
  },
  {
   "cell_type": "code",
   "execution_count": 27,
   "id": "affiliated-factory",
   "metadata": {
    "ExecuteTime": {
     "end_time": "2021-12-07T05:51:06.708911Z",
     "start_time": "2021-12-07T05:51:06.696911Z"
    }
   },
   "outputs": [],
   "source": [
    "A = np.array([0.4, 0.5, 0.3])\n",
    "B = np.array([0.39999999, 0.5000001, 0.3])"
   ]
  },
  {
   "cell_type": "code",
   "execution_count": 28,
   "id": "desirable-keeping",
   "metadata": {
    "ExecuteTime": {
     "end_time": "2021-12-07T05:51:08.250911Z",
     "start_time": "2021-12-07T05:51:08.215919Z"
    }
   },
   "outputs": [
    {
     "name": "stdout",
     "output_type": "stream",
     "text": [
      "True\n"
     ]
    }
   ],
   "source": [
    "print(np.allclose(A,B))"
   ]
  },
  {
   "cell_type": "markdown",
   "id": "convertible-underwear",
   "metadata": {},
   "source": [
    "### check the following arrays are equal(element wise)"
   ]
  },
  {
   "cell_type": "markdown",
   "id": "incoming-nicaragua",
   "metadata": {},
   "source": [
    "> use =="
   ]
  },
  {
   "cell_type": "code",
   "execution_count": 29,
   "id": "parliamentary-republican",
   "metadata": {
    "ExecuteTime": {
     "end_time": "2021-12-07T05:51:54.582259Z",
     "start_time": "2021-12-07T05:51:54.567259Z"
    }
   },
   "outputs": [],
   "source": [
    "A = np.array([0.4, 0.5, 0.3])\n",
    "B = np.array([0.3999999999, 0.5000000001, 0.3])"
   ]
  },
  {
   "cell_type": "code",
   "execution_count": 30,
   "id": "interstate-novel",
   "metadata": {
    "ExecuteTime": {
     "end_time": "2021-12-07T05:51:55.679757Z",
     "start_time": "2021-12-07T05:51:55.669755Z"
    }
   },
   "outputs": [
    {
     "name": "stdout",
     "output_type": "stream",
     "text": [
      "[False False  True]\n"
     ]
    }
   ],
   "source": [
    "print(A==B)"
   ]
  },
  {
   "cell_type": "markdown",
   "id": "toxic-schema",
   "metadata": {},
   "source": [
    "> using equal() method"
   ]
  },
  {
   "cell_type": "code",
   "execution_count": 31,
   "id": "removable-creation",
   "metadata": {
    "ExecuteTime": {
     "end_time": "2021-12-07T05:52:19.624689Z",
     "start_time": "2021-12-07T05:52:19.608686Z"
    }
   },
   "outputs": [
    {
     "name": "stdout",
     "output_type": "stream",
     "text": [
      "[False False  True]\n"
     ]
    }
   ],
   "source": [
    "print(np.equal(A,B))"
   ]
  },
  {
   "cell_type": "markdown",
   "id": "quiet-roots",
   "metadata": {},
   "source": [
    "### check which numbers from the first array is greater than the elements from second array and print "
   ]
  },
  {
   "cell_type": "code",
   "execution_count": 32,
   "id": "sophisticated-russian",
   "metadata": {
    "ExecuteTime": {
     "end_time": "2021-12-07T05:54:11.154233Z",
     "start_time": "2021-12-07T05:54:11.144232Z"
    }
   },
   "outputs": [],
   "source": [
    "A = np.array([0.4, 0.5, 0.3, 0.9])\n",
    "B = np.array([0.38, 0.51, 0.3, 0.91])"
   ]
  },
  {
   "cell_type": "markdown",
   "id": "simplified-preliminary",
   "metadata": {},
   "source": [
    "> using >"
   ]
  },
  {
   "cell_type": "code",
   "execution_count": 33,
   "id": "silent-candidate",
   "metadata": {
    "ExecuteTime": {
     "end_time": "2021-12-07T05:54:13.394666Z",
     "start_time": "2021-12-07T05:54:13.383665Z"
    }
   },
   "outputs": [
    {
     "name": "stdout",
     "output_type": "stream",
     "text": [
      "[ True False False False]\n"
     ]
    }
   ],
   "source": [
    "print(A>B)"
   ]
  },
  {
   "cell_type": "markdown",
   "id": "private-cedar",
   "metadata": {},
   "source": [
    "> using greater() method"
   ]
  },
  {
   "cell_type": "code",
   "execution_count": 34,
   "id": "paperback-notion",
   "metadata": {
    "ExecuteTime": {
     "end_time": "2021-12-07T05:54:43.212879Z",
     "start_time": "2021-12-07T05:54:43.191883Z"
    }
   },
   "outputs": [
    {
     "name": "stdout",
     "output_type": "stream",
     "text": [
      "[ True False False False]\n"
     ]
    }
   ],
   "source": [
    "print(np.greater(A,B))"
   ]
  },
  {
   "cell_type": "markdown",
   "id": "revised-gross",
   "metadata": {},
   "source": [
    "### create a 4x4 array of zeroes and print "
   ]
  },
  {
   "cell_type": "markdown",
   "id": "emerging-vertex",
   "metadata": {},
   "source": [
    "> use zeros() method"
   ]
  },
  {
   "cell_type": "code",
   "execution_count": 35,
   "id": "adapted-taiwan",
   "metadata": {
    "ExecuteTime": {
     "end_time": "2021-12-07T05:55:54.530298Z",
     "start_time": "2021-12-07T05:55:54.511291Z"
    }
   },
   "outputs": [
    {
     "name": "stdout",
     "output_type": "stream",
     "text": [
      "[[0. 0. 0. 0.]\n",
      " [0. 0. 0. 0.]\n",
      " [0. 0. 0. 0.]\n",
      " [0. 0. 0. 0.]]\n"
     ]
    }
   ],
   "source": [
    "print(np.zeros((4,4)))"
   ]
  },
  {
   "cell_type": "markdown",
   "id": "twelve-sally",
   "metadata": {},
   "source": [
    "### create a 10x10 array filled with 255, set datatype to float and print"
   ]
  },
  {
   "cell_type": "markdown",
   "id": "brutal-sentence",
   "metadata": {},
   "source": [
    "> using ones() method"
   ]
  },
  {
   "cell_type": "code",
   "execution_count": 36,
   "id": "extensive-saskatchewan",
   "metadata": {
    "ExecuteTime": {
     "end_time": "2021-12-07T05:57:12.440473Z",
     "start_time": "2021-12-07T05:57:12.428474Z"
    }
   },
   "outputs": [
    {
     "name": "stdout",
     "output_type": "stream",
     "text": [
      "[[255. 255. 255. 255. 255. 255. 255. 255. 255. 255.]\n",
      " [255. 255. 255. 255. 255. 255. 255. 255. 255. 255.]\n",
      " [255. 255. 255. 255. 255. 255. 255. 255. 255. 255.]\n",
      " [255. 255. 255. 255. 255. 255. 255. 255. 255. 255.]\n",
      " [255. 255. 255. 255. 255. 255. 255. 255. 255. 255.]\n",
      " [255. 255. 255. 255. 255. 255. 255. 255. 255. 255.]\n",
      " [255. 255. 255. 255. 255. 255. 255. 255. 255. 255.]\n",
      " [255. 255. 255. 255. 255. 255. 255. 255. 255. 255.]\n",
      " [255. 255. 255. 255. 255. 255. 255. 255. 255. 255.]\n",
      " [255. 255. 255. 255. 255. 255. 255. 255. 255. 255.]]\n"
     ]
    }
   ],
   "source": [
    "A=np.ones((10,10)) * 255\n",
    "print(A)"
   ]
  },
  {
   "cell_type": "markdown",
   "id": "smart-republican",
   "metadata": {},
   "source": [
    ">using full() method"
   ]
  },
  {
   "cell_type": "code",
   "execution_count": 37,
   "id": "excessive-delhi",
   "metadata": {
    "ExecuteTime": {
     "end_time": "2021-12-07T05:58:21.560985Z",
     "start_time": "2021-12-07T05:58:21.553986Z"
    }
   },
   "outputs": [
    {
     "name": "stdout",
     "output_type": "stream",
     "text": [
      "[[255 255 255 255 255 255 255 255 255 255]\n",
      " [255 255 255 255 255 255 255 255 255 255]\n",
      " [255 255 255 255 255 255 255 255 255 255]\n",
      " [255 255 255 255 255 255 255 255 255 255]\n",
      " [255 255 255 255 255 255 255 255 255 255]\n",
      " [255 255 255 255 255 255 255 255 255 255]\n",
      " [255 255 255 255 255 255 255 255 255 255]\n",
      " [255 255 255 255 255 255 255 255 255 255]\n",
      " [255 255 255 255 255 255 255 255 255 255]\n",
      " [255 255 255 255 255 255 255 255 255 255]]\n"
     ]
    }
   ],
   "source": [
    "B=np.full((10,10),fill_value=255)\n",
    "print(B)"
   ]
  },
  {
   "cell_type": "markdown",
   "id": "agricultural-emperor",
   "metadata": {},
   "source": [
    "## section- **2**"
   ]
  },
  {
   "cell_type": "markdown",
   "id": "ethical-builder",
   "metadata": {},
   "source": [
    "### using numpy create a one dimensional array of all two digit numbers and print this array to the console."
   ]
  },
  {
   "cell_type": "markdown",
   "id": "defensive-wichita",
   "metadata": {},
   "source": [
    ">use arange() method"
   ]
  },
  {
   "cell_type": "code",
   "execution_count": 38,
   "id": "nervous-error",
   "metadata": {
    "ExecuteTime": {
     "end_time": "2021-12-07T06:00:41.179800Z",
     "start_time": "2021-12-07T06:00:41.033740Z"
    }
   },
   "outputs": [
    {
     "name": "stdout",
     "output_type": "stream",
     "text": [
      "[10 11 12 13 14 15 16 17 18 19 20 21 22 23 24 25 26 27 28 29 30 31 32 33\n",
      " 34 35 36 37 38 39 40 41 42 43 44 45 46 47 48 49 50 51 52 53 54 55 56 57\n",
      " 58 59 60 61 62 63 64 65 66 67 68 69 70 71 72 73 74 75 76 77 78 79 80 81\n",
      " 82 83 84 85 86 87 88 89 90 91 92 93 94 95 96 97 98 99]\n"
     ]
    }
   ],
   "source": [
    "A=np.arange(10,100)\n",
    "print(A)"
   ]
  },
  {
   "cell_type": "markdown",
   "id": "aquatic-kansas",
   "metadata": {},
   "source": [
    "### using numpy, create the following array"
   ]
  },
  {
   "cell_type": "markdown",
   "id": "radio-disco",
   "metadata": {},
   "source": [
    ">[[10 11 12 13 14 15 16 17 18 19]  \n",
    " [20 21 22 23 24 25 26 27 28 29]  \n",
    " [30 31 32 33 34 35 36 37 38 39]  \n",
    " [40 41 42 43 44 45 46 47 48 49]  \n",
    " [50 51 52 53 54 55 56 57 58 59]  \n",
    " [60 61 62 63 64 65 66 67 68 69]  \n",
    " [70 71 72 73 74 75 76 77 78 79]  \n",
    " [80 81 82 83 84 85 86 87 88 89]  \n",
    " [90 91 92 93 94 95 96 97 98 99]]"
   ]
  },
  {
   "cell_type": "code",
   "execution_count": 39,
   "id": "emerging-tension",
   "metadata": {
    "ExecuteTime": {
     "end_time": "2021-12-07T06:02:06.334625Z",
     "start_time": "2021-12-07T06:02:06.312623Z"
    }
   },
   "outputs": [
    {
     "name": "stdout",
     "output_type": "stream",
     "text": [
      "[[10 11 12 13 14 15 16 17 18 19]\n",
      " [20 21 22 23 24 25 26 27 28 29]\n",
      " [30 31 32 33 34 35 36 37 38 39]\n",
      " [40 41 42 43 44 45 46 47 48 49]\n",
      " [50 51 52 53 54 55 56 57 58 59]\n",
      " [60 61 62 63 64 65 66 67 68 69]\n",
      " [70 71 72 73 74 75 76 77 78 79]\n",
      " [80 81 82 83 84 85 86 87 88 89]\n",
      " [90 91 92 93 94 95 96 97 98 99]]\n"
     ]
    }
   ],
   "source": [
    "print(np.arange(10,100).reshape(9,10))"
   ]
  },
  {
   "cell_type": "code",
   "execution_count": 40,
   "id": "seeing-jewel",
   "metadata": {
    "ExecuteTime": {
     "end_time": "2021-12-07T06:02:20.066076Z",
     "start_time": "2021-12-07T06:02:20.058072Z"
    }
   },
   "outputs": [
    {
     "name": "stdout",
     "output_type": "stream",
     "text": [
      "[[10 11 12 13 14 15 16 17 18 19]\n",
      " [20 21 22 23 24 25 26 27 28 29]\n",
      " [30 31 32 33 34 35 36 37 38 39]\n",
      " [40 41 42 43 44 45 46 47 48 49]\n",
      " [50 51 52 53 54 55 56 57 58 59]\n",
      " [60 61 62 63 64 65 66 67 68 69]\n",
      " [70 71 72 73 74 75 76 77 78 79]\n",
      " [80 81 82 83 84 85 86 87 88 89]\n",
      " [90 91 92 93 94 95 96 97 98 99]]\n"
     ]
    }
   ],
   "source": [
    "print(np.arange(10,100).reshape(-1,10))"
   ]
  },
  {
   "cell_type": "code",
   "execution_count": 41,
   "id": "liberal-insight",
   "metadata": {
    "ExecuteTime": {
     "end_time": "2021-12-07T06:02:34.226370Z",
     "start_time": "2021-12-07T06:02:34.208372Z"
    }
   },
   "outputs": [
    {
     "name": "stdout",
     "output_type": "stream",
     "text": [
      "[[10 11 12 13 14 15 16 17 18 19]\n",
      " [20 21 22 23 24 25 26 27 28 29]\n",
      " [30 31 32 33 34 35 36 37 38 39]\n",
      " [40 41 42 43 44 45 46 47 48 49]\n",
      " [50 51 52 53 54 55 56 57 58 59]\n",
      " [60 61 62 63 64 65 66 67 68 69]\n",
      " [70 71 72 73 74 75 76 77 78 79]\n",
      " [80 81 82 83 84 85 86 87 88 89]\n",
      " [90 91 92 93 94 95 96 97 98 99]]\n"
     ]
    }
   ],
   "source": [
    "print(np.arange(10,100).reshape(9,-1))"
   ]
  },
  {
   "cell_type": "markdown",
   "id": "mathematical-daniel",
   "metadata": {},
   "source": [
    "### using nupy create a 6x6 two dimensional array-identity matrix with int datatype and print to the console"
   ]
  },
  {
   "cell_type": "markdown",
   "id": "fossil-passing",
   "metadata": {},
   "source": [
    ">use eye() or identity()"
   ]
  },
  {
   "cell_type": "code",
   "execution_count": 44,
   "id": "synthetic-hepatitis",
   "metadata": {
    "ExecuteTime": {
     "end_time": "2021-12-07T06:04:00.855179Z",
     "start_time": "2021-12-07T06:04:00.842172Z"
    }
   },
   "outputs": [
    {
     "name": "stdout",
     "output_type": "stream",
     "text": [
      "[[1 0 0 0 0 0]\n",
      " [0 1 0 0 0 0]\n",
      " [0 0 1 0 0 0]\n",
      " [0 0 0 1 0 0]\n",
      " [0 0 0 0 1 0]\n",
      " [0 0 0 0 0 1]]\n"
     ]
    }
   ],
   "source": [
    "print(np.eye(6,dtype=\"int\"))"
   ]
  },
  {
   "cell_type": "code",
   "execution_count": 45,
   "id": "signed-combination",
   "metadata": {
    "ExecuteTime": {
     "end_time": "2021-12-07T06:04:13.016788Z",
     "start_time": "2021-12-07T06:04:12.999778Z"
    }
   },
   "outputs": [
    {
     "name": "stdout",
     "output_type": "stream",
     "text": [
      "[[1 0 0 0 0 0]\n",
      " [0 1 0 0 0 0]\n",
      " [0 0 1 0 0 0]\n",
      " [0 0 0 1 0 0]\n",
      " [0 0 0 0 1 0]\n",
      " [0 0 0 0 0 1]]\n"
     ]
    }
   ],
   "source": [
    "print(np.identity(6,dtype=\"int\"))"
   ]
  },
  {
   "cell_type": "markdown",
   "id": "based-junior",
   "metadata": {},
   "source": [
    "### set the random seed to 10, then using numpy create a one dimensional array consisting of 30 pseudo randomly generated values from the uniform distribution(0,1),print result to the console"
   ]
  },
  {
   "cell_type": "markdown",
   "id": "elegant-opinion",
   "metadata": {},
   "source": [
    ">use rand() method"
   ]
  },
  {
   "cell_type": "code",
   "execution_count": 46,
   "id": "fluid-belly",
   "metadata": {
    "ExecuteTime": {
     "end_time": "2021-12-07T06:05:33.497224Z",
     "start_time": "2021-12-07T06:05:33.458222Z"
    }
   },
   "outputs": [
    {
     "name": "stdout",
     "output_type": "stream",
     "text": [
      "[0.77132064 0.02075195 0.63364823 0.74880388 0.49850701 0.22479665\n",
      " 0.19806286 0.76053071 0.16911084 0.08833981 0.68535982 0.95339335\n",
      " 0.00394827 0.51219226 0.81262096 0.61252607 0.72175532 0.29187607\n",
      " 0.91777412 0.71457578 0.54254437 0.14217005 0.37334076 0.67413362\n",
      " 0.44183317 0.43401399 0.61776698 0.51313824 0.65039718 0.60103895]\n"
     ]
    }
   ],
   "source": [
    "np.random.seed(10)\n",
    "print(np.random.rand(30))"
   ]
  },
  {
   "cell_type": "markdown",
   "id": "upper-clarity",
   "metadata": {},
   "source": [
    "### using numpy create a two dimensional array with the shape (10,4) pseudo-randomly generated values from the standard normal distribution N(0,1).set the random seed to 20,print result to screen."
   ]
  },
  {
   "cell_type": "markdown",
   "id": "timely-dependence",
   "metadata": {},
   "source": [
    ">use randn() method"
   ]
  },
  {
   "cell_type": "code",
   "execution_count": 47,
   "id": "overall-elder",
   "metadata": {
    "ExecuteTime": {
     "end_time": "2021-12-07T06:06:41.151131Z",
     "start_time": "2021-12-07T06:06:41.137131Z"
    }
   },
   "outputs": [
    {
     "name": "stdout",
     "output_type": "stream",
     "text": [
      "[[ 0.88389311  0.19586502  0.35753652 -2.34326191]\n",
      " [-1.08483259  0.55969629  0.93946935 -0.97848104]\n",
      " [ 0.50309684  0.40641447  0.32346101 -0.49341088]\n",
      " [-0.79201679 -0.84236793 -1.27950266  0.24571517]\n",
      " [-0.0441948   1.56763255  1.05110868  0.40636843]\n",
      " [-0.1686461  -3.18970279  1.12013226  1.33277821]\n",
      " [-0.24333877 -0.13003071 -0.10901737  1.55618644]\n",
      " [ 0.12877835 -2.06694872 -0.88549315 -1.10457948]\n",
      " [ 0.93286635  2.059838   -0.93493796 -1.61299022]\n",
      " [ 0.52706972 -1.55110074  0.32961334 -1.13652654]]\n"
     ]
    }
   ],
   "source": [
    "np.random.seed(20)\n",
    "print(np.random.randn(10,4))"
   ]
  },
  {
   "cell_type": "markdown",
   "id": "promising-template",
   "metadata": {},
   "source": [
    "### using numpy create a two dimensional array with the shape (10,4) pseudo-randomly generated values from the standard normal distribution N(100,5).set the random seed to 30,print result to screen."
   ]
  },
  {
   "cell_type": "code",
   "execution_count": 48,
   "id": "disturbed-marking",
   "metadata": {
    "ExecuteTime": {
     "end_time": "2021-12-07T06:14:31.430361Z",
     "start_time": "2021-12-07T06:14:31.420363Z"
    }
   },
   "outputs": [
    {
     "name": "stdout",
     "output_type": "stream",
     "text": [
      "[[ 97.17349231 103.41650023  97.82942436 101.05220329]\n",
      " [ 99.7748353  100.67930221  96.14063068 103.544381  ]\n",
      " [100.30029631  97.52499594 103.52901961 100.24037271]\n",
      " [ 98.29153712  98.2666258  103.09437633 101.70027274]\n",
      " [ 99.36127721 101.20382627  95.34026547 102.09694365]\n",
      " [ 99.98708001  98.95468525  99.05410904 102.38025432]\n",
      " [ 93.50787269 103.61547679 103.18753701  98.51356237]\n",
      " [102.20256689  96.19764407  97.54000366  97.05813038]\n",
      " [101.81233513  97.66380453  98.45883627  98.09317768]\n",
      " [102.48979932  95.70413391  98.43161651 101.89861815]]\n"
     ]
    }
   ],
   "source": [
    "np.random.seed(30)\n",
    "std=np.sqrt(5)\n",
    "mu=100\n",
    "print(std * np.random.randn(10,4)+100)"
   ]
  },
  {
   "cell_type": "markdown",
   "id": "million-paradise",
   "metadata": {},
   "source": [
    "### following array is given, iterate through each item and print to console.\n",
    "[[1 4 3]  \n",
    " [5 2 6]]"
   ]
  },
  {
   "cell_type": "code",
   "execution_count": 2,
   "id": "opened-julian",
   "metadata": {},
   "outputs": [
    {
     "name": "stdout",
     "output_type": "stream",
     "text": [
      "1\n",
      "4\n",
      "3\n",
      "5\n",
      "2\n",
      "6\n"
     ]
    }
   ],
   "source": [
    "arr1 = np.array([[1,4,3],[5,2,6]])\n",
    "for i in np.nditer(arr1):\n",
    "    print(i)"
   ]
  },
  {
   "cell_type": "markdown",
   "id": "institutional-bosnia",
   "metadata": {},
   "source": [
    "### using numpy create a one dimensional array of 11 equally distributed numbers from the interval [0,1]"
   ]
  },
  {
   "cell_type": "markdown",
   "id": "cheap-tiger",
   "metadata": {},
   "source": [
    ">use linspace() method"
   ]
  },
  {
   "cell_type": "code",
   "execution_count": 4,
   "id": "musical-charter",
   "metadata": {},
   "outputs": [
    {
     "name": "stdout",
     "output_type": "stream",
     "text": [
      "[0.  0.1 0.2 0.3 0.4 0.5 0.6 0.7 0.8 0.9 1. ]\n"
     ]
    }
   ],
   "source": [
    "arr2 = np.linspace(0,1,11)\n",
    "print(arr2)"
   ]
  },
  {
   "cell_type": "markdown",
   "id": "royal-albany",
   "metadata": {},
   "source": [
    "### using numpy create a one dimensional array containg the possible result from the *big lotto* game (set random seed to 42)\n",
    ">result of the game is a 6 element vector of values from 1 to 49 both inclusive"
   ]
  },
  {
   "cell_type": "code",
   "execution_count": 6,
   "id": "needed-continent",
   "metadata": {},
   "outputs": [
    {
     "name": "stdout",
     "output_type": "stream",
     "text": [
      "[39 29 15 43  8 21]\n"
     ]
    }
   ],
   "source": [
    "np.random.seed(42)\n",
    "arr3 = np.random.choice(range(1,50),6)\n",
    "print(arr3)"
   ]
  },
  {
   "cell_type": "markdown",
   "id": "conservative-transcription",
   "metadata": {},
   "source": [
    "### using numpy create the following array\n",
    ">[[0 0 0 0 0 0]  \n",
    " [0 1 0 0 0 0]  \n",
    " [0 0 2 0 0 0]  \n",
    " [0 0 0 3 0 0]  \n",
    " [0 0 0 0 4 0]  \n",
    " [0 0 0 0 0 5]]"
   ]
  },
  {
   "cell_type": "markdown",
   "id": "banned-moment",
   "metadata": {},
   "source": [
    ">use diag() method"
   ]
  },
  {
   "cell_type": "code",
   "execution_count": 41,
   "id": "weird-evans",
   "metadata": {},
   "outputs": [
    {
     "name": "stdout",
     "output_type": "stream",
     "text": [
      "[[0 0 0 0 0 0]\n",
      " [0 1 0 0 0 0]\n",
      " [0 0 2 0 0 0]\n",
      " [0 0 0 3 0 0]\n",
      " [0 0 0 0 4 0]\n",
      " [0 0 0 0 0 5]]\n"
     ]
    }
   ],
   "source": [
    "diag1 = np.arange(0,6)\n",
    "arr = np.zeros((6,6))\n",
    "a = np.diag(diag1)\n",
    "print(a)"
   ]
  },
  {
   "cell_type": "markdown",
   "id": "separate-intro",
   "metadata": {},
   "source": [
    "## section- **3**"
   ]
  },
  {
   "cell_type": "markdown",
   "id": "falling-laundry",
   "metadata": {},
   "source": [
    "### using numpy create the following array.save this array to a binary file *'array.npy'* and then load back that file to another variable.print this variable to the console. \n",
    ">[[ 0  1  2  3]  \n",
    " [ 4  5  6  7]  \n",
    " [ 8  9 10 11]]  \n",
    " \n"
   ]
  },
  {
   "cell_type": "markdown",
   "id": "opposed-newcastle",
   "metadata": {},
   "source": [
    ">use save() and load() methods"
   ]
  },
  {
   "cell_type": "code",
   "execution_count": 14,
   "id": "fluid-conversion",
   "metadata": {},
   "outputs": [
    {
     "data": {
      "text/plain": [
       "array([[ 0,  1,  2,  3],\n",
       "       [ 4,  5,  6,  7],\n",
       "       [ 8,  9, 10, 11]])"
      ]
     },
     "execution_count": 14,
     "metadata": {},
     "output_type": "execute_result"
    }
   ],
   "source": [
    "A = np.arange(12).reshape(3,-1)\n",
    "np.save('Array.npy',A)\n",
    "\n",
    "\n",
    "B = np.load('Array.npy')\n",
    "B"
   ]
  },
  {
   "cell_type": "markdown",
   "id": "posted-draft",
   "metadata": {},
   "source": [
    "### using numpy create the following array.save this array to a text file *'array.txt'*  with two decimal point precision and then load back that file to another variable.print this variable to the console. \n",
    ">[[ 0  1  2  3]  \n",
    " [ 4  5  6  7]  \n",
    " [ 8  9 10 11]]  \n",
    " \n"
   ]
  },
  {
   "cell_type": "markdown",
   "id": "uniform-garlic",
   "metadata": {},
   "source": [
    ">use savetxt() and loadtxt() methods"
   ]
  },
  {
   "cell_type": "code",
   "execution_count": 23,
   "id": "collectible-clear",
   "metadata": {},
   "outputs": [
    {
     "name": "stdout",
     "output_type": "stream",
     "text": [
      "[  13.65   45.43   65.56   65.33  787.   1002.  ]\n"
     ]
    }
   ],
   "source": [
    "A = np.array([13.652,45.433,65.5553,65.3324,787,1002])\n",
    "np.savetxt('Array.txt',A,fmt='%0.2f')\n",
    "\n",
    "B = np.loadtxt('Array.txt')\n",
    "print(B)"
   ]
  },
  {
   "cell_type": "markdown",
   "id": "rubber-brief",
   "metadata": {},
   "source": [
    "### using numpy create the following array and convert to a list\n",
    ">[[0, 1, 2, 3],  \n",
    "[4, 5, 6, 7],  \n",
    "[8, 9, 10, 11]]"
   ]
  },
  {
   "cell_type": "markdown",
   "id": "answering-continent",
   "metadata": {},
   "source": [
    ">use tolist() method"
   ]
  },
  {
   "cell_type": "code",
   "execution_count": 33,
   "id": "collect-beach",
   "metadata": {},
   "outputs": [
    {
     "name": "stdout",
     "output_type": "stream",
     "text": [
      "[[0, 1, 2, 3], [4, 5, 6, 7], [8, 9, 10, 11]]\n"
     ]
    }
   ],
   "source": [
    "arr = np.arange(12).reshape(3,4)\n",
    "a = arr.tolist()\n",
    "print(a)\n"
   ]
  },
  {
   "cell_type": "markdown",
   "id": "graphic-johnston",
   "metadata": {},
   "source": [
    "### the following array is given, transform it to the expected output using slice operator and print to the console\n",
    ">[[ 0,  1,  2,  3],  \n",
    "[ 4,  5,  6,  7],  \n",
    "[ 8,  9, 10, 11]]  \n",
    "\n",
    ">expected output\n",
    ">>[[ 8  9 10 11]  \n",
    " [ 4  5  6  7]  \n",
    " [ 0  1  2  3]]"
   ]
  },
  {
   "cell_type": "code",
   "execution_count": 39,
   "id": "optimum-reduction",
   "metadata": {},
   "outputs": [
    {
     "data": {
      "text/plain": [
       "array([[ 3,  2,  1,  0],\n",
       "       [ 7,  6,  5,  4],\n",
       "       [11, 10,  9,  8]])"
      ]
     },
     "execution_count": 39,
     "metadata": {},
     "output_type": "execute_result"
    }
   ],
   "source": [
    "arr = np.arange(12).reshape(3,4)\n",
    "arr[::,::-1]"
   ]
  },
  {
   "cell_type": "markdown",
   "id": "legitimate-valuable",
   "metadata": {},
   "source": [
    ">can acheive same result using flip() too"
   ]
  },
  {
   "cell_type": "code",
   "execution_count": 24,
   "id": "catholic-posting",
   "metadata": {},
   "outputs": [
    {
     "data": {
      "text/plain": [
       "array([[ 8,  9, 10, 11],\n",
       "       [ 4,  5,  6,  7],\n",
       "       [ 0,  1,  2,  3]])"
      ]
     },
     "execution_count": 24,
     "metadata": {},
     "output_type": "execute_result"
    }
   ],
   "source": [
    "arr = np.arange(12).reshape(3,4)\n",
    "np.flip(arr,axis=0)"
   ]
  },
  {
   "cell_type": "markdown",
   "id": "south-mayor",
   "metadata": {},
   "source": [
    "### the following array is given, transform it to the expected output\n",
    ">[[1. 1. 1. 1.]  \n",
    " [1. 1. 1. 1.]  \n",
    " [1. 1. 1. 1.]  \n",
    " [1. 1. 1. 1.]]  \n",
    " \n",
    " >expected output\n",
    " >>[[0. 0. 0. 0. 0. 0.]  \n",
    " [0. 1. 1. 1. 1. 0.]  \n",
    " [0. 1. 1. 1. 1. 0.]  \n",
    " [0. 1. 1. 1. 1. 0.]  \n",
    " [0. 1. 1. 1. 1. 0.]  \n",
    " [0. 0. 0. 0. 0. 0.]]  "
   ]
  },
  {
   "cell_type": "markdown",
   "id": "collect-trial",
   "metadata": {},
   "source": [
    "> use pad() method"
   ]
  },
  {
   "cell_type": "code",
   "execution_count": 31,
   "id": "australian-moment",
   "metadata": {},
   "outputs": [
    {
     "data": {
      "text/plain": [
       "array([[0., 0., 0., 0., 0., 0.],\n",
       "       [0., 1., 1., 1., 1., 0.],\n",
       "       [0., 1., 1., 1., 1., 0.],\n",
       "       [0., 1., 1., 1., 1., 0.],\n",
       "       [0., 1., 1., 1., 1., 0.],\n",
       "       [0., 0., 0., 0., 0., 0.]])"
      ]
     },
     "execution_count": 31,
     "metadata": {},
     "output_type": "execute_result"
    }
   ],
   "source": [
    "arr = np.ones((4,4))\n",
    "np.pad(arr,pad_width=1)"
   ]
  },
  {
   "cell_type": "markdown",
   "id": "wanted-bulgaria",
   "metadata": {},
   "source": [
    "### the following array is given, transform it to the expected output.\n",
    ">[[0 0 0 0 0 0]  \n",
    " [0 0 0 0 0 0]  \n",
    " [0 0 0 0 0 0]  \n",
    " [0 0 0 0 0 0]  \n",
    " [0 0 0 0 0 0]  \n",
    " [0 0 0 0 0 0]]  \n",
    " \n",
    " >expected output\n",
    " >>[[10  0 10  0 10  0]  \n",
    " [ 5  0  5  0  5  0]  \n",
    " [10  0 10  0 10  0]  \n",
    " [ 5  0  5  0  5  0]  \n",
    " [10  0 10  0 10  0]  \n",
    " [ 5  0  5  0  5  0]]  "
   ]
  },
  {
   "cell_type": "code",
   "execution_count": 44,
   "id": "becoming-romance",
   "metadata": {},
   "outputs": [
    {
     "name": "stdout",
     "output_type": "stream",
     "text": [
      "[[10  0 10  0 10  0]\n",
      " [ 5  0  5  0  5  0]\n",
      " [10  0 10  0 10  0]\n",
      " [ 5  0  5  0  5  0]\n",
      " [10  0 10  0 10  0]\n",
      " [ 5  0  5  0  5  0]]\n"
     ]
    }
   ],
   "source": [
    "A = np.zeros((6,6),dtype=np.int32)\n",
    "A[::2,::2] = 10\n",
    "A[1::2,::2] = 5\n",
    "print(A)\n",
    "\n",
    "        "
   ]
  },
  {
   "cell_type": "code",
   "execution_count": 48,
   "id": "f03a1992",
   "metadata": {},
   "outputs": [
    {
     "name": "stdout",
     "output_type": "stream",
     "text": [
      "[[10  0 10  0 10  0]\n",
      " [ 5  0  5  0  5  0]\n",
      " [10  0 10  0 10  0]\n",
      " [ 5  0  5  0  5  0]\n",
      " [10  0 10  0 10  0]\n",
      " [ 5  0  5  0  5  0]]\n"
     ]
    }
   ],
   "source": [
    "A = np.zeros((6,6),dtype=np.int32)\n",
    "for i in range(6):\n",
    "    if i%2==0:\n",
    "        for j in range(6):\n",
    "            if j%2==0:\n",
    "                A[i,j] = 10\n",
    "    else:\n",
    "        for k in range(6):\n",
    "            if k%2==0:\n",
    "                A[i,k] = 5\n",
    "print(A)"
   ]
  },
  {
   "cell_type": "code",
   "execution_count": null,
   "id": "90090629",
   "metadata": {},
   "outputs": [],
   "source": []
  },
  {
   "cell_type": "markdown",
   "id": "bigger-toilet",
   "metadata": {},
   "source": [
    "### combine the following two arrays as one as shown and print to the console\n",
    "```\n",
    "A=np.arange(12).reshape(3,4)\n",
    "B=np.array([[4,3,7,2],\n",
    "            [0,5,2,6]]) ```\n",
    "> expected output\n",
    ">>[[ 0  1  2  3]  \n",
    " [ 4  5  6  7]  \n",
    " [ 8  9 10 11]  \n",
    " [ 4  3  7  2]  \n",
    " [ 0  5  2  6]]  "
   ]
  },
  {
   "cell_type": "markdown",
   "id": "exposed-essay",
   "metadata": {},
   "source": [
    ">use append() method"
   ]
  },
  {
   "cell_type": "code",
   "execution_count": 3,
   "id": "grand-layout",
   "metadata": {},
   "outputs": [
    {
     "data": {
      "text/plain": [
       "array([[ 0,  1,  2,  3],\n",
       "       [ 4,  5,  6,  7],\n",
       "       [ 8,  9, 10, 11],\n",
       "       [ 4,  3,  7,  2],\n",
       "       [ 0,  5,  2,  6]])"
      ]
     },
     "execution_count": 3,
     "metadata": {},
     "output_type": "execute_result"
    }
   ],
   "source": [
    "A=np.arange(12).reshape(3,4)\n",
    "B=np.array([[4,3,7,2],\n",
    "            [0,5,2,6]])\n",
    "np.append(A,B).reshape(5,4)"
   ]
  },
  {
   "cell_type": "markdown",
   "id": "comprehensive-converter",
   "metadata": {},
   "source": [
    "### the following arrays are given, extract the same elements of the arrays as a list and print to the console\n",
    "```\n",
    "A=np.arange(8).reshape(-1,4)\n",
    "B=np.array([[9,10,11,3],\n",
    "            [2,8,0,9]])\n",
    "            ```"
   ]
  },
  {
   "cell_type": "markdown",
   "id": "nutritional-minneapolis",
   "metadata": {},
   "source": [
    ">use intersect1d() method"
   ]
  },
  {
   "cell_type": "code",
   "execution_count": 4,
   "id": "italian-recorder",
   "metadata": {},
   "outputs": [
    {
     "name": "stdout",
     "output_type": "stream",
     "text": [
      "[0 2 3]\n"
     ]
    }
   ],
   "source": [
    "A=np.arange(8).reshape(-1,4)\n",
    "B=np.array([[9,10,11,3],\n",
    "            [2,8,0,9]])\n",
    "print(np.intersect1d(A,B))"
   ]
  },
  {
   "cell_type": "markdown",
   "id": "equivalent-finish",
   "metadata": {},
   "source": [
    "### the following array is given, extract all the unique values and print to the console."
   ]
  },
  {
   "cell_type": "markdown",
   "id": "enclosed-blackjack",
   "metadata": {},
   "source": [
    ">use unique() method"
   ]
  },
  {
   "cell_type": "code",
   "execution_count": 25,
   "id": "similar-woman",
   "metadata": {
    "ExecuteTime": {
     "end_time": "2021-12-07T05:33:07.862456Z",
     "start_time": "2021-12-07T05:33:07.792445Z"
    }
   },
   "outputs": [
    {
     "name": "stdout",
     "output_type": "stream",
     "text": [
      "[[5 1 2 1 2]\n",
      " [9 1 9 7 5]\n",
      " [4 1 5 7 9]]\n"
     ]
    }
   ],
   "source": [
    "np.random.seed(10)\n",
    "A = np.random.randint(low=1, high=10, size=(3, 5))\n",
    "print(A)"
   ]
  },
  {
   "cell_type": "code",
   "execution_count": 26,
   "id": "specific-british",
   "metadata": {},
   "outputs": [
    {
     "name": "stdout",
     "output_type": "stream",
     "text": [
      "[1 2 4 5 7 9]\n"
     ]
    }
   ],
   "source": [
    "print(np.unique(A))"
   ]
  },
  {
   "cell_type": "markdown",
   "id": "imported-oriental",
   "metadata": {},
   "source": [
    "### the following array is given, return a list of indexes with maximum values for each row from this array and print to the console\n",
    "\n",
    ">[[0.4 0.3 0.3]  \n",
    " [0.1 0.1 0.8]  \n",
    " [0.2 0.5 0.3]]"
   ]
  },
  {
   "cell_type": "markdown",
   "id": "fewer-bangladesh",
   "metadata": {},
   "source": [
    ">use argmax() method"
   ]
  },
  {
   "cell_type": "code",
   "execution_count": 51,
   "id": "pediatric-tragedy",
   "metadata": {},
   "outputs": [
    {
     "data": {
      "text/plain": [
       "array([0, 2, 1], dtype=int64)"
      ]
     },
     "execution_count": 51,
     "metadata": {},
     "output_type": "execute_result"
    }
   ],
   "source": [
    "A = np.array([[0.4, 0.3, 0.3],\n",
    "[0.1, 0.1, 0.8],\n",
    "[0.2, 0.5, 0.3]])\n",
    "np.argmax(A,axis=0)"
   ]
  },
  {
   "cell_type": "markdown",
   "id": "offensive-gibson",
   "metadata": {},
   "source": [
    "## section- **4**"
   ]
  },
  {
   "cell_type": "markdown",
   "id": "absolute-trick",
   "metadata": {},
   "source": [
    "### the following array is given, sort this array\n",
    "1.by row(ascending)  \n",
    "2.by coloumn(ascending)\n",
    "\n",
    ">[[ 4.99,  3.49,  9.99],  \n",
    "       [ 1.99,  9.99,  4.99],  \n",
    "       [14.99,  2.39,  7.29]]  "
   ]
  },
  {
   "cell_type": "code",
   "execution_count": 10,
   "id": "quantitative-atlantic",
   "metadata": {},
   "outputs": [
    {
     "name": "stdout",
     "output_type": "stream",
     "text": [
      "[[ 3.49  4.99  9.99]\n",
      " [ 1.99  4.99  9.99]\n",
      " [ 2.39  7.29 14.99]]\n"
     ]
    }
   ],
   "source": [
    "A = np.array([[ 4.99, 3.49, 9.99],\n",
    "[ 1.99, 9.99, 4.99],\n",
    "[14.99, 2.39, 7.29]])\n",
    "B = np.sort(A)\n",
    "print(B)\n",
    "C = np.sort(B)"
   ]
  },
  {
   "cell_type": "markdown",
   "id": "concerned-cassette",
   "metadata": {},
   "source": [
    "### extract all the elements greater than 8 from the following array and print the result to console\n",
    ">[[ 4.99,  3.49,  9.99],  \n",
    "       [ 1.99,  9.99,  4.99],  \n",
    "       [14.99,  2.39,  7.29]]  "
   ]
  },
  {
   "cell_type": "markdown",
   "id": "surgical-politics",
   "metadata": {},
   "source": [
    ">use where() method"
   ]
  },
  {
   "cell_type": "code",
   "execution_count": 23,
   "id": "lovely-theater",
   "metadata": {},
   "outputs": [
    {
     "data": {
      "text/plain": [
       "array([[ 0.  ,  0.  ,  9.99],\n",
       "       [ 0.  ,  9.99,  0.  ],\n",
       "       [14.99,  0.  ,  0.  ]])"
      ]
     },
     "execution_count": 23,
     "metadata": {},
     "output_type": "execute_result"
    }
   ],
   "source": [
    "a = np.array([[ 4.99, 3.49, 9.99],\n",
    "[ 1.99, 9.99, 4.99],\n",
    "[14.99, 2.39, 7.29]])\n",
    "np.where(a>8,a,False)"
   ]
  },
  {
   "cell_type": "markdown",
   "id": "controlling-liechtenstein",
   "metadata": {},
   "source": [
    "### the following array is given, replace the values which are greater than 10, with a fixed value *10.0* and print the array to the screen\n",
    ">[[4.99, 3.49, 9.99],  \n",
    "              [1.99, 9.99, 14.99],  \n",
    "              [14.99, 2.39, 7.29]]"
   ]
  },
  {
   "cell_type": "code",
   "execution_count": 25,
   "id": "bulgarian-amsterdam",
   "metadata": {},
   "outputs": [
    {
     "name": "stdout",
     "output_type": "stream",
     "text": [
      "[[ 4.99  3.49  9.99]\n",
      " [ 1.99  9.99 10.  ]\n",
      " [10.    2.39  7.29]]\n"
     ]
    }
   ],
   "source": [
    "b = np.array([[4.99, 3.49, 9.99],\n",
    "            [1.99, 9.99, 14.99],\n",
    "            [14.99, 2.39, 7.29]])\n",
    "b[b>10]=10.0\n",
    "print(b)"
   ]
  },
  {
   "cell_type": "markdown",
   "id": "sufficient-marina",
   "metadata": {},
   "source": [
    ">same result can be acheived with where() method"
   ]
  },
  {
   "cell_type": "code",
   "execution_count": 26,
   "id": "material-friendship",
   "metadata": {},
   "outputs": [
    {
     "data": {
      "text/plain": [
       "array([[ 4.99,  3.49,  9.99],\n",
       "       [ 1.99,  9.99, 10.  ],\n",
       "       [10.  ,  2.39,  7.29]])"
      ]
     },
     "execution_count": 26,
     "metadata": {},
     "output_type": "execute_result"
    }
   ],
   "source": [
    "np.where(b>10,10.0,b)\n"
   ]
  },
  {
   "cell_type": "markdown",
   "id": "devoted-buffalo",
   "metadata": {},
   "source": [
    "### tranform the following array as a 1D array and print to the screen\n",
    ">[[4.99, 3.49, 9.99],  \n",
    "              [1.99, 9.99, 14.99],  \n",
    "              [14.99, 2.39, 7.29]]"
   ]
  },
  {
   "cell_type": "markdown",
   "id": "insured-singles",
   "metadata": {},
   "source": [
    ">use ravel() method"
   ]
  },
  {
   "cell_type": "code",
   "execution_count": 13,
   "id": "bizarre-gates",
   "metadata": {},
   "outputs": [
    {
     "data": {
      "text/plain": [
       "array([ 4.99,  3.49,  9.99,  1.99,  9.99, 14.99, 14.99,  2.39,  7.29])"
      ]
     },
     "execution_count": 13,
     "metadata": {},
     "output_type": "execute_result"
    }
   ],
   "source": [
    "z= np.array([[4.99, 3.49, 9.99],\n",
    "[1.99, 9.99, 14.99],\n",
    "[14.99, 2.39, 7.29]])\n",
    "np.ravel(z)"
   ]
  },
  {
   "cell_type": "markdown",
   "id": "solid-robertson",
   "metadata": {},
   "source": [
    ">use flatten() method of ndarray"
   ]
  },
  {
   "cell_type": "code",
   "execution_count": 16,
   "id": "photographic-graham",
   "metadata": {},
   "outputs": [
    {
     "data": {
      "text/plain": [
       "array([ 4.99,  3.49,  9.99,  1.99,  9.99, 14.99, 14.99,  2.39,  7.29])"
      ]
     },
     "execution_count": 16,
     "metadata": {},
     "output_type": "execute_result"
    }
   ],
   "source": [
    "z.flatten()"
   ]
  },
  {
   "cell_type": "markdown",
   "id": "statewide-librarian",
   "metadata": {},
   "source": [
    ">use -1 as the shape"
   ]
  },
  {
   "cell_type": "code",
   "execution_count": 24,
   "id": "radio-swedish",
   "metadata": {},
   "outputs": [
    {
     "data": {
      "text/plain": [
       "array([[4.99, 3.49],\n",
       "       [1.99, 9.99]])"
      ]
     },
     "execution_count": 24,
     "metadata": {},
     "output_type": "execute_result"
    }
   ],
   "source": [
    "z[:-1,:-1]"
   ]
  },
  {
   "cell_type": "markdown",
   "id": "blond-scratch",
   "metadata": {},
   "source": [
    "### the following array is given, using numpy create an array of same shape and datatype and fill it with zeros and print to the console.\n",
    ">[[4.99, 3.49, 9.99],  \n",
    "              [1.99, 9.99, 14.99],  \n",
    "              [14.99, 2.39, 7.29]]"
   ]
  },
  {
   "cell_type": "markdown",
   "id": "flexible-cleaners",
   "metadata": {},
   "source": [
    ">use zeros_like() method"
   ]
  },
  {
   "cell_type": "code",
   "execution_count": 25,
   "id": "hollow-cooperation",
   "metadata": {},
   "outputs": [
    {
     "name": "stdout",
     "output_type": "stream",
     "text": [
      "[[0. 0. 0.]\n",
      " [0. 0. 0.]\n",
      " [0. 0. 0.]]\n"
     ]
    }
   ],
   "source": [
    "a = np.array([[4.99, 3.49, 9.99],\n",
    "[1.99, 9.99, 14.99],\n",
    "[14.99, 2.39, 7.29]])\n",
    "print(np.zeros_like(a))"
   ]
  },
  {
   "cell_type": "markdown",
   "id": "musical-melbourne",
   "metadata": {},
   "source": [
    ">use slice operator"
   ]
  },
  {
   "cell_type": "code",
   "execution_count": 27,
   "id": "flying-edinburgh",
   "metadata": {},
   "outputs": [
    {
     "name": "stdout",
     "output_type": "stream",
     "text": [
      "[[0. 0. 0.]\n",
      " [0. 0. 0.]\n",
      " [0. 0. 0.]]\n"
     ]
    }
   ],
   "source": [
    "a[:] = 0.\n",
    "print(a)"
   ]
  },
  {
   "cell_type": "code",
   "execution_count": null,
   "id": "ecf37580",
   "metadata": {},
   "outputs": [],
   "source": []
  }
 ],
 "metadata": {
  "kernelspec": {
   "display_name": "Python 3 (ipykernel)",
   "language": "python",
   "name": "python3"
  },
  "language_info": {
   "codemirror_mode": {
    "name": "ipython",
    "version": 3
   },
   "file_extension": ".py",
   "mimetype": "text/x-python",
   "name": "python",
   "nbconvert_exporter": "python",
   "pygments_lexer": "ipython3",
   "version": "3.9.0"
  },
  "latex_envs": {
   "LaTeX_envs_menu_present": true,
   "autoclose": false,
   "autocomplete": true,
   "bibliofile": "biblio.bib",
   "cite_by": "apalike",
   "current_citInitial": 1,
   "eqLabelWithNumbers": true,
   "eqNumInitial": 1,
   "hotkeys": {
    "equation": "Ctrl-E",
    "itemize": "Ctrl-I"
   },
   "labels_anchors": false,
   "latex_user_defs": false,
   "report_style_numbering": false,
   "user_envs_cfg": false
  },
  "toc": {
   "base_numbering": 1,
   "nav_menu": {},
   "number_sections": true,
   "sideBar": true,
   "skip_h1_title": true,
   "title_cell": "Table of Contents",
   "title_sidebar": "Contents",
   "toc_cell": false,
   "toc_position": {},
   "toc_section_display": true,
   "toc_window_display": true
  },
  "varInspector": {
   "cols": {
    "lenName": 16,
    "lenType": 16,
    "lenVar": 40
   },
   "kernels_config": {
    "python": {
     "delete_cmd_postfix": "",
     "delete_cmd_prefix": "del ",
     "library": "var_list.py",
     "varRefreshCmd": "print(var_dic_list())"
    },
    "r": {
     "delete_cmd_postfix": ") ",
     "delete_cmd_prefix": "rm(",
     "library": "var_list.r",
     "varRefreshCmd": "cat(var_dic_list()) "
    }
   },
   "types_to_exclude": [
    "module",
    "function",
    "builtin_function_or_method",
    "instance",
    "_Feature"
   ],
   "window_display": false
  }
 },
 "nbformat": 4,
 "nbformat_minor": 5
}
