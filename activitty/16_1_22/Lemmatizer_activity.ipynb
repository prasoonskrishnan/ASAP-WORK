{
 "cells": [
  {
   "cell_type": "code",
   "execution_count": 6,
   "id": "a1b4fa50",
   "metadata": {},
   "outputs": [],
   "source": [
    "from nltk import word_tokenize, sent_tokenize\n",
    "import nltk\n",
    "from nltk.corpus import stopwords\n",
    "from nltk.stem import WordNetLemmatizer"
   ]
  },
  {
   "cell_type": "code",
   "execution_count": 7,
   "id": "c0791bbb",
   "metadata": {},
   "outputs": [],
   "source": [
    "string = \"the cat is sitting with the bats on the striped mat under many flying geese.\"\n"
   ]
  },
  {
   "cell_type": "code",
   "execution_count": 8,
   "id": "9ab7d164",
   "metadata": {},
   "outputs": [],
   "source": [
    "token_word = word_tokenize(string)\n"
   ]
  },
  {
   "cell_type": "code",
   "execution_count": 10,
   "id": "aa06cf4a",
   "metadata": {},
   "outputs": [],
   "source": [
    "lemmatizer = WordNetLemmatizer()"
   ]
  },
  {
   "cell_type": "code",
   "execution_count": 11,
   "id": "87e6c93f",
   "metadata": {},
   "outputs": [
    {
     "name": "stdout",
     "output_type": "stream",
     "text": [
      "the cat is sitting with the bat on the striped mat under many flying goose .\n"
     ]
    }
   ],
   "source": [
    "Lan_sent = []\n",
    "for word1 in token_word:\n",
    "    lem_word = lemmatizer.lemmatize(word1)\n",
    "    Lan_sent.append(lem_word)\n",
    "print(' '.join(Lan_sent))"
   ]
  },
  {
   "cell_type": "code",
   "execution_count": null,
   "id": "07fb8df4",
   "metadata": {},
   "outputs": [],
   "source": []
  },
  {
   "cell_type": "code",
   "execution_count": null,
   "id": "76140521",
   "metadata": {},
   "outputs": [],
   "source": []
  }
 ],
 "metadata": {
  "kernelspec": {
   "display_name": "Python 3 (ipykernel)",
   "language": "python",
   "name": "python3"
  },
  "language_info": {
   "codemirror_mode": {
    "name": "ipython",
    "version": 3
   },
   "file_extension": ".py",
   "mimetype": "text/x-python",
   "name": "python",
   "nbconvert_exporter": "python",
   "pygments_lexer": "ipython3",
   "version": "3.9.0"
  }
 },
 "nbformat": 4,
 "nbformat_minor": 5
}
