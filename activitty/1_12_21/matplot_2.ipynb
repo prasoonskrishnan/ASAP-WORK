{
 "cells": [
  {
   "cell_type": "code",
   "execution_count": 1,
   "id": "177eca1a",
   "metadata": {},
   "outputs": [],
   "source": [
    "import matplotlib.pyplot as plt\n",
    "import pandas as pd"
   ]
  },
  {
   "cell_type": "markdown",
   "id": "73dd90b1",
   "metadata": {},
   "source": [
    "United States,46 Great Britain,27 China,26 Russia,19 Germany,17"
   ]
  },
  {
   "cell_type": "code",
   "execution_count": 2,
   "id": "dc10366c",
   "metadata": {},
   "outputs": [],
   "source": [
    "cntry = ['USA','Britain','China','Russia','Germany','India','France','Japan']\n",
    "medals = [46,27,26,19,17,18,35,40]\n",
    "colors =['r','y','g','b','m','c','w','g']"
   ]
  },
  {
   "cell_type": "code",
   "execution_count": 3,
   "id": "0e7dbed4",
   "metadata": {},
   "outputs": [],
   "source": [
    "df = pd.DataFrame(dict(Country=cntry,Medals=medals))"
   ]
  },
  {
   "cell_type": "code",
   "execution_count": 4,
   "id": "dc0e06fb",
   "metadata": {},
   "outputs": [
    {
     "data": {
      "text/html": [
       "<div>\n",
       "<style scoped>\n",
       "    .dataframe tbody tr th:only-of-type {\n",
       "        vertical-align: middle;\n",
       "    }\n",
       "\n",
       "    .dataframe tbody tr th {\n",
       "        vertical-align: top;\n",
       "    }\n",
       "\n",
       "    .dataframe thead th {\n",
       "        text-align: right;\n",
       "    }\n",
       "</style>\n",
       "<table border=\"1\" class=\"dataframe\">\n",
       "  <thead>\n",
       "    <tr style=\"text-align: right;\">\n",
       "      <th></th>\n",
       "      <th>Country</th>\n",
       "      <th>Medals</th>\n",
       "    </tr>\n",
       "  </thead>\n",
       "  <tbody>\n",
       "    <tr>\n",
       "      <th>0</th>\n",
       "      <td>USA</td>\n",
       "      <td>46</td>\n",
       "    </tr>\n",
       "    <tr>\n",
       "      <th>1</th>\n",
       "      <td>Britain</td>\n",
       "      <td>27</td>\n",
       "    </tr>\n",
       "    <tr>\n",
       "      <th>2</th>\n",
       "      <td>China</td>\n",
       "      <td>26</td>\n",
       "    </tr>\n",
       "    <tr>\n",
       "      <th>3</th>\n",
       "      <td>Russia</td>\n",
       "      <td>19</td>\n",
       "    </tr>\n",
       "    <tr>\n",
       "      <th>4</th>\n",
       "      <td>Germany</td>\n",
       "      <td>17</td>\n",
       "    </tr>\n",
       "    <tr>\n",
       "      <th>5</th>\n",
       "      <td>India</td>\n",
       "      <td>18</td>\n",
       "    </tr>\n",
       "    <tr>\n",
       "      <th>6</th>\n",
       "      <td>France</td>\n",
       "      <td>35</td>\n",
       "    </tr>\n",
       "    <tr>\n",
       "      <th>7</th>\n",
       "      <td>Japan</td>\n",
       "      <td>40</td>\n",
       "    </tr>\n",
       "  </tbody>\n",
       "</table>\n",
       "</div>"
      ],
      "text/plain": [
       "   Country  Medals\n",
       "0      USA      46\n",
       "1  Britain      27\n",
       "2    China      26\n",
       "3   Russia      19\n",
       "4  Germany      17\n",
       "5    India      18\n",
       "6   France      35\n",
       "7    Japan      40"
      ]
     },
     "execution_count": 4,
     "metadata": {},
     "output_type": "execute_result"
    }
   ],
   "source": [
    "df"
   ]
  },
  {
   "cell_type": "code",
   "execution_count": 6,
   "id": "ddb23c6b",
   "metadata": {},
   "outputs": [],
   "source": [
    "df2 = df.sort_values('Medals',ascending=False).iloc[:5,:]"
   ]
  },
  {
   "cell_type": "code",
   "execution_count": 7,
   "id": "9ce0af04",
   "metadata": {},
   "outputs": [
    {
     "data": {
      "text/plain": [
       "([<matplotlib.patches.Wedge at 0x16c9f401310>,\n",
       "  <matplotlib.patches.Wedge at 0x16c9f401a90>,\n",
       "  <matplotlib.patches.Wedge at 0x16c9faba1f0>,\n",
       "  <matplotlib.patches.Wedge at 0x16c9faba910>,\n",
       "  <matplotlib.patches.Wedge at 0x16c9fabafd0>],\n",
       " [Text(0.7419281471627147, 0.8121222964847729, 'USA'),\n",
       "  Text(-0.7985950521056505, 0.7564693931365455, 'Japan'),\n",
       "  Text(-0.9104579029550226, -0.6173057645500671, 'France'),\n",
       "  Text(0.1583331943773236, -1.088545175708511, 'Britain'),\n",
       "  Text(0.9810071930404836, -0.49761921908506684, 'China')],\n",
       " [Text(0.4046880802705716, 0.44297579808260334, '26.44%'),\n",
       "  Text(-0.4355973011485366, 0.4126196689835702, '22.99%'),\n",
       "  Text(-0.49661340161183043, -0.33671223520912746, '20.11%'),\n",
       "  Text(0.08636356056944923, -0.593751914022824, '15.52%'),\n",
       "  Text(0.5350948325675364, -0.27142866495549095, '14.94%')])"
      ]
     },
     "execution_count": 7,
     "metadata": {},
     "output_type": "execute_result"
    },
    {
     "data": {
      "image/png": "[encoded data removed]",
      "text/plain": [
       "<Figure size 432x288 with 1 Axes>"
      ]
     },
     "metadata": {},
     "output_type": "display_data"
    }
   ],
   "source": [
    "plt.pie(df2['Medals'],labels=df2['Country'],colors=colors,autopct='%0.2f%%')"
   ]
  },
  {
   "cell_type": "code",
   "execution_count": null,
   "id": "905aed47",
   "metadata": {},
   "outputs": [],
   "source": []
  }
 ],
 "metadata": {
  "kernelspec": {
   "display_name": "Python 3 (ipykernel)",
   "language": "python",
   "name": "python3"
  },
  "language_info": {
   "codemirror_mode": {
    "name": "ipython",
    "version": 3
   },
   "file_extension": ".py",
   "mimetype": "text/x-python",
   "name": "python",
   "nbconvert_exporter": "python",
   "pygments_lexer": "ipython3",
   "version": "3.9.7"
  }
 },
 "nbformat": 4,
 "nbformat_minor": 5
}
