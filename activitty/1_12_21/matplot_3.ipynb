{
 "cells": [
  {
   "cell_type": "code",
   "execution_count": 1,
   "id": "9a1983d8",
   "metadata": {},
   "outputs": [],
   "source": [
    "import matplotlib.pyplot as plt\n",
    "import numpy as np"
   ]
  },
  {
   "cell_type": "code",
   "execution_count": 2,
   "id": "b7a2b56d",
   "metadata": {},
   "outputs": [],
   "source": [
    "men_mean = [22,30,35,35,25]\n",
    "women_mean = [25,32,30,35,29]\n",
    "groups = 5\n"
   ]
  },
  {
   "cell_type": "code",
   "execution_count": 3,
   "id": "86755ca7",
   "metadata": {},
   "outputs": [
    {
     "data": {
      "image/png": "[encoded data removed]",
      "text/plain": [
       "<Figure size 432x288 with 1 Axes>"
      ]
     },
     "metadata": {
      "needs_background": "light"
     },
     "output_type": "display_data"
    }
   ],
   "source": [
    "plt.bar(np.arange(groups),men_mean,color='b',width=0.2,label='men')\n",
    "plt.bar(np.arange(groups)+0.2,women_mean,color='y',width=0.2,label='women')\n",
    "plt.xlabel('Person')\n",
    "plt.ylabel('Score')\n",
    "plt.xticks(np.arange(groups)+0.2,('g1','g2','g3','g4','g5'))\n",
    "plt.legend();"
   ]
  },
  {
   "cell_type": "code",
   "execution_count": null,
   "id": "7028c2d0",
   "metadata": {},
   "outputs": [],
   "source": []
  }
 ],
 "metadata": {
  "kernelspec": {
   "display_name": "Python 3 (ipykernel)",
   "language": "python",
   "name": "python3"
  },
  "language_info": {
   "codemirror_mode": {
    "name": "ipython",
    "version": 3
   },
   "file_extension": ".py",
   "mimetype": "text/x-python",
   "name": "python",
   "nbconvert_exporter": "python",
   "pygments_lexer": "ipython3",
   "version": "3.9.7"
  }
 },
 "nbformat": 4,
 "nbformat_minor": 5
}
