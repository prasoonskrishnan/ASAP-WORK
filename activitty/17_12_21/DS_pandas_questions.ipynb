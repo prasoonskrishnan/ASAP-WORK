{
 "cells": [
  {
   "cell_type": "code",
   "execution_count": 1,
   "id": "bound-monitoring",
   "metadata": {
    "ExecuteTime": {
     "end_time": "2021-12-17T05:37:03.578106Z",
     "start_time": "2021-12-17T05:37:01.845877Z"
    }
   },
   "outputs": [],
   "source": [
    "import pandas as pd\n",
    "import numpy as np"
   ]
  },
  {
   "cell_type": "markdown",
   "id": "valued-dealing",
   "metadata": {},
   "source": [
    "## section- **1**"
   ]
  },
  {
   "cell_type": "markdown",
   "id": "identified-suite",
   "metadata": {},
   "source": [
    "### using pandas, from the list below create a series and print to the console"
   ]
  },
  {
   "cell_type": "markdown",
   "id": "aggregate-aruba",
   "metadata": {},
   "source": [
    ">stocks = ['PLW', 'CDR', '11B', 'TEN']"
   ]
  },
  {
   "cell_type": "code",
   "execution_count": 2,
   "id": "ongoing-least",
   "metadata": {},
   "outputs": [],
   "source": [
    "stocks = pd.Series(['PLW', 'CDR', '11B', 'TEN'])"
   ]
  },
  {
   "cell_type": "code",
   "execution_count": 3,
   "id": "07815640",
   "metadata": {},
   "outputs": [
    {
     "name": "stdout",
     "output_type": "stream",
     "text": [
      "0    PLW\n",
      "1    CDR\n",
      "2    11B\n",
      "3    TEN\n",
      "dtype: object\n"
     ]
    }
   ],
   "source": [
    "print(stocks)"
   ]
  },
  {
   "cell_type": "markdown",
   "id": "forbidden-superior",
   "metadata": {},
   "source": [
    "### using pandas,from the dictionary below create a pandas series and print it to the console"
   ]
  },
  {
   "cell_type": "markdown",
   "id": "meaningful-elimination",
   "metadata": {},
   "source": [
    ">stocks = {'PLW': 387.00, 'CDR': 339.5, 'TEN': 349.5, '11B': 391.0}"
   ]
  },
  {
   "cell_type": "code",
   "execution_count": 4,
   "id": "collectible-major",
   "metadata": {},
   "outputs": [],
   "source": [
    "stocks = {'PLW': 387.00, 'CDR': 339.5, 'TEN': 349.5, '11B': 391.0}\n",
    "series = pd.Series(stocks)"
   ]
  },
  {
   "cell_type": "code",
   "execution_count": 5,
   "id": "b3b57a7e",
   "metadata": {},
   "outputs": [
    {
     "name": "stdout",
     "output_type": "stream",
     "text": [
      "PLW    387.0\n",
      "CDR    339.5\n",
      "TEN    349.5\n",
      "11B    391.0\n",
      "dtype: float64\n"
     ]
    }
   ],
   "source": [
    "print(series)"
   ]
  },
  {
   "cell_type": "markdown",
   "id": "regulation-moderator",
   "metadata": {},
   "source": [
    "### the following series is given,convert it to a python list and print the list to the console."
   ]
  },
  {
   "cell_type": "markdown",
   "id": "surprising-recall",
   "metadata": {},
   "source": [
    ">PLW    387.0  \n",
    "CDR    339.5  \n",
    "TEN    349.5  \n",
    "11B    391.0  \n",
    "dtype: float64"
   ]
  },
  {
   "cell_type": "markdown",
   "id": "musical-engagement",
   "metadata": {},
   "source": [
    ">using tolist()"
   ]
  },
  {
   "cell_type": "code",
   "execution_count": 6,
   "id": "electric-still",
   "metadata": {},
   "outputs": [
    {
     "name": "stdout",
     "output_type": "stream",
     "text": [
      "[387.0, 339.5, 349.5, 391.0]\n"
     ]
    }
   ],
   "source": [
    "print(series.tolist())"
   ]
  },
  {
   "cell_type": "markdown",
   "id": "heavy-animal",
   "metadata": {},
   "source": [
    "### the following series is given, convert it to a dataframe and set the column name to \"price\""
   ]
  },
  {
   "cell_type": "markdown",
   "id": "thermal-cleaners",
   "metadata": {},
   "source": [
    ">PLW    387.0  \n",
    "CDR    339.5  \n",
    "TEN    349.5  \n",
    "11B    391.0  \n",
    "dtype: float64"
   ]
  },
  {
   "cell_type": "code",
   "execution_count": 7,
   "id": "least-sending",
   "metadata": {},
   "outputs": [
    {
     "name": "stdout",
     "output_type": "stream",
     "text": [
      "     price\n",
      "PLW  387.0\n",
      "CDR  339.5\n",
      "TEN  349.5\n",
      "11B  391.0\n"
     ]
    }
   ],
   "source": [
    "df = pd.DataFrame(series,columns=['price'])\n",
    "print(df)"
   ]
  },
  {
   "cell_type": "markdown",
   "id": "norman-religious",
   "metadata": {},
   "source": [
    "### using numpy and pandas, create the following series"
   ]
  },
  {
   "cell_type": "markdown",
   "id": "grand-mission",
   "metadata": {},
   "source": [
    ">101      10.0  \n",
    "102      20.0  \n",
    "103      30.0  \n",
    "104      40.0  \n",
    "105      50.0  \n",
    "106      60.0  \n",
    "107      70.0  \n",
    "108      80.0  \n",
    "109      90.0  \n",
    "dtype: float64"
   ]
  },
  {
   "cell_type": "code",
   "execution_count": 8,
   "id": "brilliant-maintenance",
   "metadata": {},
   "outputs": [],
   "source": [
    "series2 = pd.Series(np.arange(10,100,10),dtype=np.float32,index=np.arange(101,110))"
   ]
  },
  {
   "cell_type": "code",
   "execution_count": 9,
   "id": "bdf9329b",
   "metadata": {},
   "outputs": [
    {
     "name": "stdout",
     "output_type": "stream",
     "text": [
      "101    10.0\n",
      "102    20.0\n",
      "103    30.0\n",
      "104    40.0\n",
      "105    50.0\n",
      "106    60.0\n",
      "107    70.0\n",
      "108    80.0\n",
      "109    90.0\n",
      "dtype: float32\n"
     ]
    }
   ],
   "source": [
    "print(series2)"
   ]
  },
  {
   "cell_type": "markdown",
   "id": "industrial-shore",
   "metadata": {},
   "source": [
    "### following series is given, convert it to int type and print to the console"
   ]
  },
  {
   "cell_type": "markdown",
   "id": "religious-salem",
   "metadata": {},
   "source": [
    "```\n",
    "series = pd.Series(['001', '002', '003', '004'], list('abcd'))\n",
    "```"
   ]
  },
  {
   "cell_type": "markdown",
   "id": "alternative-condition",
   "metadata": {},
   "source": [
    "> using to_numeric()"
   ]
  },
  {
   "cell_type": "code",
   "execution_count": 10,
   "id": "pending-mainstream",
   "metadata": {},
   "outputs": [],
   "source": [
    "series = pd.Series(['001', '002', '003', '004'], list('abcd'))"
   ]
  },
  {
   "cell_type": "code",
   "execution_count": 11,
   "id": "dfbd774a",
   "metadata": {},
   "outputs": [
    {
     "data": {
      "text/plain": [
       "a    1\n",
       "b    2\n",
       "c    3\n",
       "d    4\n",
       "dtype: int64"
      ]
     },
     "execution_count": 11,
     "metadata": {},
     "output_type": "execute_result"
    }
   ],
   "source": [
    "pd.to_numeric(series)"
   ]
  },
  {
   "cell_type": "markdown",
   "id": "professional-entity",
   "metadata": {},
   "source": [
    "> using astype()"
   ]
  },
  {
   "cell_type": "code",
   "execution_count": 12,
   "id": "sorted-protection",
   "metadata": {},
   "outputs": [
    {
     "data": {
      "text/plain": [
       "a    1\n",
       "b    2\n",
       "c    3\n",
       "d    4\n",
       "dtype: int32"
      ]
     },
     "execution_count": 12,
     "metadata": {},
     "output_type": "execute_result"
    }
   ],
   "source": [
    "series.astype(np.int32)"
   ]
  },
  {
   "cell_type": "markdown",
   "id": "sporting-scanner",
   "metadata": {},
   "source": [
    "### the following series is given, add two elements to this series.\n",
    "\n",
    "> key:\"BBT\",value:25.5  \n",
    "key:\"F51\",value:19.2"
   ]
  },
  {
   "cell_type": "markdown",
   "id": "unlike-heavy",
   "metadata": {},
   "source": [
    "```\n",
    "stocks = {'PLW': 387.00, 'CDR': 339.5, 'TEN': 349.5, '11B': 391.0}\n",
    "quotations = pd.Series(data=stocks)\n",
    "```"
   ]
  },
  {
   "cell_type": "markdown",
   "id": "appointed-lunch",
   "metadata": {},
   "source": [
    ">using append()"
   ]
  },
  {
   "cell_type": "code",
   "execution_count": 13,
   "id": "western-married",
   "metadata": {},
   "outputs": [],
   "source": [
    "stocks = {'PLW': 387.00, 'CDR': 339.5, 'TEN': 349.5, '11B': 391.0}\n",
    "quotations = pd.Series(data=stocks)"
   ]
  },
  {
   "cell_type": "code",
   "execution_count": 14,
   "id": "e0031739",
   "metadata": {},
   "outputs": [],
   "source": [
    "df = pd.Series(dict(BBT=25.5,F51=19.2))"
   ]
  },
  {
   "cell_type": "code",
   "execution_count": 15,
   "id": "674126cf",
   "metadata": {},
   "outputs": [
    {
     "data": {
      "text/plain": [
       "PLW    387.0\n",
       "CDR    339.5\n",
       "TEN    349.5\n",
       "11B    391.0\n",
       "BBT     25.5\n",
       "F51     19.2\n",
       "dtype: float64"
      ]
     },
     "execution_count": 15,
     "metadata": {},
     "output_type": "execute_result"
    }
   ],
   "source": [
    "quotations.append(df)"
   ]
  },
  {
   "cell_type": "markdown",
   "id": "appropriate-senior",
   "metadata": {},
   "source": [
    ">using dict key value pairs"
   ]
  },
  {
   "cell_type": "code",
   "execution_count": 16,
   "id": "combined-installation",
   "metadata": {},
   "outputs": [
    {
     "data": {
      "text/plain": [
       "PLW    387.0\n",
       "CDR    339.5\n",
       "TEN    349.5\n",
       "11B    391.0\n",
       "dtype: float64"
      ]
     },
     "execution_count": 16,
     "metadata": {},
     "output_type": "execute_result"
    }
   ],
   "source": [
    "quotations"
   ]
  },
  {
   "cell_type": "code",
   "execution_count": 17,
   "id": "31d73ec3",
   "metadata": {},
   "outputs": [],
   "source": [
    "quotations['BBT']=25.5\n",
    "quotations['F51']=19.2"
   ]
  },
  {
   "cell_type": "code",
   "execution_count": 18,
   "id": "a7ce0854",
   "metadata": {},
   "outputs": [
    {
     "data": {
      "text/plain": [
       "PLW    387.0\n",
       "CDR    339.5\n",
       "TEN    349.5\n",
       "11B    391.0\n",
       "BBT     25.5\n",
       "F51     19.2\n",
       "dtype: float64"
      ]
     },
     "execution_count": 18,
     "metadata": {},
     "output_type": "execute_result"
    }
   ],
   "source": [
    "quotations"
   ]
  },
  {
   "cell_type": "markdown",
   "id": "competitive-research",
   "metadata": {},
   "source": [
    "### the following series is given,convert it to a dataframe and rest the index and set column names to \"ticker\" and \"price\""
   ]
  },
  {
   "cell_type": "markdown",
   "id": "ecological-extension",
   "metadata": {},
   "source": [
    "```\n",
    "stocks = {'PLW': 387.00, 'CDR': 339.5, 'TEN': 349.5, '11B': 391.0, 'BBT': 25.5, 'F51': 19.2}\n",
    "quotations = pd.Series(data=stocks)\n",
    "```"
   ]
  },
  {
   "cell_type": "code",
   "execution_count": 19,
   "id": "otherwise-aquatic",
   "metadata": {},
   "outputs": [],
   "source": [
    "stocks = {'PLW': 387.00, 'CDR': 339.5, 'TEN': 349.5, '11B': 391.0, 'BBT': 25.5, 'F51': 19.2}\n",
    "quotations = pd.Series(data=stocks)"
   ]
  },
  {
   "cell_type": "code",
   "execution_count": 20,
   "id": "46933cd1",
   "metadata": {},
   "outputs": [
    {
     "data": {
      "text/html": [
       "<div>\n",
       "<style scoped>\n",
       "    .dataframe tbody tr th:only-of-type {\n",
       "        vertical-align: middle;\n",
       "    }\n",
       "\n",
       "    .dataframe tbody tr th {\n",
       "        vertical-align: top;\n",
       "    }\n",
       "\n",
       "    .dataframe thead th {\n",
       "        text-align: right;\n",
       "    }\n",
       "</style>\n",
       "<table border=\"1\" class=\"dataframe\">\n",
       "  <thead>\n",
       "    <tr style=\"text-align: right;\">\n",
       "      <th></th>\n",
       "      <th>0</th>\n",
       "    </tr>\n",
       "  </thead>\n",
       "  <tbody>\n",
       "    <tr>\n",
       "      <th>PLW</th>\n",
       "      <td>387.0</td>\n",
       "    </tr>\n",
       "    <tr>\n",
       "      <th>CDR</th>\n",
       "      <td>339.5</td>\n",
       "    </tr>\n",
       "    <tr>\n",
       "      <th>TEN</th>\n",
       "      <td>349.5</td>\n",
       "    </tr>\n",
       "    <tr>\n",
       "      <th>11B</th>\n",
       "      <td>391.0</td>\n",
       "    </tr>\n",
       "    <tr>\n",
       "      <th>BBT</th>\n",
       "      <td>25.5</td>\n",
       "    </tr>\n",
       "    <tr>\n",
       "      <th>F51</th>\n",
       "      <td>19.2</td>\n",
       "    </tr>\n",
       "  </tbody>\n",
       "</table>\n",
       "</div>"
      ],
      "text/plain": [
       "         0\n",
       "PLW  387.0\n",
       "CDR  339.5\n",
       "TEN  349.5\n",
       "11B  391.0\n",
       "BBT   25.5\n",
       "F51   19.2"
      ]
     },
     "execution_count": 20,
     "metadata": {},
     "output_type": "execute_result"
    }
   ],
   "source": [
    "df2 = pd.DataFrame(quotations,index=None)\n",
    "df2"
   ]
  },
  {
   "cell_type": "code",
   "execution_count": null,
   "id": "cf17c974",
   "metadata": {},
   "outputs": [],
   "source": []
  },
  {
   "cell_type": "markdown",
   "id": "devoted-jumping",
   "metadata": {},
   "source": [
    "### create the following dataframe and print to the console"
   ]
  },
  {
   "cell_type": "markdown",
   "id": "certified-transportation",
   "metadata": {},
   "source": [
    "| |company|price|ticker|\n",
    "|---|---|---|---|\n",
    "0|Amazon|2375.0|AMZN.US  \n",
    "1|Microsoft|178.6|MSFT.US  \n",
    "2|Facebook|179.2|FB.US"
   ]
  },
  {
   "cell_type": "code",
   "execution_count": 21,
   "id": "modified-emphasis",
   "metadata": {},
   "outputs": [],
   "source": [
    "df = pd.DataFrame(dict(company=['Amazon','Microsoft','Facebook'],price=[2375.0,178.6,179.2],ticker=['AMZN.US','MSFT.US','FB.US']))"
   ]
  },
  {
   "cell_type": "code",
   "execution_count": 22,
   "id": "01545053",
   "metadata": {},
   "outputs": [
    {
     "name": "stdout",
     "output_type": "stream",
     "text": [
      "     company   price   ticker\n",
      "0     Amazon  2375.0  AMZN.US\n",
      "1  Microsoft   178.6  MSFT.US\n",
      "2   Facebook   179.2    FB.US\n"
     ]
    }
   ],
   "source": [
    "print(df)"
   ]
  },
  {
   "cell_type": "markdown",
   "id": "plastic-footage",
   "metadata": {},
   "source": [
    "### convert the first column of dataframe to index and print to the console"
   ]
  },
  {
   "cell_type": "markdown",
   "id": "flying-auckland",
   "metadata": {},
   "source": [
    "| |company|price|ticker|\n",
    "|---|---|---|---|\n",
    "0|Amazon|2375.0|AMZN.US  \n",
    "1|Microsoft|178.6|MSFT.US  \n",
    "2|Facebook|179.2|FB.US"
   ]
  },
  {
   "cell_type": "code",
   "execution_count": 23,
   "id": "restricted-pacific",
   "metadata": {},
   "outputs": [
    {
     "data": {
      "text/html": [
       "<div>\n",
       "<style scoped>\n",
       "    .dataframe tbody tr th:only-of-type {\n",
       "        vertical-align: middle;\n",
       "    }\n",
       "\n",
       "    .dataframe tbody tr th {\n",
       "        vertical-align: top;\n",
       "    }\n",
       "\n",
       "    .dataframe thead th {\n",
       "        text-align: right;\n",
       "    }\n",
       "</style>\n",
       "<table border=\"1\" class=\"dataframe\">\n",
       "  <thead>\n",
       "    <tr style=\"text-align: right;\">\n",
       "      <th></th>\n",
       "      <th>price</th>\n",
       "      <th>ticker</th>\n",
       "    </tr>\n",
       "    <tr>\n",
       "      <th>company</th>\n",
       "      <th></th>\n",
       "      <th></th>\n",
       "    </tr>\n",
       "  </thead>\n",
       "  <tbody>\n",
       "    <tr>\n",
       "      <th>Amazon</th>\n",
       "      <td>2375.0</td>\n",
       "      <td>AMZN.US</td>\n",
       "    </tr>\n",
       "    <tr>\n",
       "      <th>Microsoft</th>\n",
       "      <td>178.6</td>\n",
       "      <td>MSFT.US</td>\n",
       "    </tr>\n",
       "    <tr>\n",
       "      <th>Facebook</th>\n",
       "      <td>179.2</td>\n",
       "      <td>FB.US</td>\n",
       "    </tr>\n",
       "  </tbody>\n",
       "</table>\n",
       "</div>"
      ],
      "text/plain": [
       "            price   ticker\n",
       "company                   \n",
       "Amazon     2375.0  AMZN.US\n",
       "Microsoft   178.6  MSFT.US\n",
       "Facebook    179.2    FB.US"
      ]
     },
     "execution_count": 23,
     "metadata": {},
     "output_type": "execute_result"
    }
   ],
   "source": [
    "df.set_index('company')"
   ]
  },
  {
   "cell_type": "markdown",
   "id": "lovely-difficulty",
   "metadata": {},
   "source": [
    "## section- **2**"
   ]
  },
  {
   "cell_type": "markdown",
   "id": "defensive-delicious",
   "metadata": {},
   "source": [
    "### create datetimeindex object containg ```yyyy-mm-dd``` format dates for all dates for dec 2021 and print it to the console"
   ]
  },
  {
   "cell_type": "markdown",
   "id": "scientific-mortgage",
   "metadata": {},
   "source": [
    "```\n",
    "DatetimeIndex(['2021-12-01', '2021-12-02', '2021-12-03', '2021-12-04',\n",
    "               '2021-12-05', '2021-12-06', '2021-12-07', '2021-12-08',\n",
    "               '2021-12-09', '2021-12-10', '2021-12-11', '2021-12-12',\n",
    "               '2021-12-13', '2021-12-14', '2021-12-15', '2021-12-16',\n",
    "               '2021-12-17', '2021-12-18', '2021-12-19', '2021-12-20',\n",
    "               '2021-12-21', '2021-12-22', '2021-12-23', '2021-12-24',\n",
    "               '2021-12-25', '2021-12-26', '2021-12-27', '2021-12-28',\n",
    "               '2021-12-29', '2021-12-30', '2021-12-31'],\n",
    "              dtype='datetime64[ns]', freq='D')\n",
    "              ```"
   ]
  },
  {
   "cell_type": "markdown",
   "id": "tight-reward",
   "metadata": {},
   "source": [
    "> using date_range()"
   ]
  },
  {
   "cell_type": "code",
   "execution_count": 24,
   "id": "spectacular-nirvana",
   "metadata": {
    "ExecuteTime": {
     "end_time": "2021-12-17T05:57:13.714764Z",
     "start_time": "2021-12-17T05:57:13.693761Z"
    }
   },
   "outputs": [
    {
     "name": "stdout",
     "output_type": "stream",
     "text": [
      "DatetimeIndex(['2021-12-01', '2021-12-02', '2021-12-03', '2021-12-04',\n",
      "               '2021-12-05', '2021-12-06', '2021-12-07', '2021-12-08',\n",
      "               '2021-12-09', '2021-12-10', '2021-12-11', '2021-12-12',\n",
      "               '2021-12-13', '2021-12-14', '2021-12-15', '2021-12-16',\n",
      "               '2021-12-17', '2021-12-18', '2021-12-19', '2021-12-20',\n",
      "               '2021-12-21', '2021-12-22', '2021-12-23', '2021-12-24',\n",
      "               '2021-12-25', '2021-12-26', '2021-12-27', '2021-12-28',\n",
      "               '2021-12-29', '2021-12-30', '2021-12-31'],\n",
      "              dtype='datetime64[ns]', freq='D')\n"
     ]
    }
   ],
   "source": [
    "date=pd.date_range(start=\"2021-12-01\",periods=31)\n",
    "print(date)"
   ]
  },
  {
   "cell_type": "code",
   "execution_count": null,
   "id": "ordered-blame",
   "metadata": {},
   "outputs": [],
   "source": []
  },
  {
   "cell_type": "markdown",
   "id": "aggregate-space",
   "metadata": {},
   "source": [
    "### create datetimeindex object containg ```yyyy-mm-dd``` format dates for all mondays for 2021 and print it to the console"
   ]
  },
  {
   "cell_type": "markdown",
   "id": "contrary-tribe",
   "metadata": {},
   "source": [
    "```\n",
    "DatetimeIndex(['2021-01-04', '2021-01-11', '2021-01-18', '2021-01-25',\n",
    "               '2021-02-01', '2021-02-08', '2021-02-15', '2021-02-22',\n",
    "               '2021-03-01', '2021-03-08', '2021-03-15', '2021-03-22',\n",
    "               '2021-03-29', '2021-04-05', '2021-04-12', '2021-04-19',\n",
    "               '2021-04-26', '2021-05-03', '2021-05-10', '2021-05-17',\n",
    "               '2021-05-24', '2021-05-31', '2021-06-07', '2021-06-14',\n",
    "               '2021-06-21', '2021-06-28', '2021-07-05', '2021-07-12',\n",
    "               '2021-07-19', '2021-07-26', '2021-08-02', '2021-08-09',\n",
    "               '2021-08-16', '2021-08-23', '2021-08-30', '2021-09-06',\n",
    "               '2021-09-13', '2021-09-20', '2021-09-27', '2021-10-04',\n",
    "               '2021-10-11', '2021-10-18', '2021-10-25', '2021-11-01',\n",
    "               '2021-11-08', '2021-11-15', '2021-11-22', '2021-11-29',\n",
    "               '2021-12-06', '2021-12-13', '2021-12-20', '2021-12-27'],\n",
    "              dtype='datetime64[ns]', freq='W-MON')\n",
    "              ```"
   ]
  },
  {
   "cell_type": "code",
   "execution_count": 27,
   "id": "derived-contractor",
   "metadata": {},
   "outputs": [
    {
     "name": "stdout",
     "output_type": "stream",
     "text": [
      "DatetimeIndex(['2021-01-04', '2021-01-11', '2021-01-18', '2021-01-25',\n",
      "               '2021-02-01', '2021-02-08', '2021-02-15', '2021-02-22',\n",
      "               '2021-03-01', '2021-03-08', '2021-03-15', '2021-03-22',\n",
      "               '2021-03-29', '2021-04-05', '2021-04-12', '2021-04-19',\n",
      "               '2021-04-26', '2021-05-03', '2021-05-10', '2021-05-17',\n",
      "               '2021-05-24', '2021-05-31', '2021-06-07', '2021-06-14',\n",
      "               '2021-06-21', '2021-06-28', '2021-07-05', '2021-07-12',\n",
      "               '2021-07-19', '2021-07-26', '2021-08-02', '2021-08-09',\n",
      "               '2021-08-16', '2021-08-23', '2021-08-30', '2021-09-06',\n",
      "               '2021-09-13', '2021-09-20', '2021-09-27', '2021-10-04',\n",
      "               '2021-10-11', '2021-10-18', '2021-10-25', '2021-11-01',\n",
      "               '2021-11-08', '2021-11-15', '2021-11-22', '2021-11-29',\n",
      "               '2021-12-06', '2021-12-13', '2021-12-20', '2021-12-27'],\n",
      "              dtype='datetime64[ns]', freq='W-MON')\n"
     ]
    }
   ],
   "source": [
    "date=pd.date_range(start=\"2021-01-01\",end='2021-12-31',freq='W-MON')\n",
    "print(date)"
   ]
  },
  {
   "cell_type": "markdown",
   "id": "approved-federal",
   "metadata": {},
   "source": [
    "### create datetimeindex object containg dates in the format```yyyy-mm-dd  hh:mm:ss``` for jan 2021 with a time interval of 1H and print it to the console"
   ]
  },
  {
   "cell_type": "markdown",
   "id": "saved-howard",
   "metadata": {},
   "source": [
    "```\n",
    "DatetimeIndex(['2021-01-01 00:00:00', '2021-01-01 01:00:00',\n",
    "               '2021-01-01 02:00:00', '2021-01-01 03:00:00',\n",
    "               '2021-01-01 04:00:00', '2021-01-01 05:00:00',\n",
    "               '2021-01-01 06:00:00', '2021-01-01 07:00:00',\n",
    "               '2021-01-01 08:00:00', '2021-01-01 09:00:00',\n",
    "               '2021-01-01 10:00:00', '2021-01-01 11:00:00',\n",
    "               '2021-01-01 12:00:00', '2021-01-01 13:00:00',\n",
    "               '2021-01-01 14:00:00', '2021-01-01 15:00:00',\n",
    "               '2021-01-01 16:00:00', '2021-01-01 17:00:00',\n",
    "               '2021-01-01 18:00:00', '2021-01-01 19:00:00',\n",
    "               '2021-01-01 20:00:00', '2021-01-01 21:00:00',\n",
    "               '2021-01-01 22:00:00', '2021-01-01 23:00:00'],\n",
    "              dtype='datetime64[ns]', freq='H')\n",
    "              ```"
   ]
  },
  {
   "cell_type": "code",
   "execution_count": 38,
   "id": "clean-browser",
   "metadata": {},
   "outputs": [
    {
     "name": "stdout",
     "output_type": "stream",
     "text": [
      "DatetimeIndex(['2021-01-01 00:00:00', '2021-01-01 01:00:00',\n",
      "               '2021-01-01 02:00:00', '2021-01-01 03:00:00',\n",
      "               '2021-01-01 04:00:00', '2021-01-01 05:00:00',\n",
      "               '2021-01-01 06:00:00', '2021-01-01 07:00:00',\n",
      "               '2021-01-01 08:00:00', '2021-01-01 09:00:00',\n",
      "               '2021-01-01 10:00:00', '2021-01-01 11:00:00',\n",
      "               '2021-01-01 12:00:00', '2021-01-01 13:00:00',\n",
      "               '2021-01-01 14:00:00', '2021-01-01 15:00:00',\n",
      "               '2021-01-01 16:00:00', '2021-01-01 17:00:00',\n",
      "               '2021-01-01 18:00:00', '2021-01-01 19:00:00',\n",
      "               '2021-01-01 20:00:00', '2021-01-01 21:00:00',\n",
      "               '2021-01-01 22:00:00', '2021-01-01 23:00:00',\n",
      "               '2021-01-02 00:00:00', '2021-01-02 01:00:00',\n",
      "               '2021-01-02 02:00:00', '2021-01-02 03:00:00',\n",
      "               '2021-01-02 04:00:00', '2021-01-02 05:00:00'],\n",
      "              dtype='datetime64[ns]', freq='H')\n"
     ]
    }
   ],
   "source": [
    "date=pd.date_range(start=\"2021-01-01\",periods=30,freq='H')\n",
    "print(date)"
   ]
  },
  {
   "cell_type": "markdown",
   "id": "parliamentary-struggle",
   "metadata": {},
   "source": [
    "### create the following dataframe and print to the console"
   ]
  },
  {
   "cell_type": "markdown",
   "id": "loose-boxing",
   "metadata": {},
   "source": [
    "| |day|day_of_year|\n",
    "|---|---|---|\n",
    "|0|2021-03-01|60|\n",
    "1  |2021-03-02|           61\n",
    "2  |2021-03-03|           62\n",
    "3  |2021-03-04|          63\n",
    "4  |2021-03-05|           64\n",
    "5  |2021-03-06|           65\n",
    "6  |2021-03-07|           66\n",
    "7  |2021-03-08|           67\n",
    "8  |2021-03-09|           68\n",
    "9  |2021-03-10|           69\n",
    "10 |2021-03-11|           70\n",
    "11 |2021-03-12|           71\n",
    "12 |2021-03-13|           72\n",
    "13 |2021-03-14|           73\n",
    "14 |2021-03-15|           74\n",
    "15 |2021-03-16|           75\n",
    "16 |2021-03-17|           76\n",
    "17 |2021-03-18|           77\n",
    "18 |2021-03-19|           78\n",
    "19 |2021-03-20|           79\n",
    "20 |2021-03-21|           80\n",
    "21 |2021-03-22|           81\n",
    "22 |2021-03-23|           82\n",
    "23 |2021-03-24|           83\n",
    "24 |2021-03-25|           84\n",
    "25 |2021-03-26|           85\n",
    "26 |2021-03-27|           86\n",
    "27 |2021-03-28|           87\n",
    "28 |2021-03-29|           88\n",
    "29 |2021-03-30|          89\n",
    "30 |2021-03-31|           90"
   ]
  },
  {
   "cell_type": "code",
   "execution_count": 44,
   "id": "vocational-millennium",
   "metadata": {},
   "outputs": [],
   "source": [
    "date=pd.date_range(start=\"2021-03-01\",periods=31)\n",
    "df1 = pd.DataFrame(dict(day=date,day_of_year=np.arange(60,91)))"
   ]
  },
  {
   "cell_type": "code",
   "execution_count": 45,
   "id": "13cecf60",
   "metadata": {},
   "outputs": [
    {
     "data": {
      "text/html": [
       "<div>\n",
       "<style scoped>\n",
       "    .dataframe tbody tr th:only-of-type {\n",
       "        vertical-align: middle;\n",
       "    }\n",
       "\n",
       "    .dataframe tbody tr th {\n",
       "        vertical-align: top;\n",
       "    }\n",
       "\n",
       "    .dataframe thead th {\n",
       "        text-align: right;\n",
       "    }\n",
       "</style>\n",
       "<table border=\"1\" class=\"dataframe\">\n",
       "  <thead>\n",
       "    <tr style=\"text-align: right;\">\n",
       "      <th></th>\n",
       "      <th>day</th>\n",
       "      <th>day_of_year</th>\n",
       "    </tr>\n",
       "  </thead>\n",
       "  <tbody>\n",
       "    <tr>\n",
       "      <th>0</th>\n",
       "      <td>2021-03-01</td>\n",
       "      <td>60</td>\n",
       "    </tr>\n",
       "    <tr>\n",
       "      <th>1</th>\n",
       "      <td>2021-03-02</td>\n",
       "      <td>61</td>\n",
       "    </tr>\n",
       "    <tr>\n",
       "      <th>2</th>\n",
       "      <td>2021-03-03</td>\n",
       "      <td>62</td>\n",
       "    </tr>\n",
       "    <tr>\n",
       "      <th>3</th>\n",
       "      <td>2021-03-04</td>\n",
       "      <td>63</td>\n",
       "    </tr>\n",
       "    <tr>\n",
       "      <th>4</th>\n",
       "      <td>2021-03-05</td>\n",
       "      <td>64</td>\n",
       "    </tr>\n",
       "    <tr>\n",
       "      <th>5</th>\n",
       "      <td>2021-03-06</td>\n",
       "      <td>65</td>\n",
       "    </tr>\n",
       "    <tr>\n",
       "      <th>6</th>\n",
       "      <td>2021-03-07</td>\n",
       "      <td>66</td>\n",
       "    </tr>\n",
       "    <tr>\n",
       "      <th>7</th>\n",
       "      <td>2021-03-08</td>\n",
       "      <td>67</td>\n",
       "    </tr>\n",
       "    <tr>\n",
       "      <th>8</th>\n",
       "      <td>2021-03-09</td>\n",
       "      <td>68</td>\n",
       "    </tr>\n",
       "    <tr>\n",
       "      <th>9</th>\n",
       "      <td>2021-03-10</td>\n",
       "      <td>69</td>\n",
       "    </tr>\n",
       "    <tr>\n",
       "      <th>10</th>\n",
       "      <td>2021-03-11</td>\n",
       "      <td>70</td>\n",
       "    </tr>\n",
       "    <tr>\n",
       "      <th>11</th>\n",
       "      <td>2021-03-12</td>\n",
       "      <td>71</td>\n",
       "    </tr>\n",
       "    <tr>\n",
       "      <th>12</th>\n",
       "      <td>2021-03-13</td>\n",
       "      <td>72</td>\n",
       "    </tr>\n",
       "    <tr>\n",
       "      <th>13</th>\n",
       "      <td>2021-03-14</td>\n",
       "      <td>73</td>\n",
       "    </tr>\n",
       "    <tr>\n",
       "      <th>14</th>\n",
       "      <td>2021-03-15</td>\n",
       "      <td>74</td>\n",
       "    </tr>\n",
       "    <tr>\n",
       "      <th>15</th>\n",
       "      <td>2021-03-16</td>\n",
       "      <td>75</td>\n",
       "    </tr>\n",
       "    <tr>\n",
       "      <th>16</th>\n",
       "      <td>2021-03-17</td>\n",
       "      <td>76</td>\n",
       "    </tr>\n",
       "    <tr>\n",
       "      <th>17</th>\n",
       "      <td>2021-03-18</td>\n",
       "      <td>77</td>\n",
       "    </tr>\n",
       "    <tr>\n",
       "      <th>18</th>\n",
       "      <td>2021-03-19</td>\n",
       "      <td>78</td>\n",
       "    </tr>\n",
       "    <tr>\n",
       "      <th>19</th>\n",
       "      <td>2021-03-20</td>\n",
       "      <td>79</td>\n",
       "    </tr>\n",
       "    <tr>\n",
       "      <th>20</th>\n",
       "      <td>2021-03-21</td>\n",
       "      <td>80</td>\n",
       "    </tr>\n",
       "    <tr>\n",
       "      <th>21</th>\n",
       "      <td>2021-03-22</td>\n",
       "      <td>81</td>\n",
       "    </tr>\n",
       "    <tr>\n",
       "      <th>22</th>\n",
       "      <td>2021-03-23</td>\n",
       "      <td>82</td>\n",
       "    </tr>\n",
       "    <tr>\n",
       "      <th>23</th>\n",
       "      <td>2021-03-24</td>\n",
       "      <td>83</td>\n",
       "    </tr>\n",
       "    <tr>\n",
       "      <th>24</th>\n",
       "      <td>2021-03-25</td>\n",
       "      <td>84</td>\n",
       "    </tr>\n",
       "    <tr>\n",
       "      <th>25</th>\n",
       "      <td>2021-03-26</td>\n",
       "      <td>85</td>\n",
       "    </tr>\n",
       "    <tr>\n",
       "      <th>26</th>\n",
       "      <td>2021-03-27</td>\n",
       "      <td>86</td>\n",
       "    </tr>\n",
       "    <tr>\n",
       "      <th>27</th>\n",
       "      <td>2021-03-28</td>\n",
       "      <td>87</td>\n",
       "    </tr>\n",
       "    <tr>\n",
       "      <th>28</th>\n",
       "      <td>2021-03-29</td>\n",
       "      <td>88</td>\n",
       "    </tr>\n",
       "    <tr>\n",
       "      <th>29</th>\n",
       "      <td>2021-03-30</td>\n",
       "      <td>89</td>\n",
       "    </tr>\n",
       "    <tr>\n",
       "      <th>30</th>\n",
       "      <td>2021-03-31</td>\n",
       "      <td>90</td>\n",
       "    </tr>\n",
       "  </tbody>\n",
       "</table>\n",
       "</div>"
      ],
      "text/plain": [
       "          day  day_of_year\n",
       "0  2021-03-01           60\n",
       "1  2021-03-02           61\n",
       "2  2021-03-03           62\n",
       "3  2021-03-04           63\n",
       "4  2021-03-05           64\n",
       "5  2021-03-06           65\n",
       "6  2021-03-07           66\n",
       "7  2021-03-08           67\n",
       "8  2021-03-09           68\n",
       "9  2021-03-10           69\n",
       "10 2021-03-11           70\n",
       "11 2021-03-12           71\n",
       "12 2021-03-13           72\n",
       "13 2021-03-14           73\n",
       "14 2021-03-15           74\n",
       "15 2021-03-16           75\n",
       "16 2021-03-17           76\n",
       "17 2021-03-18           77\n",
       "18 2021-03-19           78\n",
       "19 2021-03-20           79\n",
       "20 2021-03-21           80\n",
       "21 2021-03-22           81\n",
       "22 2021-03-23           82\n",
       "23 2021-03-24           83\n",
       "24 2021-03-25           84\n",
       "25 2021-03-26           85\n",
       "26 2021-03-27           86\n",
       "27 2021-03-28           87\n",
       "28 2021-03-29           88\n",
       "29 2021-03-30           89\n",
       "30 2021-03-31           90"
      ]
     },
     "execution_count": 45,
     "metadata": {},
     "output_type": "execute_result"
    }
   ],
   "source": [
    "df1"
   ]
  },
  {
   "cell_type": "markdown",
   "id": "spectacular-ordinary",
   "metadata": {},
   "source": [
    "### create the following dataframe from the given dictionaries and set the index date from jan 01,2020 and print to the console"
   ]
  },
  {
   "cell_type": "markdown",
   "id": "allied-place",
   "metadata": {},
   "source": [
    "| |normal|   uniform|  binomial|\n",
    "|---|---|---|---|\n",
    "|2020-01-01|  0.496714|  0.167483 |        0\n",
    "|2020-01-02| -0.138264|  0.104568|         0\n",
    "|2020-01-03|  0.647689|  0.636430|         0\n",
    "|2020-01-04|  1.523030|  0.706476|         0\n",
    "|2020-01-05| -0.234153|  0.031586|         1\n",
    "| |...|...|...|...\n",
    "|2022-09-22| -0.281100|  0.280683|         1\n",
    "|2022-09-23|  1.797687|  0.206993|         0\n",
    "|2022-09-24|  0.640843|  0.516573|         0\n",
    "|2022-09-25| -0.571179|  0.005506|         1\n",
    "|2022-09-26|  0.572583|  0.007664|         0\n",
    "\n",
    "[1000 rows x 3 columns]"
   ]
  },
  {
   "cell_type": "markdown",
   "id": "still-surprise",
   "metadata": {},
   "source": [
    "```\n",
    "np.random.seed(42)\n",
    "data_dict = {\n",
    "    'normal': np.random.normal(loc=0, scale=1, size=1000),\n",
    "    'uniform': np.random.uniform(low=0, high=1, size=1000),\n",
    "    'binomial': np.random.binomial(n=1, p=0.2, size=1000)\n",
    "}\n",
    "```"
   ]
  },
  {
   "cell_type": "code",
   "execution_count": 46,
   "id": "expressed-enclosure",
   "metadata": {},
   "outputs": [],
   "source": [
    "np.random.seed(42)\n",
    "data_dict = {\n",
    "    'normal': np.random.normal(loc=0, scale=1, size=1000),\n",
    "    'uniform': np.random.uniform(low=0, high=1, size=1000),\n",
    "    'binomial': np.random.binomial(n=1, p=0.2, size=1000)\n",
    "}"
   ]
  },
  {
   "cell_type": "code",
   "execution_count": 52,
   "id": "162c1da2",
   "metadata": {},
   "outputs": [],
   "source": [
    "date=pd.date_range(start=\"2020-01-01\",periods=1000)\n"
   ]
  },
  {
   "cell_type": "code",
   "execution_count": 53,
   "id": "184b2b73",
   "metadata": {},
   "outputs": [
    {
     "data": {
      "text/plain": [
       "(1000, 3)"
      ]
     },
     "execution_count": 53,
     "metadata": {},
     "output_type": "execute_result"
    }
   ],
   "source": [
    "df2.shape"
   ]
  },
  {
   "cell_type": "code",
   "execution_count": 54,
   "id": "aee59546",
   "metadata": {
    "scrolled": true
   },
   "outputs": [],
   "source": [
    "df2 = pd.DataFrame(data_dict,index=[date])"
   ]
  },
  {
   "cell_type": "code",
   "execution_count": 55,
   "id": "e3f0a742",
   "metadata": {},
   "outputs": [
    {
     "data": {
      "text/html": [
       "<div>\n",
       "<style scoped>\n",
       "    .dataframe tbody tr th:only-of-type {\n",
       "        vertical-align: middle;\n",
       "    }\n",
       "\n",
       "    .dataframe tbody tr th {\n",
       "        vertical-align: top;\n",
       "    }\n",
       "\n",
       "    .dataframe thead th {\n",
       "        text-align: right;\n",
       "    }\n",
       "</style>\n",
       "<table border=\"1\" class=\"dataframe\">\n",
       "  <thead>\n",
       "    <tr style=\"text-align: right;\">\n",
       "      <th></th>\n",
       "      <th>normal</th>\n",
       "      <th>uniform</th>\n",
       "      <th>binomial</th>\n",
       "    </tr>\n",
       "  </thead>\n",
       "  <tbody>\n",
       "    <tr>\n",
       "      <th>2020-01-01</th>\n",
       "      <td>0.496714</td>\n",
       "      <td>0.167483</td>\n",
       "      <td>0</td>\n",
       "    </tr>\n",
       "    <tr>\n",
       "      <th>2020-01-02</th>\n",
       "      <td>-0.138264</td>\n",
       "      <td>0.104568</td>\n",
       "      <td>0</td>\n",
       "    </tr>\n",
       "    <tr>\n",
       "      <th>2020-01-03</th>\n",
       "      <td>0.647689</td>\n",
       "      <td>0.636430</td>\n",
       "      <td>0</td>\n",
       "    </tr>\n",
       "    <tr>\n",
       "      <th>2020-01-04</th>\n",
       "      <td>1.523030</td>\n",
       "      <td>0.706476</td>\n",
       "      <td>0</td>\n",
       "    </tr>\n",
       "    <tr>\n",
       "      <th>2020-01-05</th>\n",
       "      <td>-0.234153</td>\n",
       "      <td>0.031586</td>\n",
       "      <td>1</td>\n",
       "    </tr>\n",
       "    <tr>\n",
       "      <th>...</th>\n",
       "      <td>...</td>\n",
       "      <td>...</td>\n",
       "      <td>...</td>\n",
       "    </tr>\n",
       "    <tr>\n",
       "      <th>2022-09-22</th>\n",
       "      <td>-0.281100</td>\n",
       "      <td>0.280683</td>\n",
       "      <td>1</td>\n",
       "    </tr>\n",
       "    <tr>\n",
       "      <th>2022-09-23</th>\n",
       "      <td>1.797687</td>\n",
       "      <td>0.206993</td>\n",
       "      <td>0</td>\n",
       "    </tr>\n",
       "    <tr>\n",
       "      <th>2022-09-24</th>\n",
       "      <td>0.640843</td>\n",
       "      <td>0.516573</td>\n",
       "      <td>0</td>\n",
       "    </tr>\n",
       "    <tr>\n",
       "      <th>2022-09-25</th>\n",
       "      <td>-0.571179</td>\n",
       "      <td>0.005506</td>\n",
       "      <td>1</td>\n",
       "    </tr>\n",
       "    <tr>\n",
       "      <th>2022-09-26</th>\n",
       "      <td>0.572583</td>\n",
       "      <td>0.007664</td>\n",
       "      <td>0</td>\n",
       "    </tr>\n",
       "  </tbody>\n",
       "</table>\n",
       "<p>1000 rows × 3 columns</p>\n",
       "</div>"
      ],
      "text/plain": [
       "              normal   uniform  binomial\n",
       "2020-01-01  0.496714  0.167483         0\n",
       "2020-01-02 -0.138264  0.104568         0\n",
       "2020-01-03  0.647689  0.636430         0\n",
       "2020-01-04  1.523030  0.706476         0\n",
       "2020-01-05 -0.234153  0.031586         1\n",
       "...              ...       ...       ...\n",
       "2022-09-22 -0.281100  0.280683         1\n",
       "2022-09-23  1.797687  0.206993         0\n",
       "2022-09-24  0.640843  0.516573         0\n",
       "2022-09-25 -0.571179  0.005506         1\n",
       "2022-09-26  0.572583  0.007664         0\n",
       "\n",
       "[1000 rows x 3 columns]"
      ]
     },
     "execution_count": 55,
     "metadata": {},
     "output_type": "execute_result"
    }
   ],
   "source": [
    "df2"
   ]
  },
  {
   "cell_type": "markdown",
   "id": "senior-decline",
   "metadata": {},
   "source": [
    "### from the dataframe created for the previous question, print the first ten rows and the an blank line and last five rows to console"
   ]
  },
  {
   "cell_type": "code",
   "execution_count": 73,
   "id": "resident-jason",
   "metadata": {},
   "outputs": [
    {
     "data": {
      "text/html": [
       "<div>\n",
       "<style scoped>\n",
       "    .dataframe tbody tr th:only-of-type {\n",
       "        vertical-align: middle;\n",
       "    }\n",
       "\n",
       "    .dataframe tbody tr th {\n",
       "        vertical-align: top;\n",
       "    }\n",
       "\n",
       "    .dataframe thead th {\n",
       "        text-align: right;\n",
       "    }\n",
       "</style>\n",
       "<table border=\"1\" class=\"dataframe\">\n",
       "  <thead>\n",
       "    <tr style=\"text-align: right;\">\n",
       "      <th></th>\n",
       "      <th>normal</th>\n",
       "      <th>uniform</th>\n",
       "      <th>binomial</th>\n",
       "    </tr>\n",
       "  </thead>\n",
       "  <tbody>\n",
       "    <tr>\n",
       "      <th>0</th>\n",
       "      <td>0.496714</td>\n",
       "      <td>0.167483</td>\n",
       "      <td>0.0</td>\n",
       "    </tr>\n",
       "    <tr>\n",
       "      <th>1</th>\n",
       "      <td>-0.138264</td>\n",
       "      <td>0.104568</td>\n",
       "      <td>0.0</td>\n",
       "    </tr>\n",
       "    <tr>\n",
       "      <th>2</th>\n",
       "      <td>0.647689</td>\n",
       "      <td>0.636430</td>\n",
       "      <td>0.0</td>\n",
       "    </tr>\n",
       "    <tr>\n",
       "      <th>3</th>\n",
       "      <td>1.523030</td>\n",
       "      <td>0.706476</td>\n",
       "      <td>0.0</td>\n",
       "    </tr>\n",
       "    <tr>\n",
       "      <th>4</th>\n",
       "      <td>-0.234153</td>\n",
       "      <td>0.031586</td>\n",
       "      <td>1.0</td>\n",
       "    </tr>\n",
       "    <tr>\n",
       "      <th>5</th>\n",
       "      <td>-0.234137</td>\n",
       "      <td>0.936212</td>\n",
       "      <td>0.0</td>\n",
       "    </tr>\n",
       "    <tr>\n",
       "      <th>6</th>\n",
       "      <td>1.579213</td>\n",
       "      <td>0.051971</td>\n",
       "      <td>0.0</td>\n",
       "    </tr>\n",
       "    <tr>\n",
       "      <th>7</th>\n",
       "      <td>0.767435</td>\n",
       "      <td>0.541296</td>\n",
       "      <td>0.0</td>\n",
       "    </tr>\n",
       "    <tr>\n",
       "      <th>8</th>\n",
       "      <td>-0.469474</td>\n",
       "      <td>0.709061</td>\n",
       "      <td>1.0</td>\n",
       "    </tr>\n",
       "    <tr>\n",
       "      <th>9</th>\n",
       "      <td>0.542560</td>\n",
       "      <td>0.870969</td>\n",
       "      <td>0.0</td>\n",
       "    </tr>\n",
       "    <tr>\n",
       "      <th>10</th>\n",
       "      <td>NaN</td>\n",
       "      <td>NaN</td>\n",
       "      <td>NaN</td>\n",
       "    </tr>\n",
       "    <tr>\n",
       "      <th>6</th>\n",
       "      <td>1.579213</td>\n",
       "      <td>0.051971</td>\n",
       "      <td>0.0</td>\n",
       "    </tr>\n",
       "    <tr>\n",
       "      <th>7</th>\n",
       "      <td>0.767435</td>\n",
       "      <td>0.541296</td>\n",
       "      <td>0.0</td>\n",
       "    </tr>\n",
       "    <tr>\n",
       "      <th>8</th>\n",
       "      <td>-0.469474</td>\n",
       "      <td>0.709061</td>\n",
       "      <td>1.0</td>\n",
       "    </tr>\n",
       "    <tr>\n",
       "      <th>9</th>\n",
       "      <td>0.542560</td>\n",
       "      <td>0.870969</td>\n",
       "      <td>0.0</td>\n",
       "    </tr>\n",
       "    <tr>\n",
       "      <th>10</th>\n",
       "      <td>NaN</td>\n",
       "      <td>NaN</td>\n",
       "      <td>NaN</td>\n",
       "    </tr>\n",
       "  </tbody>\n",
       "</table>\n",
       "</div>"
      ],
      "text/plain": [
       "      normal   uniform  binomial\n",
       "0   0.496714  0.167483       0.0\n",
       "1  -0.138264  0.104568       0.0\n",
       "2   0.647689  0.636430       0.0\n",
       "3   1.523030  0.706476       0.0\n",
       "4  -0.234153  0.031586       1.0\n",
       "5  -0.234137  0.936212       0.0\n",
       "6   1.579213  0.051971       0.0\n",
       "7   0.767435  0.541296       0.0\n",
       "8  -0.469474  0.709061       1.0\n",
       "9   0.542560  0.870969       0.0\n",
       "10       NaN       NaN       NaN\n",
       "6   1.579213  0.051971       0.0\n",
       "7   0.767435  0.541296       0.0\n",
       "8  -0.469474  0.709061       1.0\n",
       "9   0.542560  0.870969       0.0\n",
       "10       NaN       NaN       NaN"
      ]
     },
     "execution_count": 73,
     "metadata": {},
     "output_type": "execute_result"
    }
   ],
   "source": [
    "series = pd.Series(dtype=np.float64)\n",
    "df3 = df2.head(10).append(series,ignore_index=True)\n",
    "df3.append(df3.tail(5))"
   ]
  },
  {
   "cell_type": "markdown",
   "id": "polish-branch",
   "metadata": {},
   "source": [
    "### from the dataframe created for the previous question, print the basic information regarding the dataframe and the a blank line and basic statistical info about dataframe to console"
   ]
  },
  {
   "cell_type": "markdown",
   "id": "tested-jimmy",
   "metadata": {},
   "source": [
    ">use info() and describe()"
   ]
  },
  {
   "cell_type": "code",
   "execution_count": 74,
   "id": "ultimate-philip",
   "metadata": {},
   "outputs": [
    {
     "name": "stdout",
     "output_type": "stream",
     "text": [
      "<class 'pandas.core.frame.DataFrame'>\n",
      "RangeIndex: 11 entries, 0 to 10\n",
      "Data columns (total 3 columns):\n",
      " #   Column    Non-Null Count  Dtype  \n",
      "---  ------    --------------  -----  \n",
      " 0   normal    10 non-null     float64\n",
      " 1   uniform   10 non-null     float64\n",
      " 2   binomial  10 non-null     float64\n",
      "dtypes: float64(3)\n",
      "memory usage: 392.0 bytes\n"
     ]
    }
   ],
   "source": [
    "df3.info()"
   ]
  },
  {
   "cell_type": "code",
   "execution_count": 75,
   "id": "47cafc42",
   "metadata": {},
   "outputs": [
    {
     "data": {
      "text/html": [
       "<div>\n",
       "<style scoped>\n",
       "    .dataframe tbody tr th:only-of-type {\n",
       "        vertical-align: middle;\n",
       "    }\n",
       "\n",
       "    .dataframe tbody tr th {\n",
       "        vertical-align: top;\n",
       "    }\n",
       "\n",
       "    .dataframe thead th {\n",
       "        text-align: right;\n",
       "    }\n",
       "</style>\n",
       "<table border=\"1\" class=\"dataframe\">\n",
       "  <thead>\n",
       "    <tr style=\"text-align: right;\">\n",
       "      <th></th>\n",
       "      <th>normal</th>\n",
       "      <th>uniform</th>\n",
       "      <th>binomial</th>\n",
       "    </tr>\n",
       "  </thead>\n",
       "  <tbody>\n",
       "    <tr>\n",
       "      <th>count</th>\n",
       "      <td>1000.000000</td>\n",
       "      <td>1000.000000</td>\n",
       "      <td>1000.00000</td>\n",
       "    </tr>\n",
       "    <tr>\n",
       "      <th>mean</th>\n",
       "      <td>0.019332</td>\n",
       "      <td>0.503649</td>\n",
       "      <td>0.19200</td>\n",
       "    </tr>\n",
       "    <tr>\n",
       "      <th>std</th>\n",
       "      <td>0.979216</td>\n",
       "      <td>0.288357</td>\n",
       "      <td>0.39407</td>\n",
       "    </tr>\n",
       "    <tr>\n",
       "      <th>min</th>\n",
       "      <td>-3.241267</td>\n",
       "      <td>0.003218</td>\n",
       "      <td>0.00000</td>\n",
       "    </tr>\n",
       "    <tr>\n",
       "      <th>25%</th>\n",
       "      <td>-0.647590</td>\n",
       "      <td>0.247199</td>\n",
       "      <td>0.00000</td>\n",
       "    </tr>\n",
       "    <tr>\n",
       "      <th>50%</th>\n",
       "      <td>0.025301</td>\n",
       "      <td>0.516126</td>\n",
       "      <td>0.00000</td>\n",
       "    </tr>\n",
       "    <tr>\n",
       "      <th>75%</th>\n",
       "      <td>0.647944</td>\n",
       "      <td>0.746319</td>\n",
       "      <td>0.00000</td>\n",
       "    </tr>\n",
       "    <tr>\n",
       "      <th>max</th>\n",
       "      <td>3.852731</td>\n",
       "      <td>0.999414</td>\n",
       "      <td>1.00000</td>\n",
       "    </tr>\n",
       "  </tbody>\n",
       "</table>\n",
       "</div>"
      ],
      "text/plain": [
       "            normal      uniform    binomial\n",
       "count  1000.000000  1000.000000  1000.00000\n",
       "mean      0.019332     0.503649     0.19200\n",
       "std       0.979216     0.288357     0.39407\n",
       "min      -3.241267     0.003218     0.00000\n",
       "25%      -0.647590     0.247199     0.00000\n",
       "50%       0.025301     0.516126     0.00000\n",
       "75%       0.647944     0.746319     0.00000\n",
       "max       3.852731     0.999414     1.00000"
      ]
     },
     "execution_count": 75,
     "metadata": {},
     "output_type": "execute_result"
    }
   ],
   "source": [
    "df2.describe()"
   ]
  },
  {
   "cell_type": "markdown",
   "id": "intermediate-present",
   "metadata": {},
   "source": [
    "### find the distribution of binomial column from the dataframe and print to the console"
   ]
  },
  {
   "cell_type": "markdown",
   "id": "offensive-interface",
   "metadata": {},
   "source": [
    "> use value_counts()"
   ]
  },
  {
   "cell_type": "code",
   "execution_count": 76,
   "id": "public-significance",
   "metadata": {},
   "outputs": [
    {
     "data": {
      "text/plain": [
       "normal     uniform   binomial\n",
       "-0.469474  0.709061  1.0         1\n",
       "-0.234153  0.031586  1.0         1\n",
       "-0.234137  0.936212  0.0         1\n",
       "-0.138264  0.104568  0.0         1\n",
       " 0.496714  0.167483  0.0         1\n",
       " 0.542560  0.870969  0.0         1\n",
       " 0.647689  0.636430  0.0         1\n",
       " 0.767435  0.541296  0.0         1\n",
       " 1.523030  0.706476  0.0         1\n",
       " 1.579213  0.051971  0.0         1\n",
       "dtype: int64"
      ]
     },
     "execution_count": 76,
     "metadata": {},
     "output_type": "execute_result"
    }
   ],
   "source": [
    "df3.value_counts()"
   ]
  },
  {
   "cell_type": "markdown",
   "id": "moved-consequence",
   "metadata": {},
   "source": [
    "### extract the first 50 rows from the dataframe and save to the \"dataframe50.csv\" file"
   ]
  },
  {
   "cell_type": "markdown",
   "id": "natural-navigation",
   "metadata": {},
   "source": [
    ">use to_csv()"
   ]
  },
  {
   "cell_type": "code",
   "execution_count": null,
   "id": "c766e801",
   "metadata": {},
   "outputs": [],
   "source": []
  },
  {
   "cell_type": "code",
   "execution_count": 79,
   "id": "superb-crawford",
   "metadata": {},
   "outputs": [],
   "source": [
    "df3.iloc[:50].to_csv('dataframe50.csv')"
   ]
  },
  {
   "cell_type": "markdown",
   "id": "immune-briefing",
   "metadata": {},
   "source": [
    "### load the \"dataframe50.csv\" to a new variable and print to the console"
   ]
  },
  {
   "cell_type": "code",
   "execution_count": 84,
   "id": "special-debate",
   "metadata": {},
   "outputs": [
    {
     "name": "stdout",
     "output_type": "stream",
     "text": [
      "    Unnamed: 0    normal   uniform  binomial\n",
      "0            0  0.496714  0.167483       0.0\n",
      "1            1 -0.138264  0.104568       0.0\n",
      "2            2  0.647689  0.636430       0.0\n",
      "3            3  1.523030  0.706476       0.0\n",
      "4            4 -0.234153  0.031586       1.0\n",
      "5            5 -0.234137  0.936212       0.0\n",
      "6            6  1.579213  0.051971       0.0\n",
      "7            7  0.767435  0.541296       0.0\n",
      "8            8 -0.469474  0.709061       1.0\n",
      "9            9  0.542560  0.870969       0.0\n",
      "10          10       NaN       NaN       NaN\n"
     ]
    }
   ],
   "source": [
    "a = pd.read_csv('dataframe50.csv')\n",
    "print(a)"
   ]
  },
  {
   "cell_type": "code",
   "execution_count": null,
   "id": "fd4aca1f",
   "metadata": {},
   "outputs": [],
   "source": []
  }
 ],
 "metadata": {
  "kernelspec": {
   "display_name": "Python 3 (ipykernel)",
   "language": "python",
   "name": "python3"
  },
  "language_info": {
   "codemirror_mode": {
    "name": "ipython",
    "version": 3
   },
   "file_extension": ".py",
   "mimetype": "text/x-python",
   "name": "python",
   "nbconvert_exporter": "python",
   "pygments_lexer": "ipython3",
   "version": "3.9.0"
  },
  "latex_envs": {
   "LaTeX_envs_menu_present": true,
   "autoclose": false,
   "autocomplete": true,
   "bibliofile": "biblio.bib",
   "cite_by": "apalike",
   "current_citInitial": 1,
   "eqLabelWithNumbers": true,
   "eqNumInitial": 1,
   "hotkeys": {
    "equation": "Ctrl-E",
    "itemize": "Ctrl-I"
   },
   "labels_anchors": false,
   "latex_user_defs": false,
   "report_style_numbering": false,
   "user_envs_cfg": false
  },
  "toc": {
   "base_numbering": 1,
   "nav_menu": {},
   "number_sections": true,
   "sideBar": true,
   "skip_h1_title": true,
   "title_cell": "Table of Contents",
   "title_sidebar": "Contents",
   "toc_cell": false,
   "toc_position": {},
   "toc_section_display": true,
   "toc_window_display": true
  },
  "varInspector": {
   "cols": {
    "lenName": 16,
    "lenType": 16,
    "lenVar": 40
   },
   "kernels_config": {
    "python": {
     "delete_cmd_postfix": "",
     "delete_cmd_prefix": "del ",
     "library": "var_list.py",
     "varRefreshCmd": "print(var_dic_list())"
    },
    "r": {
     "delete_cmd_postfix": ") ",
     "delete_cmd_prefix": "rm(",
     "library": "var_list.r",
     "varRefreshCmd": "cat(var_dic_list()) "
    }
   },
   "types_to_exclude": [
    "module",
    "function",
    "builtin_function_or_method",
    "instance",
    "_Feature"
   ],
   "window_display": false
  }
 },
 "nbformat": 4,
 "nbformat_minor": 5
}
