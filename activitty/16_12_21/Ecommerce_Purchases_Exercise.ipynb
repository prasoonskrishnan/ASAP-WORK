{
 "cells": [
  {
   "cell_type": "markdown",
   "metadata": {},
   "source": [
    "# Ecommerce Purchases Exercise\n",
    "\n",
    "In this Exercise you will be given some Fake Data about some purchases done through Amazon!\n",
    "Please excuse anything that doesn't make \"Real-World\" sense in the dataframe, all the data is fake and made-up."
   ]
  },
  {
   "cell_type": "markdown",
   "metadata": {},
   "source": [
    "**QN:1**"
   ]
  },
  {
   "cell_type": "markdown",
   "metadata": {},
   "source": [
    "**Import pandas and read in the Ecommerce Purchases csv file and set it to a DataFrame called ecom.**"
   ]
  },
  {
   "cell_type": "code",
   "execution_count": 1,
   "metadata": {},
   "outputs": [],
   "source": [
    "import pandas as pd"
   ]
  },
  {
   "cell_type": "code",
   "execution_count": 3,
   "metadata": {},
   "outputs": [],
   "source": [
    "ecom = pd.read_csv('C:\\\\Users\\\\admin\\\\Documents\\\\document\\\\data science\\\\commerce.csv')"
   ]
  },
  {
   "cell_type": "markdown",
   "metadata": {},
   "source": [
    "**QN:2**"
   ]
  },
  {
   "cell_type": "markdown",
   "metadata": {},
   "source": [
    "**Check the head of the DataFrame.**"
   ]
  },
  {
   "cell_type": "code",
   "execution_count": 4,
   "metadata": {},
   "outputs": [
    {
     "data": {
      "text/html": [
       "<div>\n",
       "<style scoped>\n",
       "    .dataframe tbody tr th:only-of-type {\n",
       "        vertical-align: middle;\n",
       "    }\n",
       "\n",
       "    .dataframe tbody tr th {\n",
       "        vertical-align: top;\n",
       "    }\n",
       "\n",
       "    .dataframe thead th {\n",
       "        text-align: right;\n",
       "    }\n",
       "</style>\n",
       "<table border=\"1\" class=\"dataframe\">\n",
       "  <thead>\n",
       "    <tr style=\"text-align: right;\">\n",
       "      <th></th>\n",
       "      <th>Address</th>\n",
       "      <th>Lot</th>\n",
       "      <th>AM or PM</th>\n",
       "      <th>Browser Info</th>\n",
       "      <th>Company</th>\n",
       "      <th>Credit Card</th>\n",
       "      <th>CC Exp Date</th>\n",
       "      <th>CC Security Code</th>\n",
       "      <th>CC Provider</th>\n",
       "      <th>Email</th>\n",
       "      <th>Job</th>\n",
       "      <th>IP Address</th>\n",
       "      <th>Language</th>\n",
       "      <th>Purchase Price</th>\n",
       "    </tr>\n",
       "  </thead>\n",
       "  <tbody>\n",
       "    <tr>\n",
       "      <th>0</th>\n",
       "      <td>16629 Pace Camp Apt. 448\\nAlexisborough, NE 77...</td>\n",
       "      <td>46 in</td>\n",
       "      <td>PM</td>\n",
       "      <td>Opera/9.56.(X11; Linux x86_64; sl-SI) Presto/2...</td>\n",
       "      <td>Martinez-Herman</td>\n",
       "      <td>6011929061123406</td>\n",
       "      <td>02/20</td>\n",
       "      <td>900</td>\n",
       "      <td>JCB 16 digit</td>\n",
       "      <td>pdunlap@yahoo.com</td>\n",
       "      <td>Scientist, product/process development</td>\n",
       "      <td>149.146.147.205</td>\n",
       "      <td>el</td>\n",
       "      <td>98.14</td>\n",
       "    </tr>\n",
       "    <tr>\n",
       "      <th>1</th>\n",
       "      <td>9374 Jasmine Spurs Suite 508\\nSouth John, TN 8...</td>\n",
       "      <td>28 rn</td>\n",
       "      <td>PM</td>\n",
       "      <td>Opera/8.93.(Windows 98; Win 9x 4.90; en-US) Pr...</td>\n",
       "      <td>Fletcher, Richards and Whitaker</td>\n",
       "      <td>3337758169645356</td>\n",
       "      <td>11/18</td>\n",
       "      <td>561</td>\n",
       "      <td>Mastercard</td>\n",
       "      <td>anthony41@reed.com</td>\n",
       "      <td>Drilling engineer</td>\n",
       "      <td>15.160.41.51</td>\n",
       "      <td>fr</td>\n",
       "      <td>70.73</td>\n",
       "    </tr>\n",
       "    <tr>\n",
       "      <th>2</th>\n",
       "      <td>Unit 0065 Box 5052\\nDPO AP 27450</td>\n",
       "      <td>94 vE</td>\n",
       "      <td>PM</td>\n",
       "      <td>Mozilla/5.0 (compatible; MSIE 9.0; Windows NT ...</td>\n",
       "      <td>Simpson, Williams and Pham</td>\n",
       "      <td>675957666125</td>\n",
       "      <td>08/19</td>\n",
       "      <td>699</td>\n",
       "      <td>JCB 16 digit</td>\n",
       "      <td>amymiller@morales-harrison.com</td>\n",
       "      <td>Customer service manager</td>\n",
       "      <td>132.207.160.22</td>\n",
       "      <td>de</td>\n",
       "      <td>0.95</td>\n",
       "    </tr>\n",
       "    <tr>\n",
       "      <th>3</th>\n",
       "      <td>7780 Julia Fords\\nNew Stacy, WA 45798</td>\n",
       "      <td>36 vm</td>\n",
       "      <td>PM</td>\n",
       "      <td>Mozilla/5.0 (Macintosh; Intel Mac OS X 10_8_0 ...</td>\n",
       "      <td>Williams, Marshall and Buchanan</td>\n",
       "      <td>6011578504430710</td>\n",
       "      <td>02/24</td>\n",
       "      <td>384</td>\n",
       "      <td>Discover</td>\n",
       "      <td>brent16@olson-robinson.info</td>\n",
       "      <td>Drilling engineer</td>\n",
       "      <td>30.250.74.19</td>\n",
       "      <td>es</td>\n",
       "      <td>78.04</td>\n",
       "    </tr>\n",
       "    <tr>\n",
       "      <th>4</th>\n",
       "      <td>23012 Munoz Drive Suite 337\\nNew Cynthia, TX 5...</td>\n",
       "      <td>20 IE</td>\n",
       "      <td>AM</td>\n",
       "      <td>Opera/9.58.(X11; Linux x86_64; it-IT) Presto/2...</td>\n",
       "      <td>Brown, Watson and Andrews</td>\n",
       "      <td>6011456623207998</td>\n",
       "      <td>10/25</td>\n",
       "      <td>678</td>\n",
       "      <td>Diners Club / Carte Blanche</td>\n",
       "      <td>christopherwright@gmail.com</td>\n",
       "      <td>Fine artist</td>\n",
       "      <td>24.140.33.94</td>\n",
       "      <td>es</td>\n",
       "      <td>77.82</td>\n",
       "    </tr>\n",
       "  </tbody>\n",
       "</table>\n",
       "</div>"
      ],
      "text/plain": [
       "                                             Address    Lot AM or PM  \\\n",
       "0  16629 Pace Camp Apt. 448\\nAlexisborough, NE 77...  46 in       PM   \n",
       "1  9374 Jasmine Spurs Suite 508\\nSouth John, TN 8...  28 rn       PM   \n",
       "2                   Unit 0065 Box 5052\\nDPO AP 27450  94 vE       PM   \n",
       "3              7780 Julia Fords\\nNew Stacy, WA 45798  36 vm       PM   \n",
       "4  23012 Munoz Drive Suite 337\\nNew Cynthia, TX 5...  20 IE       AM   \n",
       "\n",
       "                                        Browser Info  \\\n",
       "0  Opera/9.56.(X11; Linux x86_64; sl-SI) Presto/2...   \n",
       "1  Opera/8.93.(Windows 98; Win 9x 4.90; en-US) Pr...   \n",
       "2  Mozilla/5.0 (compatible; MSIE 9.0; Windows NT ...   \n",
       "3  Mozilla/5.0 (Macintosh; Intel Mac OS X 10_8_0 ...   \n",
       "4  Opera/9.58.(X11; Linux x86_64; it-IT) Presto/2...   \n",
       "\n",
       "                           Company       Credit Card CC Exp Date  \\\n",
       "0                  Martinez-Herman  6011929061123406       02/20   \n",
       "1  Fletcher, Richards and Whitaker  3337758169645356       11/18   \n",
       "2       Simpson, Williams and Pham      675957666125       08/19   \n",
       "3  Williams, Marshall and Buchanan  6011578504430710       02/24   \n",
       "4        Brown, Watson and Andrews  6011456623207998       10/25   \n",
       "\n",
       "   CC Security Code                  CC Provider  \\\n",
       "0               900                 JCB 16 digit   \n",
       "1               561                   Mastercard   \n",
       "2               699                 JCB 16 digit   \n",
       "3               384                     Discover   \n",
       "4               678  Diners Club / Carte Blanche   \n",
       "\n",
       "                            Email                                     Job  \\\n",
       "0               pdunlap@yahoo.com  Scientist, product/process development   \n",
       "1              anthony41@reed.com                       Drilling engineer   \n",
       "2  amymiller@morales-harrison.com                Customer service manager   \n",
       "3     brent16@olson-robinson.info                       Drilling engineer   \n",
       "4     christopherwright@gmail.com                             Fine artist   \n",
       "\n",
       "        IP Address Language  Purchase Price  \n",
       "0  149.146.147.205       el           98.14  \n",
       "1     15.160.41.51       fr           70.73  \n",
       "2   132.207.160.22       de            0.95  \n",
       "3     30.250.74.19       es           78.04  \n",
       "4     24.140.33.94       es           77.82  "
      ]
     },
     "execution_count": 4,
     "metadata": {},
     "output_type": "execute_result"
    }
   ],
   "source": [
    "ecom.head()"
   ]
  },
  {
   "cell_type": "markdown",
   "metadata": {},
   "source": [
    "**QN:3**"
   ]
  },
  {
   "cell_type": "markdown",
   "metadata": {},
   "source": [
    "**How many rows and columns are there?**"
   ]
  },
  {
   "cell_type": "code",
   "execution_count": 5,
   "metadata": {},
   "outputs": [
    {
     "name": "stdout",
     "output_type": "stream",
     "text": [
      "<class 'pandas.core.frame.DataFrame'>\n",
      "RangeIndex: 10000 entries, 0 to 9999\n",
      "Data columns (total 14 columns):\n",
      " #   Column            Non-Null Count  Dtype  \n",
      "---  ------            --------------  -----  \n",
      " 0   Address           10000 non-null  object \n",
      " 1   Lot               10000 non-null  object \n",
      " 2   AM or PM          10000 non-null  object \n",
      " 3   Browser Info      10000 non-null  object \n",
      " 4   Company           10000 non-null  object \n",
      " 5   Credit Card       10000 non-null  int64  \n",
      " 6   CC Exp Date       10000 non-null  object \n",
      " 7   CC Security Code  10000 non-null  int64  \n",
      " 8   CC Provider       10000 non-null  object \n",
      " 9   Email             10000 non-null  object \n",
      " 10  Job               10000 non-null  object \n",
      " 11  IP Address        10000 non-null  object \n",
      " 12  Language          10000 non-null  object \n",
      " 13  Purchase Price    10000 non-null  float64\n",
      "dtypes: float64(1), int64(2), object(11)\n",
      "memory usage: 1.1+ MB\n"
     ]
    }
   ],
   "source": [
    "ecom.info()"
   ]
  },
  {
   "cell_type": "code",
   "execution_count": 6,
   "metadata": {},
   "outputs": [
    {
     "data": {
      "text/plain": [
       "(10000, 14)"
      ]
     },
     "execution_count": 6,
     "metadata": {},
     "output_type": "execute_result"
    }
   ],
   "source": [
    "ecom.shape"
   ]
  },
  {
   "cell_type": "markdown",
   "metadata": {},
   "source": [
    "**QN:4**"
   ]
  },
  {
   "cell_type": "markdown",
   "metadata": {},
   "source": [
    "**What is the average Purchase Price?**"
   ]
  },
  {
   "cell_type": "code",
   "execution_count": 6,
   "metadata": {},
   "outputs": [
    {
     "data": {
      "text/plain": [
       "50.34730200000025"
      ]
     },
     "execution_count": 6,
     "metadata": {},
     "output_type": "execute_result"
    }
   ],
   "source": [
    "ecom['Purchase Price'].mean()"
   ]
  },
  {
   "cell_type": "code",
   "execution_count": 90,
   "metadata": {},
   "outputs": [
    {
     "data": {
      "text/plain": [
       "50.34730200000025"
      ]
     },
     "execution_count": 90,
     "metadata": {},
     "output_type": "execute_result"
    }
   ],
   "source": []
  },
  {
   "cell_type": "markdown",
   "metadata": {},
   "source": [
    "**QN:5**"
   ]
  },
  {
   "cell_type": "code",
   "execution_count": null,
   "metadata": {},
   "outputs": [],
   "source": []
  },
  {
   "cell_type": "markdown",
   "metadata": {},
   "source": [
    "**What were the highest and lowest purchase prices?**"
   ]
  },
  {
   "cell_type": "code",
   "execution_count": 9,
   "metadata": {},
   "outputs": [
    {
     "name": "stdout",
     "output_type": "stream",
     "text": [
      "Maximum: 99.99\n"
     ]
    }
   ],
   "source": [
    "max = ecom['Purchase Price'].max()\n",
    "print(f'Maximum: {max}')"
   ]
  },
  {
   "cell_type": "code",
   "execution_count": 11,
   "metadata": {},
   "outputs": [
    {
     "name": "stdout",
     "output_type": "stream",
     "text": [
      "Minimum: 0.0\n"
     ]
    }
   ],
   "source": [
    "min = ecom['Purchase Price'].min()\n",
    "print(f'Minimum: {min}')"
   ]
  },
  {
   "cell_type": "code",
   "execution_count": 92,
   "metadata": {},
   "outputs": [
    {
     "data": {
      "text/plain": [
       "99.989999999999995"
      ]
     },
     "execution_count": 92,
     "metadata": {},
     "output_type": "execute_result"
    }
   ],
   "source": []
  },
  {
   "cell_type": "code",
   "execution_count": 93,
   "metadata": {},
   "outputs": [
    {
     "data": {
      "text/plain": [
       "0.0"
      ]
     },
     "execution_count": 93,
     "metadata": {},
     "output_type": "execute_result"
    }
   ],
   "source": []
  },
  {
   "cell_type": "markdown",
   "metadata": {},
   "source": [
    "**QN:6**"
   ]
  },
  {
   "cell_type": "markdown",
   "metadata": {},
   "source": [
    "**How many people have English 'en' as their Language of choice on the website?**"
   ]
  },
  {
   "cell_type": "code",
   "execution_count": 7,
   "metadata": {},
   "outputs": [
    {
     "data": {
      "text/html": [
       "<div>\n",
       "<style scoped>\n",
       "    .dataframe tbody tr th:only-of-type {\n",
       "        vertical-align: middle;\n",
       "    }\n",
       "\n",
       "    .dataframe tbody tr th {\n",
       "        vertical-align: top;\n",
       "    }\n",
       "\n",
       "    .dataframe thead th {\n",
       "        text-align: right;\n",
       "    }\n",
       "</style>\n",
       "<table border=\"1\" class=\"dataframe\">\n",
       "  <thead>\n",
       "    <tr style=\"text-align: right;\">\n",
       "      <th></th>\n",
       "      <th>Address</th>\n",
       "      <th>Lot</th>\n",
       "      <th>AM or PM</th>\n",
       "      <th>Browser Info</th>\n",
       "      <th>Company</th>\n",
       "      <th>Credit Card</th>\n",
       "      <th>CC Exp Date</th>\n",
       "      <th>CC Security Code</th>\n",
       "      <th>CC Provider</th>\n",
       "      <th>Email</th>\n",
       "      <th>Job</th>\n",
       "      <th>IP Address</th>\n",
       "      <th>Language</th>\n",
       "      <th>Purchase Price</th>\n",
       "    </tr>\n",
       "  </thead>\n",
       "  <tbody>\n",
       "    <tr>\n",
       "      <th>0</th>\n",
       "      <td>16629 Pace Camp Apt. 448\\nAlexisborough, NE 77...</td>\n",
       "      <td>46 in</td>\n",
       "      <td>PM</td>\n",
       "      <td>Opera/9.56.(X11; Linux x86_64; sl-SI) Presto/2...</td>\n",
       "      <td>Martinez-Herman</td>\n",
       "      <td>6011929061123406</td>\n",
       "      <td>02/20</td>\n",
       "      <td>900</td>\n",
       "      <td>JCB 16 digit</td>\n",
       "      <td>pdunlap@yahoo.com</td>\n",
       "      <td>Scientist, product/process development</td>\n",
       "      <td>149.146.147.205</td>\n",
       "      <td>el</td>\n",
       "      <td>98.14</td>\n",
       "    </tr>\n",
       "    <tr>\n",
       "      <th>1</th>\n",
       "      <td>9374 Jasmine Spurs Suite 508\\nSouth John, TN 8...</td>\n",
       "      <td>28 rn</td>\n",
       "      <td>PM</td>\n",
       "      <td>Opera/8.93.(Windows 98; Win 9x 4.90; en-US) Pr...</td>\n",
       "      <td>Fletcher, Richards and Whitaker</td>\n",
       "      <td>3337758169645356</td>\n",
       "      <td>11/18</td>\n",
       "      <td>561</td>\n",
       "      <td>Mastercard</td>\n",
       "      <td>anthony41@reed.com</td>\n",
       "      <td>Drilling engineer</td>\n",
       "      <td>15.160.41.51</td>\n",
       "      <td>fr</td>\n",
       "      <td>70.73</td>\n",
       "    </tr>\n",
       "  </tbody>\n",
       "</table>\n",
       "</div>"
      ],
      "text/plain": [
       "                                             Address    Lot AM or PM  \\\n",
       "0  16629 Pace Camp Apt. 448\\nAlexisborough, NE 77...  46 in       PM   \n",
       "1  9374 Jasmine Spurs Suite 508\\nSouth John, TN 8...  28 rn       PM   \n",
       "\n",
       "                                        Browser Info  \\\n",
       "0  Opera/9.56.(X11; Linux x86_64; sl-SI) Presto/2...   \n",
       "1  Opera/8.93.(Windows 98; Win 9x 4.90; en-US) Pr...   \n",
       "\n",
       "                           Company       Credit Card CC Exp Date  \\\n",
       "0                  Martinez-Herman  6011929061123406       02/20   \n",
       "1  Fletcher, Richards and Whitaker  3337758169645356       11/18   \n",
       "\n",
       "   CC Security Code   CC Provider               Email  \\\n",
       "0               900  JCB 16 digit   pdunlap@yahoo.com   \n",
       "1               561    Mastercard  anthony41@reed.com   \n",
       "\n",
       "                                      Job       IP Address Language  \\\n",
       "0  Scientist, product/process development  149.146.147.205       el   \n",
       "1                       Drilling engineer     15.160.41.51       fr   \n",
       "\n",
       "   Purchase Price  \n",
       "0           98.14  \n",
       "1           70.73  "
      ]
     },
     "execution_count": 7,
     "metadata": {},
     "output_type": "execute_result"
    }
   ],
   "source": [
    "ecom.head(2)"
   ]
  },
  {
   "cell_type": "code",
   "execution_count": 8,
   "metadata": {},
   "outputs": [
    {
     "data": {
      "text/plain": [
       "1098"
      ]
     },
     "execution_count": 8,
     "metadata": {},
     "output_type": "execute_result"
    }
   ],
   "source": [
    "ecom[ecom['Language']=='en']['Language'].count()"
   ]
  },
  {
   "cell_type": "code",
   "execution_count": null,
   "metadata": {
    "scrolled": false
   },
   "outputs": [],
   "source": []
  },
  {
   "cell_type": "markdown",
   "metadata": {},
   "source": [
    "**QN:7**"
   ]
  },
  {
   "cell_type": "markdown",
   "metadata": {},
   "source": [
    "**How many people have the job title of \"Lawyer\" ?**\n"
   ]
  },
  {
   "cell_type": "code",
   "execution_count": 9,
   "metadata": {
    "ExecuteTime": {
     "end_time": "2021-12-16T03:50:30.660619Z",
     "start_time": "2021-12-16T03:50:30.648619Z"
    }
   },
   "outputs": [
    {
     "data": {
      "text/plain": [
       "30"
      ]
     },
     "execution_count": 9,
     "metadata": {},
     "output_type": "execute_result"
    }
   ],
   "source": [
    "ecom[ecom['Job']=='Lawyer']['Job'].count()"
   ]
  },
  {
   "cell_type": "markdown",
   "metadata": {},
   "source": [
    "**QN:8**"
   ]
  },
  {
   "cell_type": "markdown",
   "metadata": {},
   "source": [
    "**How many people made the purchase during the AM and how many people made the purchase during PM ?**\n",
    "\n",
    "**(Hint: Check out [value_counts()](http://pandas.pydata.org/pandas-docs/stable/generated/pandas.Series.value_counts.html) ) **"
   ]
  },
  {
   "cell_type": "code",
   "execution_count": 10,
   "metadata": {},
   "outputs": [
    {
     "name": "stdout",
     "output_type": "stream",
     "text": [
      "purchase in am:4932\n",
      "purchase in pm:5068\n"
     ]
    }
   ],
   "source": [
    "a = ecom[ecom['AM or PM']=='AM']['AM or PM'].count()\n",
    "print(f'purchase in am:{a}')\n",
    "b = ecom[ecom['AM or PM']=='PM']['AM or PM'].count()\n",
    "print(f'purchase in pm:{b}')\n",
    "      "
   ]
  },
  {
   "cell_type": "code",
   "execution_count": null,
   "metadata": {
    "ExecuteTime": {
     "end_time": "2021-12-16T03:54:54.414963Z",
     "start_time": "2021-12-16T03:54:54.393962Z"
    }
   },
   "outputs": [],
   "source": []
  },
  {
   "cell_type": "markdown",
   "metadata": {},
   "source": [
    "**QN:9**"
   ]
  },
  {
   "cell_type": "markdown",
   "metadata": {},
   "source": [
    "**What are the 5 most common Job Titles?**"
   ]
  },
  {
   "cell_type": "code",
   "execution_count": 12,
   "metadata": {},
   "outputs": [
    {
     "data": {
      "text/html": [
       "<div>\n",
       "<style scoped>\n",
       "    .dataframe tbody tr th:only-of-type {\n",
       "        vertical-align: middle;\n",
       "    }\n",
       "\n",
       "    .dataframe tbody tr th {\n",
       "        vertical-align: top;\n",
       "    }\n",
       "\n",
       "    .dataframe thead th {\n",
       "        text-align: right;\n",
       "    }\n",
       "</style>\n",
       "<table border=\"1\" class=\"dataframe\">\n",
       "  <thead>\n",
       "    <tr style=\"text-align: right;\">\n",
       "      <th></th>\n",
       "      <th>Address</th>\n",
       "      <th>Lot</th>\n",
       "      <th>AM or PM</th>\n",
       "      <th>Browser Info</th>\n",
       "      <th>Company</th>\n",
       "      <th>Credit Card</th>\n",
       "      <th>CC Exp Date</th>\n",
       "      <th>CC Security Code</th>\n",
       "      <th>CC Provider</th>\n",
       "      <th>Email</th>\n",
       "      <th>Job</th>\n",
       "      <th>IP Address</th>\n",
       "      <th>Language</th>\n",
       "      <th>Purchase Price</th>\n",
       "    </tr>\n",
       "  </thead>\n",
       "  <tbody>\n",
       "    <tr>\n",
       "      <th>0</th>\n",
       "      <td>16629 Pace Camp Apt. 448\\nAlexisborough, NE 77...</td>\n",
       "      <td>46 in</td>\n",
       "      <td>PM</td>\n",
       "      <td>Opera/9.56.(X11; Linux x86_64; sl-SI) Presto/2...</td>\n",
       "      <td>Martinez-Herman</td>\n",
       "      <td>6011929061123406</td>\n",
       "      <td>02/20</td>\n",
       "      <td>900</td>\n",
       "      <td>JCB 16 digit</td>\n",
       "      <td>pdunlap@yahoo.com</td>\n",
       "      <td>Scientist, product/process development</td>\n",
       "      <td>149.146.147.205</td>\n",
       "      <td>el</td>\n",
       "      <td>98.14</td>\n",
       "    </tr>\n",
       "    <tr>\n",
       "      <th>1</th>\n",
       "      <td>9374 Jasmine Spurs Suite 508\\nSouth John, TN 8...</td>\n",
       "      <td>28 rn</td>\n",
       "      <td>PM</td>\n",
       "      <td>Opera/8.93.(Windows 98; Win 9x 4.90; en-US) Pr...</td>\n",
       "      <td>Fletcher, Richards and Whitaker</td>\n",
       "      <td>3337758169645356</td>\n",
       "      <td>11/18</td>\n",
       "      <td>561</td>\n",
       "      <td>Mastercard</td>\n",
       "      <td>anthony41@reed.com</td>\n",
       "      <td>Drilling engineer</td>\n",
       "      <td>15.160.41.51</td>\n",
       "      <td>fr</td>\n",
       "      <td>70.73</td>\n",
       "    </tr>\n",
       "  </tbody>\n",
       "</table>\n",
       "</div>"
      ],
      "text/plain": [
       "                                             Address    Lot AM or PM  \\\n",
       "0  16629 Pace Camp Apt. 448\\nAlexisborough, NE 77...  46 in       PM   \n",
       "1  9374 Jasmine Spurs Suite 508\\nSouth John, TN 8...  28 rn       PM   \n",
       "\n",
       "                                        Browser Info  \\\n",
       "0  Opera/9.56.(X11; Linux x86_64; sl-SI) Presto/2...   \n",
       "1  Opera/8.93.(Windows 98; Win 9x 4.90; en-US) Pr...   \n",
       "\n",
       "                           Company       Credit Card CC Exp Date  \\\n",
       "0                  Martinez-Herman  6011929061123406       02/20   \n",
       "1  Fletcher, Richards and Whitaker  3337758169645356       11/18   \n",
       "\n",
       "   CC Security Code   CC Provider               Email  \\\n",
       "0               900  JCB 16 digit   pdunlap@yahoo.com   \n",
       "1               561    Mastercard  anthony41@reed.com   \n",
       "\n",
       "                                      Job       IP Address Language  \\\n",
       "0  Scientist, product/process development  149.146.147.205       el   \n",
       "1                       Drilling engineer     15.160.41.51       fr   \n",
       "\n",
       "   Purchase Price  \n",
       "0           98.14  \n",
       "1           70.73  "
      ]
     },
     "execution_count": 12,
     "metadata": {},
     "output_type": "execute_result"
    }
   ],
   "source": [
    "ecom.head(2)"
   ]
  },
  {
   "cell_type": "code",
   "execution_count": 16,
   "metadata": {},
   "outputs": [
    {
     "data": {
      "text/plain": [
       "Interior and spatial designer    31\n",
       "Lawyer                           30\n",
       "Social researcher                28\n",
       "Purchasing manager               27\n",
       "Designer, jewellery              27\n",
       "Name: Job, dtype: int64"
      ]
     },
     "execution_count": 16,
     "metadata": {},
     "output_type": "execute_result"
    }
   ],
   "source": [
    "ecom['Job'].value_counts()[:5]"
   ]
  },
  {
   "cell_type": "code",
   "execution_count": 16,
   "metadata": {
    "ExecuteTime": {
     "end_time": "2021-12-16T03:56:57.280314Z",
     "start_time": "2021-12-16T03:56:57.262315Z"
    },
    "scrolled": true
   },
   "outputs": [
    {
     "data": {
      "text/plain": [
       "Interior and spatial designer    31\n",
       "Lawyer                           30\n",
       "Social researcher                28\n",
       "Purchasing manager               27\n",
       "Designer, jewellery              27\n",
       "Name: Job, dtype: int64"
      ]
     },
     "execution_count": 16,
     "metadata": {},
     "output_type": "execute_result"
    }
   ],
   "source": []
  },
  {
   "cell_type": "markdown",
   "metadata": {},
   "source": [
    "**QN:10**"
   ]
  },
  {
   "cell_type": "markdown",
   "metadata": {},
   "source": [
    "**Someone made a purchase that came from Lot: \"90 WT\" , what was the Purchase Price for this transaction?**"
   ]
  },
  {
   "cell_type": "code",
   "execution_count": 19,
   "metadata": {},
   "outputs": [
    {
     "data": {
      "text/plain": [
       "513    75.1\n",
       "Name: Purchase Price, dtype: float64"
      ]
     },
     "execution_count": 19,
     "metadata": {},
     "output_type": "execute_result"
    }
   ],
   "source": [
    "ecom[ecom['Lot']=='90 WT']['Purchase Price']"
   ]
  },
  {
   "cell_type": "code",
   "execution_count": 99,
   "metadata": {},
   "outputs": [
    {
     "data": {
      "text/plain": [
       "513    75.1\n",
       "Name: Purchase Price, dtype: float64"
      ]
     },
     "execution_count": 99,
     "metadata": {},
     "output_type": "execute_result"
    }
   ],
   "source": []
  },
  {
   "cell_type": "markdown",
   "metadata": {},
   "source": [
    "**QN:11**"
   ]
  },
  {
   "cell_type": "markdown",
   "metadata": {},
   "source": [
    "**What is the email of the person with the following Credit Card Number: 4926535242672853**"
   ]
  },
  {
   "cell_type": "code",
   "execution_count": 20,
   "metadata": {},
   "outputs": [
    {
     "data": {
      "text/plain": [
       "1234    bondellen@williams-garza.com\n",
       "Name: Email, dtype: object"
      ]
     },
     "execution_count": 20,
     "metadata": {},
     "output_type": "execute_result"
    }
   ],
   "source": [
    "ecom[ecom['Credit Card']==4926535242672853]['Email']"
   ]
  },
  {
   "cell_type": "code",
   "execution_count": 100,
   "metadata": {},
   "outputs": [
    {
     "data": {
      "text/plain": [
       "1234    bondellen@williams-garza.com\n",
       "Name: Email, dtype: object"
      ]
     },
     "execution_count": 100,
     "metadata": {},
     "output_type": "execute_result"
    }
   ],
   "source": []
  },
  {
   "cell_type": "markdown",
   "metadata": {},
   "source": [
    "**QN:12**"
   ]
  },
  {
   "cell_type": "markdown",
   "metadata": {},
   "source": [
    "**How many people have American Express as their Credit Card Provider *and* made a purchase above $95?**"
   ]
  },
  {
   "cell_type": "code",
   "execution_count": 21,
   "metadata": {},
   "outputs": [
    {
     "data": {
      "text/html": [
       "<div>\n",
       "<style scoped>\n",
       "    .dataframe tbody tr th:only-of-type {\n",
       "        vertical-align: middle;\n",
       "    }\n",
       "\n",
       "    .dataframe tbody tr th {\n",
       "        vertical-align: top;\n",
       "    }\n",
       "\n",
       "    .dataframe thead th {\n",
       "        text-align: right;\n",
       "    }\n",
       "</style>\n",
       "<table border=\"1\" class=\"dataframe\">\n",
       "  <thead>\n",
       "    <tr style=\"text-align: right;\">\n",
       "      <th></th>\n",
       "      <th>Address</th>\n",
       "      <th>Lot</th>\n",
       "      <th>AM or PM</th>\n",
       "      <th>Browser Info</th>\n",
       "      <th>Company</th>\n",
       "      <th>Credit Card</th>\n",
       "      <th>CC Exp Date</th>\n",
       "      <th>CC Security Code</th>\n",
       "      <th>CC Provider</th>\n",
       "      <th>Email</th>\n",
       "      <th>Job</th>\n",
       "      <th>IP Address</th>\n",
       "      <th>Language</th>\n",
       "      <th>Purchase Price</th>\n",
       "    </tr>\n",
       "  </thead>\n",
       "  <tbody>\n",
       "    <tr>\n",
       "      <th>0</th>\n",
       "      <td>16629 Pace Camp Apt. 448\\nAlexisborough, NE 77...</td>\n",
       "      <td>46 in</td>\n",
       "      <td>PM</td>\n",
       "      <td>Opera/9.56.(X11; Linux x86_64; sl-SI) Presto/2...</td>\n",
       "      <td>Martinez-Herman</td>\n",
       "      <td>6011929061123406</td>\n",
       "      <td>02/20</td>\n",
       "      <td>900</td>\n",
       "      <td>JCB 16 digit</td>\n",
       "      <td>pdunlap@yahoo.com</td>\n",
       "      <td>Scientist, product/process development</td>\n",
       "      <td>149.146.147.205</td>\n",
       "      <td>el</td>\n",
       "      <td>98.14</td>\n",
       "    </tr>\n",
       "  </tbody>\n",
       "</table>\n",
       "</div>"
      ],
      "text/plain": [
       "                                             Address    Lot AM or PM  \\\n",
       "0  16629 Pace Camp Apt. 448\\nAlexisborough, NE 77...  46 in       PM   \n",
       "\n",
       "                                        Browser Info          Company  \\\n",
       "0  Opera/9.56.(X11; Linux x86_64; sl-SI) Presto/2...  Martinez-Herman   \n",
       "\n",
       "        Credit Card CC Exp Date  CC Security Code   CC Provider  \\\n",
       "0  6011929061123406       02/20               900  JCB 16 digit   \n",
       "\n",
       "               Email                                     Job       IP Address  \\\n",
       "0  pdunlap@yahoo.com  Scientist, product/process development  149.146.147.205   \n",
       "\n",
       "  Language  Purchase Price  \n",
       "0       el           98.14  "
      ]
     },
     "execution_count": 21,
     "metadata": {},
     "output_type": "execute_result"
    }
   ],
   "source": [
    "ecom.head(1)"
   ]
  },
  {
   "cell_type": "code",
   "execution_count": 33,
   "metadata": {},
   "outputs": [],
   "source": [
    "a = ecom[ecom['CC Provider']=='American Express']"
   ]
  },
  {
   "cell_type": "code",
   "execution_count": 34,
   "metadata": {
    "collapsed": true
   },
   "outputs": [
    {
     "data": {
      "text/plain": [
       "Address             39\n",
       "Lot                 39\n",
       "AM or PM            39\n",
       "Browser Info        39\n",
       "Company             39\n",
       "Credit Card         39\n",
       "CC Exp Date         39\n",
       "CC Security Code    39\n",
       "CC Provider         39\n",
       "Email               39\n",
       "Job                 39\n",
       "IP Address          39\n",
       "Language            39\n",
       "Purchase Price      39\n",
       "dtype: int64"
      ]
     },
     "execution_count": 34,
     "metadata": {},
     "output_type": "execute_result"
    }
   ],
   "source": [
    "a[a['Purchase Price']>95].count()"
   ]
  },
  {
   "cell_type": "code",
   "execution_count": 101,
   "metadata": {
    "collapsed": true
   },
   "outputs": [
    {
     "data": {
      "text/plain": [
       "Address             39\n",
       "Lot                 39\n",
       "AM or PM            39\n",
       "Browser Info        39\n",
       "Company             39\n",
       "Credit Card         39\n",
       "CC Exp Date         39\n",
       "CC Security Code    39\n",
       "CC Provider         39\n",
       "Email               39\n",
       "Job                 39\n",
       "IP Address          39\n",
       "Language            39\n",
       "Purchase Price      39\n",
       "dtype: int64"
      ]
     },
     "execution_count": 101,
     "metadata": {},
     "output_type": "execute_result"
    }
   ],
   "source": []
  },
  {
   "cell_type": "markdown",
   "metadata": {},
   "source": [
    "**QN:13**"
   ]
  },
  {
   "cell_type": "markdown",
   "metadata": {},
   "source": [
    "**Hard: How many people have a credit card that expires in 2025?**"
   ]
  },
  {
   "cell_type": "code",
   "execution_count": 43,
   "metadata": {},
   "outputs": [
    {
     "data": {
      "text/plain": [
       "1033"
      ]
     },
     "execution_count": 43,
     "metadata": {},
     "output_type": "execute_result"
    }
   ],
   "source": [
    "b = ecom['CC Exp Date'].apply(lambda x : x if '25' in x else None)\n",
    "b.value_counts().sum()"
   ]
  },
  {
   "cell_type": "code",
   "execution_count": 102,
   "metadata": {},
   "outputs": [
    {
     "data": {
      "text/plain": [
       "1033"
      ]
     },
     "execution_count": 102,
     "metadata": {},
     "output_type": "execute_result"
    }
   ],
   "source": []
  },
  {
   "cell_type": "markdown",
   "metadata": {},
   "source": [
    "**QN:14**"
   ]
  },
  {
   "cell_type": "markdown",
   "metadata": {},
   "source": [
    "**What are the top 5 most popular email providers/hosts (e.g. gmail.com, yahoo.com, etc...)**"
   ]
  },
  {
   "cell_type": "code",
   "execution_count": 45,
   "metadata": {},
   "outputs": [
    {
     "data": {
      "text/html": [
       "<div>\n",
       "<style scoped>\n",
       "    .dataframe tbody tr th:only-of-type {\n",
       "        vertical-align: middle;\n",
       "    }\n",
       "\n",
       "    .dataframe tbody tr th {\n",
       "        vertical-align: top;\n",
       "    }\n",
       "\n",
       "    .dataframe thead th {\n",
       "        text-align: right;\n",
       "    }\n",
       "</style>\n",
       "<table border=\"1\" class=\"dataframe\">\n",
       "  <thead>\n",
       "    <tr style=\"text-align: right;\">\n",
       "      <th></th>\n",
       "      <th>Address</th>\n",
       "      <th>Lot</th>\n",
       "      <th>AM or PM</th>\n",
       "      <th>Browser Info</th>\n",
       "      <th>Company</th>\n",
       "      <th>Credit Card</th>\n",
       "      <th>CC Exp Date</th>\n",
       "      <th>CC Security Code</th>\n",
       "      <th>CC Provider</th>\n",
       "      <th>Email</th>\n",
       "      <th>Job</th>\n",
       "      <th>IP Address</th>\n",
       "      <th>Language</th>\n",
       "      <th>Purchase Price</th>\n",
       "    </tr>\n",
       "  </thead>\n",
       "  <tbody>\n",
       "    <tr>\n",
       "      <th>0</th>\n",
       "      <td>16629 Pace Camp Apt. 448\\nAlexisborough, NE 77...</td>\n",
       "      <td>46 in</td>\n",
       "      <td>PM</td>\n",
       "      <td>Opera/9.56.(X11; Linux x86_64; sl-SI) Presto/2...</td>\n",
       "      <td>Martinez-Herman</td>\n",
       "      <td>6011929061123406</td>\n",
       "      <td>02/20</td>\n",
       "      <td>900</td>\n",
       "      <td>JCB 16 digit</td>\n",
       "      <td>pdunlap@yahoo.com</td>\n",
       "      <td>Scientist, product/process development</td>\n",
       "      <td>149.146.147.205</td>\n",
       "      <td>el</td>\n",
       "      <td>98.14</td>\n",
       "    </tr>\n",
       "  </tbody>\n",
       "</table>\n",
       "</div>"
      ],
      "text/plain": [
       "                                             Address    Lot AM or PM  \\\n",
       "0  16629 Pace Camp Apt. 448\\nAlexisborough, NE 77...  46 in       PM   \n",
       "\n",
       "                                        Browser Info          Company  \\\n",
       "0  Opera/9.56.(X11; Linux x86_64; sl-SI) Presto/2...  Martinez-Herman   \n",
       "\n",
       "        Credit Card CC Exp Date  CC Security Code   CC Provider  \\\n",
       "0  6011929061123406       02/20               900  JCB 16 digit   \n",
       "\n",
       "               Email                                     Job       IP Address  \\\n",
       "0  pdunlap@yahoo.com  Scientist, product/process development  149.146.147.205   \n",
       "\n",
       "  Language  Purchase Price  \n",
       "0       el           98.14  "
      ]
     },
     "execution_count": 45,
     "metadata": {},
     "output_type": "execute_result"
    }
   ],
   "source": [
    "ecom.head(1)"
   ]
  },
  {
   "cell_type": "code",
   "execution_count": 49,
   "metadata": {},
   "outputs": [],
   "source": [
    "import re"
   ]
  },
  {
   "cell_type": "code",
   "execution_count": 56,
   "metadata": {},
   "outputs": [],
   "source": [
    "ecom['Email'] = ecom['Email'].astype('string')"
   ]
  },
  {
   "cell_type": "code",
   "execution_count": 58,
   "metadata": {},
   "outputs": [
    {
     "name": "stdout",
     "output_type": "stream",
     "text": [
      "<class 'pandas.core.frame.DataFrame'>\n",
      "RangeIndex: 10000 entries, 0 to 9999\n",
      "Data columns (total 14 columns):\n",
      " #   Column            Non-Null Count  Dtype  \n",
      "---  ------            --------------  -----  \n",
      " 0   Address           10000 non-null  object \n",
      " 1   Lot               10000 non-null  object \n",
      " 2   AM or PM          10000 non-null  object \n",
      " 3   Browser Info      10000 non-null  object \n",
      " 4   Company           10000 non-null  object \n",
      " 5   Credit Card       10000 non-null  int64  \n",
      " 6   CC Exp Date       10000 non-null  object \n",
      " 7   CC Security Code  10000 non-null  int64  \n",
      " 8   CC Provider       10000 non-null  object \n",
      " 9   Email             10000 non-null  string \n",
      " 10  Job               10000 non-null  object \n",
      " 11  IP Address        10000 non-null  object \n",
      " 12  Language          10000 non-null  object \n",
      " 13  Purchase Price    10000 non-null  float64\n",
      "dtypes: float64(1), int64(2), object(10), string(1)\n",
      "memory usage: 1.1+ MB\n"
     ]
    }
   ],
   "source": [
    "ecom.info()"
   ]
  },
  {
   "cell_type": "code",
   "execution_count": null,
   "metadata": {},
   "outputs": [],
   "source": []
  },
  {
   "cell_type": "code",
   "execution_count": 71,
   "metadata": {
    "scrolled": true
   },
   "outputs": [
    {
     "data": {
      "text/plain": [
       "[['@yahoo.com'],\n",
       " ['@reed.com'],\n",
       " ['@morales-harrison.com'],\n",
       " ['@olson-robinson.info'],\n",
       " ['@gmail.com'],\n",
       " ['@gmail.com'],\n",
       " ['@yahoo.com'],\n",
       " ['@parks.info'],\n",
       " ['@rasmussen.com'],\n",
       " ['@hunt-huerta.com'],\n",
       " ['@hotmail.com'],\n",
       " ['@coleman.com'],\n",
       " ['@hotmail.com'],\n",
       " ['@yahoo.com'],\n",
       " ['@yahoo.com'],\n",
       " ['@yahoo.com'],\n",
       " ['@wilson.com'],\n",
       " ['@hall.com'],\n",
       " ['@yahoo.com'],\n",
       " ['@gmail.com'],\n",
       " ['@smith.info'],\n",
       " ['@hotmail.com'],\n",
       " ['@gmail.com'],\n",
       " ['@gardner-meadows.com'],\n",
       " ['@yahoo.com'],\n",
       " ['@mooney.com'],\n",
       " ['@gmail.com'],\n",
       " ['@hotmail.com'],\n",
       " ['@yahoo.com'],\n",
       " ['@yahoo.com'],\n",
       " ['@hotmail.com'],\n",
       " ['@hotmail.com'],\n",
       " ['@atkinson.com'],\n",
       " ['@yahoo.com'],\n",
       " ['@carey-davis.com'],\n",
       " ['@mcdowell.com'],\n",
       " ['@walsh.com'],\n",
       " ['@frederick.info'],\n",
       " ['@boyd-english.org'],\n",
       " ['@wells-carlson.info'],\n",
       " ['@dickerson.com'],\n",
       " ['@yahoo.com'],\n",
       " ['@gmail.com'],\n",
       " ['@martinez-thomas.com'],\n",
       " ['@yahoo.com'],\n",
       " ['@chambers.com'],\n",
       " ['@gmail.com'],\n",
       " ['@glenn.org'],\n",
       " ['@allen.com'],\n",
       " ['@gmail.com'],\n",
       " ['@obrien.org'],\n",
       " ['@cook-castillo.com'],\n",
       " ['@hotmail.com'],\n",
       " ['@yahoo.com'],\n",
       " ['@hotmail.com'],\n",
       " ['@yahoo.com'],\n",
       " ['@lawrence-warren.biz'],\n",
       " ['@morris.com'],\n",
       " ['@howe.com'],\n",
       " ['@walton.org'],\n",
       " ['@jones.biz'],\n",
       " ['@gmail.com'],\n",
       " ['@simmons-gutierrez.org'],\n",
       " ['@yahoo.com'],\n",
       " ['@gardner-anderson.com'],\n",
       " ['@gmail.com'],\n",
       " ['@hotmail.com'],\n",
       " ['@green.com'],\n",
       " ['@wallace-moore.info'],\n",
       " ['@wiley.net'],\n",
       " ['@rodgers-morris.biz'],\n",
       " ['@johnson.info'],\n",
       " ['@hotmail.com'],\n",
       " ['@gmail.com'],\n",
       " ['@reyes.com'],\n",
       " ['@hotmail.com'],\n",
       " ['@hotmail.com'],\n",
       " ['@yahoo.com'],\n",
       " ['@beasley-murphy.net'],\n",
       " ['@donovan-brown.biz'],\n",
       " ['@yahoo.com'],\n",
       " ['@yahoo.com'],\n",
       " ['@yahoo.com'],\n",
       " ['@yahoo.com'],\n",
       " ['@weber-williams.com'],\n",
       " ['@yahoo.com'],\n",
       " ['@smith-brown.info'],\n",
       " ['@fleming.info'],\n",
       " ['@yahoo.com'],\n",
       " ['@gmail.com'],\n",
       " ['@brown.com'],\n",
       " ['@hotmail.com'],\n",
       " ['@harrison-brown.info'],\n",
       " ['@kim.biz'],\n",
       " ['@watkins.com'],\n",
       " ['@thomas.net'],\n",
       " ['@yahoo.com'],\n",
       " ['@yahoo.com'],\n",
       " ['@hotmail.com'],\n",
       " ['@gmail.com'],\n",
       " ['@cochran.com'],\n",
       " ['@gmail.com'],\n",
       " ['@yahoo.com'],\n",
       " ['@jackson-johnson.biz'],\n",
       " ['@woods-nunez.biz'],\n",
       " ['@price.com'],\n",
       " ['@gmail.com'],\n",
       " ['@white.com'],\n",
       " ['@hotmail.com'],\n",
       " ['@lowe.net'],\n",
       " ['@yahoo.com'],\n",
       " ['@hotmail.com'],\n",
       " ['@gmail.com'],\n",
       " ['@hotmail.com'],\n",
       " ['@hotmail.com'],\n",
       " ['@allen-kennedy.org'],\n",
       " ['@hotmail.com'],\n",
       " ['@nelson.com'],\n",
       " ['@long.net'],\n",
       " ['@hotmail.com'],\n",
       " ['@yahoo.com'],\n",
       " ['@cervantes-smith.net'],\n",
       " ['@silva-cohen.com'],\n",
       " ['@wilson-wright.biz'],\n",
       " ['@allen.com'],\n",
       " ['@yahoo.com'],\n",
       " ['@aguirre.com'],\n",
       " ['@scott.net'],\n",
       " ['@nelson.com'],\n",
       " ['@gmail.com'],\n",
       " ['@gmail.com'],\n",
       " ['@henderson-peterson.org'],\n",
       " ['@yahoo.com'],\n",
       " ['@yahoo.com'],\n",
       " ['@james.biz'],\n",
       " ['@stewart.org'],\n",
       " ['@martinez.com'],\n",
       " ['@yahoo.com'],\n",
       " ['@yahoo.com'],\n",
       " ['@wright.com'],\n",
       " ['@lopez.net'],\n",
       " ['@yahoo.com'],\n",
       " ['@carlson.net'],\n",
       " ['@bean-mcdaniel.com'],\n",
       " ['@bennett.com'],\n",
       " ['@mosley-brown.com'],\n",
       " ['@yahoo.com'],\n",
       " ['@fisher.com'],\n",
       " ['@guerrero.net'],\n",
       " ['@cardenas.com'],\n",
       " ['@yahoo.com'],\n",
       " ['@smith-conner.org'],\n",
       " ['@sherman-perry.org'],\n",
       " ['@matthews.com'],\n",
       " ['@gmail.com'],\n",
       " ['@valenzuela-mccarty.org'],\n",
       " ['@wagner.com'],\n",
       " ['@williams.info'],\n",
       " ['@yahoo.com'],\n",
       " ['@gmail.com'],\n",
       " ['@beck-hickman.com'],\n",
       " ['@hotmail.com'],\n",
       " ['@perez-acosta.com'],\n",
       " ['@dunn.com'],\n",
       " ['@hotmail.com'],\n",
       " ['@gmail.com'],\n",
       " ['@hotmail.com'],\n",
       " ['@collier.com'],\n",
       " ['@yahoo.com'],\n",
       " ['@hood.com'],\n",
       " ['@yahoo.com'],\n",
       " ['@taylor-moore.net'],\n",
       " ['@gmail.com'],\n",
       " ['@gmail.com'],\n",
       " ['@sanchez-chambers.net'],\n",
       " ['@gmail.com'],\n",
       " ['@flynn-callahan.com'],\n",
       " ['@yahoo.com'],\n",
       " ['@good.com'],\n",
       " ['@scott.com'],\n",
       " ['@french-richards.com'],\n",
       " ['@gmail.com'],\n",
       " ['@hotmail.com'],\n",
       " ['@gmail.com'],\n",
       " ['@yahoo.com'],\n",
       " ['@wright.com'],\n",
       " ['@davenport-zimmerman.com'],\n",
       " ['@gray.com'],\n",
       " ['@hotmail.com'],\n",
       " ['@hotmail.com'],\n",
       " ['@olson.com'],\n",
       " ['@shaw.com'],\n",
       " ['@murray-jones.com'],\n",
       " ['@cruz.com'],\n",
       " ['@alexander-villegas.com'],\n",
       " ['@brown.net'],\n",
       " ['@gmail.com'],\n",
       " ['@yahoo.com'],\n",
       " ['@hotmail.com'],\n",
       " ['@hotmail.com'],\n",
       " ['@delacruz.biz'],\n",
       " ['@beasley.com'],\n",
       " ['@yahoo.com'],\n",
       " ['@gmail.com'],\n",
       " ['@hotmail.com'],\n",
       " ['@gmail.com'],\n",
       " ['@griffith.com'],\n",
       " ['@hotmail.com'],\n",
       " ['@smith.org'],\n",
       " ['@green-lee.com'],\n",
       " ['@hotmail.com'],\n",
       " ['@bauer.com'],\n",
       " ['@kane.com'],\n",
       " ['@mullins-fletcher.com'],\n",
       " ['@gmail.com'],\n",
       " ['@knight.com'],\n",
       " ['@gmail.com'],\n",
       " ['@newman.com'],\n",
       " ['@bass.com'],\n",
       " ['@hotmail.com'],\n",
       " ['@spence-browning.com'],\n",
       " ['@caldwell-strickland.com'],\n",
       " ['@bush.org'],\n",
       " ['@yahoo.com'],\n",
       " ['@jones-white.com'],\n",
       " ['@suarez.com'],\n",
       " ['@elliott.com'],\n",
       " ['@sanchez.com'],\n",
       " ['@yahoo.com'],\n",
       " ['@mitchell-daugherty.com'],\n",
       " ['@foster.org'],\n",
       " ['@griffin.com'],\n",
       " ['@gmail.com'],\n",
       " ['@gmail.com'],\n",
       " ['@gmail.com'],\n",
       " ['@robinson.org'],\n",
       " ['@smith-bates.com'],\n",
       " ['@yahoo.com'],\n",
       " ['@yahoo.com'],\n",
       " ['@gmail.com'],\n",
       " ['@yahoo.com'],\n",
       " ['@ellis.com'],\n",
       " ['@hotmail.com'],\n",
       " ['@murray.com'],\n",
       " ['@gmail.com'],\n",
       " ['@yahoo.com'],\n",
       " ['@moss.info'],\n",
       " ['@yahoo.com'],\n",
       " ['@weaver.com'],\n",
       " ['@hill-bentley.net'],\n",
       " ['@gmail.com'],\n",
       " ['@rivera-bishop.com'],\n",
       " ['@hotmail.com'],\n",
       " ['@west-phillips.info'],\n",
       " ['@hotmail.com'],\n",
       " ['@gmail.com'],\n",
       " ['@phillips-johnson.org'],\n",
       " ['@gmail.com'],\n",
       " ['@lambert.com'],\n",
       " ['@hotmail.com'],\n",
       " ['@reyes.net'],\n",
       " ['@wade-butler.org'],\n",
       " ['@henderson.com'],\n",
       " ['@spence.com'],\n",
       " ['@hotmail.com'],\n",
       " ['@powell.net'],\n",
       " ['@johnson.biz'],\n",
       " ['@castro.org'],\n",
       " ['@yahoo.com'],\n",
       " ['@gmail.com'],\n",
       " ['@yahoo.com'],\n",
       " ['@hotmail.com'],\n",
       " ['@summers-boyd.com'],\n",
       " ['@carter.com'],\n",
       " ['@yahoo.com'],\n",
       " ['@hotmail.com'],\n",
       " ['@brooks.net'],\n",
       " ['@obrien.com'],\n",
       " ['@espinoza.org'],\n",
       " ['@yahoo.com'],\n",
       " ['@hicks.com'],\n",
       " ['@yahoo.com'],\n",
       " ['@gmail.com'],\n",
       " ['@flynn.info'],\n",
       " ['@harvey-hunt.com'],\n",
       " ['@acevedo-pena.biz'],\n",
       " ['@daniels.com'],\n",
       " ['@gmail.com'],\n",
       " ['@roberts.com'],\n",
       " ['@kim.biz'],\n",
       " ['@yahoo.com'],\n",
       " ['@gmail.com'],\n",
       " ['@davis.com'],\n",
       " ['@mills.com'],\n",
       " ['@butler-lozano.com'],\n",
       " ['@martinez.net'],\n",
       " ['@carter-adams.biz'],\n",
       " ['@gmail.com'],\n",
       " ['@edwards.com'],\n",
       " ['@smith-butler.net'],\n",
       " ['@yahoo.com'],\n",
       " ['@nguyen.org'],\n",
       " ['@yahoo.com'],\n",
       " ['@yahoo.com'],\n",
       " ['@brown.com'],\n",
       " ['@shaw.net'],\n",
       " ['@hotmail.com'],\n",
       " ['@smith.biz'],\n",
       " ['@hotmail.com'],\n",
       " ['@yahoo.com'],\n",
       " ['@gmail.com'],\n",
       " ['@hotmail.com'],\n",
       " ['@lopez.com'],\n",
       " ['@mccormick-kirby.com'],\n",
       " ['@sellers.com'],\n",
       " ['@smith.net'],\n",
       " ['@gmail.com'],\n",
       " ['@yahoo.com'],\n",
       " ['@hotmail.com'],\n",
       " ['@hotmail.com'],\n",
       " ['@yahoo.com'],\n",
       " ['@hawkins-green.net'],\n",
       " ['@york-atkins.com'],\n",
       " ['@hotmail.com'],\n",
       " ['@yahoo.com'],\n",
       " ['@green.com'],\n",
       " ['@gmail.com'],\n",
       " ['@garcia.com'],\n",
       " ['@cardenas.net'],\n",
       " ['@yahoo.com'],\n",
       " ['@kerr-wilson.com'],\n",
       " ['@gmail.com'],\n",
       " ['@richardson.com'],\n",
       " ['@yahoo.com'],\n",
       " ['@hart.com'],\n",
       " ['@yahoo.com'],\n",
       " ['@anthony.com'],\n",
       " ['@griffin-thomas.com'],\n",
       " ['@hotmail.com'],\n",
       " ['@moore.com'],\n",
       " ['@ross.com'],\n",
       " ['@yahoo.com'],\n",
       " ['@hotmail.com'],\n",
       " ['@gmail.com'],\n",
       " ['@lee.net'],\n",
       " ['@gmail.com'],\n",
       " ['@hotmail.com'],\n",
       " ['@graham.com'],\n",
       " ['@yahoo.com'],\n",
       " ['@jackson.com'],\n",
       " ['@yahoo.com'],\n",
       " ['@hotmail.com'],\n",
       " ['@frey-ward.com'],\n",
       " ['@sanford.com'],\n",
       " ['@gmail.com'],\n",
       " ['@moreno.com'],\n",
       " ['@carson.net'],\n",
       " ['@hotmail.com'],\n",
       " ['@blackburn-lucero.com'],\n",
       " ['@jackson.net'],\n",
       " ['@kelley-arnold.com'],\n",
       " ['@osborne.info'],\n",
       " ['@valenzuela.com'],\n",
       " ['@yahoo.com'],\n",
       " ['@gmail.com'],\n",
       " ['@yahoo.com'],\n",
       " ['@rodriguez.com'],\n",
       " ['@hotmail.com'],\n",
       " ['@stevenson-curry.biz'],\n",
       " ['@gmail.com'],\n",
       " ['@hotmail.com'],\n",
       " ['@davis-mcdonald.com'],\n",
       " ['@jones.net'],\n",
       " ['@hotmail.com'],\n",
       " ['@henry.org'],\n",
       " ['@yahoo.com'],\n",
       " ['@yahoo.com'],\n",
       " ['@gmail.com'],\n",
       " ['@pugh.com'],\n",
       " ['@ballard.com'],\n",
       " ['@thompson.com'],\n",
       " ['@gmail.com'],\n",
       " ['@brown.net'],\n",
       " ['@bates-wood.biz'],\n",
       " ['@jordan-pierce.com'],\n",
       " ['@gmail.com'],\n",
       " ['@yahoo.com'],\n",
       " ['@velasquez.net'],\n",
       " ['@figueroa.info'],\n",
       " ['@hotmail.com'],\n",
       " ['@hotmail.com'],\n",
       " ['@osborne.info'],\n",
       " ['@sanchez.com'],\n",
       " ['@merritt-york.com'],\n",
       " ['@yahoo.com'],\n",
       " ['@johnson-white.biz'],\n",
       " ['@gonzalez.org'],\n",
       " ['@miller.com'],\n",
       " ['@yahoo.com'],\n",
       " ['@rhodes.com'],\n",
       " ['@yahoo.com'],\n",
       " ['@hotmail.com'],\n",
       " ['@potts-rose.net'],\n",
       " ['@hotmail.com'],\n",
       " ['@moore.info'],\n",
       " ['@yahoo.com'],\n",
       " ['@barrera.org'],\n",
       " ['@page.com'],\n",
       " ['@gmail.com'],\n",
       " ['@vaughn.com'],\n",
       " ['@moore.org'],\n",
       " ['@martinez-williams.net'],\n",
       " ['@gmail.com'],\n",
       " ['@mcclure.biz'],\n",
       " ['@carr.com'],\n",
       " ['@yahoo.com'],\n",
       " ['@gonzalez.com'],\n",
       " ['@hotmail.com'],\n",
       " ['@williams.com'],\n",
       " ['@thomas.biz'],\n",
       " ['@andrews.com'],\n",
       " ['@herrera-miller.biz'],\n",
       " ['@hotmail.com'],\n",
       " ['@hotmail.com'],\n",
       " ['@yahoo.com'],\n",
       " ['@allen.org'],\n",
       " ['@thomas.com'],\n",
       " ['@fuller-johnson.com'],\n",
       " ['@robinson.com'],\n",
       " ['@armstrong.biz'],\n",
       " ['@yahoo.com'],\n",
       " ['@yahoo.com'],\n",
       " ['@robinson.com'],\n",
       " ['@yahoo.com'],\n",
       " ['@hotmail.com'],\n",
       " ['@rodriguez-hernandez.com'],\n",
       " ['@gmail.com'],\n",
       " ['@foster.net'],\n",
       " ['@dalton.net'],\n",
       " ['@hotmail.com'],\n",
       " ['@hotmail.com'],\n",
       " ['@gmail.com'],\n",
       " ['@yahoo.com'],\n",
       " ['@gmail.com'],\n",
       " ['@hotmail.com'],\n",
       " ['@castro-whitaker.net'],\n",
       " ['@hill.biz'],\n",
       " ['@stein-cox.com'],\n",
       " ['@vargas-brown.com'],\n",
       " ['@melton-duke.com'],\n",
       " ['@yahoo.com'],\n",
       " ['@yahoo.com'],\n",
       " ['@lopez.com'],\n",
       " ['@moran.com'],\n",
       " ['@brown.com'],\n",
       " ['@hotmail.com'],\n",
       " ['@guzman-davis.com'],\n",
       " ['@gmail.com'],\n",
       " ['@allen.com'],\n",
       " ['@gonzalez.net'],\n",
       " ['@cox.com'],\n",
       " ['@sanders.org'],\n",
       " ['@yahoo.com'],\n",
       " ['@jensen.info'],\n",
       " ['@yahoo.com'],\n",
       " ['@hotmail.com'],\n",
       " ['@reed.com'],\n",
       " ['@meyer-palmer.org'],\n",
       " ['@hotmail.com'],\n",
       " ['@kramer.com'],\n",
       " ['@peters-green.com'],\n",
       " ['@perez.info'],\n",
       " ['@berry-davis.com'],\n",
       " ['@hotmail.com'],\n",
       " ['@johnson.com'],\n",
       " ['@hotmail.com'],\n",
       " ['@gmail.com'],\n",
       " ['@yahoo.com'],\n",
       " ['@murray.info'],\n",
       " ['@hotmail.com'],\n",
       " ['@lindsey.net'],\n",
       " ['@roberts.net'],\n",
       " ['@gmail.com'],\n",
       " ['@yahoo.com'],\n",
       " ['@smith-ford.biz'],\n",
       " ['@hotmail.com'],\n",
       " ['@hotmail.com'],\n",
       " ['@hotmail.com'],\n",
       " ['@yahoo.com'],\n",
       " ['@hotmail.com'],\n",
       " ['@fritz.com'],\n",
       " ['@gmail.com'],\n",
       " ['@clark-simpson.com'],\n",
       " ['@gmail.com'],\n",
       " ['@hotmail.com'],\n",
       " ['@patton.com'],\n",
       " ['@oconnor-dixon.com'],\n",
       " ['@yahoo.com'],\n",
       " ['@yahoo.com'],\n",
       " ['@murray.net'],\n",
       " ['@gmail.com'],\n",
       " ['@yahoo.com'],\n",
       " ['@yahoo.com'],\n",
       " ['@moore-robinson.com'],\n",
       " ['@hotmail.com'],\n",
       " ['@hotmail.com'],\n",
       " ['@hotmail.com'],\n",
       " ['@gmail.com'],\n",
       " ['@hotmail.com'],\n",
       " ['@hotmail.com'],\n",
       " ['@yahoo.com'],\n",
       " ['@moore-lutz.com'],\n",
       " ['@deleon-ortega.org'],\n",
       " ['@page.net'],\n",
       " ['@yahoo.com'],\n",
       " ['@hotmail.com'],\n",
       " ['@gmail.com'],\n",
       " ['@livingston.com'],\n",
       " ['@gmail.com'],\n",
       " ['@hotmail.com'],\n",
       " ['@gmail.com'],\n",
       " ['@gmail.com'],\n",
       " ['@gmail.com'],\n",
       " ['@yahoo.com'],\n",
       " ['@yahoo.com'],\n",
       " ['@yahoo.com'],\n",
       " ['@wright.net'],\n",
       " ['@hotmail.com'],\n",
       " ['@gmail.com'],\n",
       " ['@schwartz.info'],\n",
       " ['@cook.com'],\n",
       " ['@richardson-flores.com'],\n",
       " ['@brown-bean.com'],\n",
       " ['@wilkinson.com'],\n",
       " ['@richardson.biz'],\n",
       " ['@figueroa-jones.com'],\n",
       " ['@yahoo.com'],\n",
       " ['@hotmail.com'],\n",
       " ['@choi-morris.com'],\n",
       " ['@gmail.com'],\n",
       " ['@lee.com'],\n",
       " ['@torres.biz'],\n",
       " ['@owen-gross.com'],\n",
       " ['@hotmail.com'],\n",
       " ['@deleon.com'],\n",
       " ['@yahoo.com'],\n",
       " ['@yahoo.com'],\n",
       " ['@hotmail.com'],\n",
       " ['@gmail.com'],\n",
       " ['@yahoo.com'],\n",
       " ['@hotmail.com'],\n",
       " ['@clark.com'],\n",
       " ['@baker.com'],\n",
       " ['@smith-nunez.info'],\n",
       " ['@tyler.com'],\n",
       " ['@yahoo.com'],\n",
       " ['@aguilar-nelson.com'],\n",
       " ['@holder.com'],\n",
       " ['@livingston-smith.biz'],\n",
       " ['@smith-reid.com'],\n",
       " ['@hotmail.com'],\n",
       " ['@gmail.com'],\n",
       " ['@rodriguez.com'],\n",
       " ['@yahoo.com'],\n",
       " ['@hurst.com'],\n",
       " ['@smith-collins.biz'],\n",
       " ['@hotmail.com'],\n",
       " ['@wright.com'],\n",
       " ['@gmail.com'],\n",
       " ['@hotmail.com'],\n",
       " ['@tran-mccoy.org'],\n",
       " ['@mclaughlin.com'],\n",
       " ['@wilson.com'],\n",
       " ['@yahoo.com'],\n",
       " ['@yahoo.com'],\n",
       " ['@yahoo.com'],\n",
       " ['@barnes.com'],\n",
       " ['@yahoo.com'],\n",
       " ['@yahoo.com'],\n",
       " ['@browning.com'],\n",
       " ['@yahoo.com'],\n",
       " ['@hotmail.com'],\n",
       " ['@yahoo.com'],\n",
       " ['@hotmail.com'],\n",
       " ['@gmail.com'],\n",
       " ['@yahoo.com'],\n",
       " ['@hotmail.com'],\n",
       " ['@palmer-mckee.com'],\n",
       " ['@yahoo.com'],\n",
       " ['@yahoo.com'],\n",
       " ['@yahoo.com'],\n",
       " ['@yahoo.com'],\n",
       " ['@yahoo.com'],\n",
       " ['@johnson-oliver.net'],\n",
       " ['@carpenter.info'],\n",
       " ['@brown-wilson.net'],\n",
       " ['@martinez-malone.com'],\n",
       " ['@chung.com'],\n",
       " ['@alvarez.com'],\n",
       " ['@perez.com'],\n",
       " ['@gmail.com'],\n",
       " ['@jones.com'],\n",
       " ['@aguilar.com'],\n",
       " ['@hotmail.com'],\n",
       " ['@hotmail.com'],\n",
       " ['@gmail.com'],\n",
       " ['@hotmail.com'],\n",
       " ['@garrison-woodard.com'],\n",
       " ['@hotmail.com'],\n",
       " ['@yahoo.com'],\n",
       " ['@gmail.com'],\n",
       " ['@hotmail.com'],\n",
       " ['@hotmail.com'],\n",
       " ['@adams.com'],\n",
       " ['@reid.com'],\n",
       " ['@gmail.com'],\n",
       " ['@meza-jackson.org'],\n",
       " ['@curtis.com'],\n",
       " ['@marquez-castillo.biz'],\n",
       " ['@rangel.net'],\n",
       " ['@lewis-brown.net'],\n",
       " ['@hotmail.com'],\n",
       " ['@hotmail.com'],\n",
       " ['@copeland.org'],\n",
       " ['@yahoo.com'],\n",
       " ['@fritz-gray.com'],\n",
       " ['@carson.com'],\n",
       " ['@hotmail.com'],\n",
       " ['@hotmail.com'],\n",
       " ['@haynes.com'],\n",
       " ['@gmail.com'],\n",
       " ['@stafford.com'],\n",
       " ['@hotmail.com'],\n",
       " ['@reid.com'],\n",
       " ['@cruz.biz'],\n",
       " ['@ballard-myers.info'],\n",
       " ['@yahoo.com'],\n",
       " ['@hernandez-nielsen.com'],\n",
       " ['@yahoo.com'],\n",
       " ['@wagner.com'],\n",
       " ['@hotmail.com'],\n",
       " ['@yahoo.com'],\n",
       " ['@moore.com'],\n",
       " ['@russell.com'],\n",
       " ['@hughes.com'],\n",
       " ['@gmail.com'],\n",
       " ['@martin-chavez.com'],\n",
       " ['@smith.com'],\n",
       " ['@terrell.biz'],\n",
       " ['@hotmail.com'],\n",
       " ['@gmail.com'],\n",
       " ['@gmail.com'],\n",
       " ['@davis.com'],\n",
       " ['@steele.net'],\n",
       " ['@rose.info'],\n",
       " ['@long.com'],\n",
       " ['@hotmail.com'],\n",
       " ['@gmail.com'],\n",
       " ['@yahoo.com'],\n",
       " ['@yahoo.com'],\n",
       " ['@gmail.com'],\n",
       " ['@yahoo.com'],\n",
       " ['@russell.com'],\n",
       " ['@yahoo.com'],\n",
       " ['@short.biz'],\n",
       " ['@gmail.com'],\n",
       " ['@yahoo.com'],\n",
       " ['@roach.com'],\n",
       " ['@vaughn-sullivan.biz'],\n",
       " ['@dean.com'],\n",
       " ['@mills.com'],\n",
       " ['@yahoo.com'],\n",
       " ['@hotmail.com'],\n",
       " ['@hotmail.com'],\n",
       " ['@gmail.com'],\n",
       " ['@walker-morales.com'],\n",
       " ['@malone.com'],\n",
       " ['@fernandez.com'],\n",
       " ['@jackson-pitts.com'],\n",
       " ['@yahoo.com'],\n",
       " ['@morris.biz'],\n",
       " ['@anderson-duke.com'],\n",
       " ['@yahoo.com'],\n",
       " ['@yahoo.com'],\n",
       " ['@hernandez.biz'],\n",
       " ['@harris.com'],\n",
       " ['@gmail.com'],\n",
       " ['@murphy.org'],\n",
       " ['@richards.org'],\n",
       " ['@gmail.com'],\n",
       " ['@gonzales-anderson.com'],\n",
       " ['@davenport-garcia.com'],\n",
       " ['@hull.info'],\n",
       " ['@gmail.com'],\n",
       " ['@atkins.biz'],\n",
       " ['@martin.com'],\n",
       " ['@nguyen-smith.net'],\n",
       " ['@bailey.net'],\n",
       " ['@black.org'],\n",
       " ['@hotmail.com'],\n",
       " ['@sanford-lopez.com'],\n",
       " ['@kelly.biz'],\n",
       " ['@hotmail.com'],\n",
       " ['@garcia-pugh.biz'],\n",
       " ['@cox.com'],\n",
       " ['@yahoo.com'],\n",
       " ['@yahoo.com'],\n",
       " ['@anderson-werner.biz'],\n",
       " ['@hotmail.com'],\n",
       " ['@browning-yu.com'],\n",
       " ['@yahoo.com'],\n",
       " ['@lopez-kelly.com'],\n",
       " ['@fernandez-bell.com'],\n",
       " ['@campbell.info'],\n",
       " ['@gmail.com'],\n",
       " ['@manning.org'],\n",
       " ['@rollins.com'],\n",
       " ['@johnson-long.biz'],\n",
       " ['@flynn-williams.com'],\n",
       " ['@hotmail.com'],\n",
       " ['@winters.info'],\n",
       " ['@gmail.com'],\n",
       " ['@gmail.com'],\n",
       " ['@graham-green.net'],\n",
       " ['@hotmail.com'],\n",
       " ['@ballard.net'],\n",
       " ['@long.com'],\n",
       " ['@meyer.com'],\n",
       " ['@gmail.com'],\n",
       " ['@gmail.com'],\n",
       " ['@gmail.com'],\n",
       " ['@gmail.com'],\n",
       " ['@hotmail.com'],\n",
       " ['@roberts.com'],\n",
       " ['@hotmail.com'],\n",
       " ['@hart-reynolds.com'],\n",
       " ['@yahoo.com'],\n",
       " ['@jimenez.biz'],\n",
       " ['@turner-hall.net'],\n",
       " ['@yahoo.com'],\n",
       " ['@gmail.com'],\n",
       " ['@haynes-pollard.info'],\n",
       " ['@hotmail.com'],\n",
       " ['@yahoo.com'],\n",
       " ['@clay.net'],\n",
       " ['@yahoo.com'],\n",
       " ['@gmail.com'],\n",
       " ['@yahoo.com'],\n",
       " ['@hotmail.com'],\n",
       " ['@foster-travis.biz'],\n",
       " ['@gmail.com'],\n",
       " ['@hotmail.com'],\n",
       " ['@price.org'],\n",
       " ['@hughes.com'],\n",
       " ['@chen-cantu.net'],\n",
       " ['@santana.com'],\n",
       " ['@long.org'],\n",
       " ['@hotmail.com'],\n",
       " ['@hotmail.com'],\n",
       " ['@smith.net'],\n",
       " ['@beard-franco.com'],\n",
       " ['@marshall-johnson.net'],\n",
       " ['@sherman.com'],\n",
       " ['@hotmail.com'],\n",
       " ['@gmail.com'],\n",
       " ['@hotmail.com'],\n",
       " ['@gmail.com'],\n",
       " ['@boone-barton.com'],\n",
       " ['@velez.com'],\n",
       " ['@gmail.com'],\n",
       " ['@johnson-grant.net'],\n",
       " ['@hotmail.com'],\n",
       " ['@gomez.info'],\n",
       " ['@hopkins.biz'],\n",
       " ['@silva.com'],\n",
       " ['@gmail.com'],\n",
       " ['@thomas.org'],\n",
       " ['@armstrong-adkins.biz'],\n",
       " ['@hotmail.com'],\n",
       " ['@ritter.com'],\n",
       " ['@holmes-jones.com'],\n",
       " ['@walter.com'],\n",
       " ['@gmail.com'],\n",
       " ['@hotmail.com'],\n",
       " ['@hotmail.com'],\n",
       " ['@hotmail.com'],\n",
       " ['@rodriguez.biz'],\n",
       " ['@gmail.com'],\n",
       " ['@yahoo.com'],\n",
       " ['@hotmail.com'],\n",
       " ['@yahoo.com'],\n",
       " ['@hotmail.com'],\n",
       " ['@sellers-perez.net'],\n",
       " ['@reese-mcintosh.com'],\n",
       " ['@jackson.org'],\n",
       " ['@medina-reyes.net'],\n",
       " ['@yahoo.com'],\n",
       " ['@hotmail.com'],\n",
       " ['@gmail.com'],\n",
       " ['@hotmail.com'],\n",
       " ['@duncan-garcia.com'],\n",
       " ['@hotmail.com'],\n",
       " ['@webster.com'],\n",
       " ['@myers.com'],\n",
       " ['@gmail.com'],\n",
       " ['@yahoo.com'],\n",
       " ['@yahoo.com'],\n",
       " ['@gray-mejia.com'],\n",
       " ['@clark-garcia.org'],\n",
       " ['@wright-walton.com'],\n",
       " ['@gmail.com'],\n",
       " ['@yahoo.com'],\n",
       " ['@smith-harrison.com'],\n",
       " ['@hotmail.com'],\n",
       " ['@hotmail.com'],\n",
       " ['@martin.info'],\n",
       " ['@hotmail.com'],\n",
       " ['@gmail.com'],\n",
       " ['@johnson-schmidt.com'],\n",
       " ['@hall-stephens.net'],\n",
       " ['@mora.info'],\n",
       " ['@coleman.com'],\n",
       " ['@hotmail.com'],\n",
       " ['@jones-morgan.org'],\n",
       " ['@hotmail.com'],\n",
       " ['@yahoo.com'],\n",
       " ['@robbins-mcdonald.com'],\n",
       " ['@gmail.com'],\n",
       " ['@hotmail.com'],\n",
       " ['@knight.biz'],\n",
       " ['@simmons-rasmussen.com'],\n",
       " ['@molina.org'],\n",
       " ['@smith.biz'],\n",
       " ['@jones.com'],\n",
       " ['@anderson-thompson.com'],\n",
       " ['@taylor.org'],\n",
       " ['@gmail.com'],\n",
       " ['@yahoo.com'],\n",
       " ['@carroll.com'],\n",
       " ['@logan.net'],\n",
       " ['@best.com'],\n",
       " ['@yahoo.com'],\n",
       " ['@yahoo.com'],\n",
       " ['@gill-flores.com'],\n",
       " ['@hotmail.com'],\n",
       " ['@yahoo.com'],\n",
       " ['@gmail.com'],\n",
       " ['@hotmail.com'],\n",
       " ['@guerrero.com'],\n",
       " ['@hotmail.com'],\n",
       " ['@yahoo.com'],\n",
       " ['@gardner.com'],\n",
       " ['@hotmail.com'],\n",
       " ['@reed-gonzalez.com'],\n",
       " ['@yahoo.com'],\n",
       " ['@white.com'],\n",
       " ['@hotmail.com'],\n",
       " ['@gmail.com'],\n",
       " ['@davis.com'],\n",
       " ['@clay.net'],\n",
       " ['@yahoo.com'],\n",
       " ['@hotmail.com'],\n",
       " ['@gmail.com'],\n",
       " ['@hotmail.com'],\n",
       " ['@yahoo.com'],\n",
       " ['@williams.biz'],\n",
       " ['@pearson.com'],\n",
       " ['@gmail.com'],\n",
       " ['@gmail.com'],\n",
       " ['@hotmail.com'],\n",
       " ['@gmail.com'],\n",
       " ['@luna-hancock.info'],\n",
       " ['@little-branch.info'],\n",
       " ['@murphy-berry.com'],\n",
       " ['@marshall.com'],\n",
       " ['@alvarez.com'],\n",
       " ['@rivas-glover.com'],\n",
       " ['@sloan.com'],\n",
       " ['@gonzalez.com'],\n",
       " ['@rivera.org'],\n",
       " ['@hotmail.com'],\n",
       " ['@moore-martinez.biz'],\n",
       " ['@gmail.com'],\n",
       " ['@gmail.com'],\n",
       " ['@hotmail.com'],\n",
       " ['@hotmail.com'],\n",
       " ['@gmail.com'],\n",
       " ['@hotmail.com'],\n",
       " ['@morrison-smith.com'],\n",
       " ['@gmail.com'],\n",
       " ['@yahoo.com'],\n",
       " ['@gmail.com'],\n",
       " ['@hotmail.com'],\n",
       " ['@hotmail.com'],\n",
       " ['@torres.com'],\n",
       " ['@hotmail.com'],\n",
       " ['@brown.net'],\n",
       " ['@hotmail.com'],\n",
       " ['@yahoo.com'],\n",
       " ['@caldwell.net'],\n",
       " ['@yahoo.com'],\n",
       " ['@gmail.com'],\n",
       " ['@hotmail.com'],\n",
       " ['@gmail.com'],\n",
       " ['@gmail.com'],\n",
       " ['@summers.info'],\n",
       " ['@hotmail.com'],\n",
       " ['@yahoo.com'],\n",
       " ['@rios.com'],\n",
       " ['@yahoo.com'],\n",
       " ['@gross.com'],\n",
       " ['@thompson.com'],\n",
       " ['@weber.org'],\n",
       " ['@gmail.com'],\n",
       " ['@yahoo.com'],\n",
       " ['@hotmail.com'],\n",
       " ['@andrews.biz'],\n",
       " ['@gmail.com'],\n",
       " ['@johnson-dean.com'],\n",
       " ['@gmail.com'],\n",
       " ['@hotmail.com'],\n",
       " ['@yahoo.com'],\n",
       " ['@galloway.com'],\n",
       " ['@coleman-williams.net'],\n",
       " ['@rodriguez.org'],\n",
       " ['@stein-hayes.com'],\n",
       " ['@hotmail.com'],\n",
       " ['@hahn-roberts.com'],\n",
       " ['@green.org'],\n",
       " ['@hernandez-finley.net'],\n",
       " ['@dunlap.net'],\n",
       " ['@butler-thompson.net'],\n",
       " ['@stone.com'],\n",
       " ['@melendez-decker.net'],\n",
       " ['@yahoo.com'],\n",
       " ['@knapp.info'],\n",
       " ['@gonzalez.info'],\n",
       " ['@hotmail.com'],\n",
       " ['@guerrero.info'],\n",
       " ['@burton.com'],\n",
       " ['@underwood-jenkins.org'],\n",
       " ['@brown.com'],\n",
       " ['@yahoo.com'],\n",
       " ['@hotmail.com'],\n",
       " ['@anderson.net'],\n",
       " ['@hotmail.com'],\n",
       " ['@hotmail.com'],\n",
       " ['@berry.com'],\n",
       " ['@rodriguez-yang.com'],\n",
       " ['@payne-bell.info'],\n",
       " ['@guerrero-shah.com'],\n",
       " ['@hotmail.com'],\n",
       " ['@hotmail.com'],\n",
       " ['@riley.com'],\n",
       " ['@gonzalez-gamble.org'],\n",
       " ['@craig.com'],\n",
       " ['@hotmail.com'],\n",
       " ['@lee.org'],\n",
       " ['@hotmail.com'],\n",
       " ['@haynes-nguyen.com'],\n",
       " ['@parker.com'],\n",
       " ['@gmail.com'],\n",
       " ['@hotmail.com'],\n",
       " ['@reeves-cole.biz'],\n",
       " ['@hotmail.com'],\n",
       " ['@barnes.com'],\n",
       " ['@anderson-fleming.biz'],\n",
       " ['@myers.biz'],\n",
       " ['@henderson.net'],\n",
       " ['@goodwin.com'],\n",
       " ['@bass-sullivan.info'],\n",
       " ['@yahoo.com'],\n",
       " ['@hotmail.com'],\n",
       " ['@whitney.org'],\n",
       " ['@hotmail.com'],\n",
       " ['@aguilar.com'],\n",
       " ['@gmail.com'],\n",
       " ['@gmail.com'],\n",
       " ['@brooks.com'],\n",
       " ['@hotmail.com'],\n",
       " ['@miller.info'],\n",
       " ['@stone.net'],\n",
       " ['@hotmail.com'],\n",
       " ['@hotmail.com'],\n",
       " ['@hotmail.com'],\n",
       " ['@silva-cox.com'],\n",
       " ['@hill.net'],\n",
       " ['@curtis.com'],\n",
       " ['@hotmail.com'],\n",
       " ['@hotmail.com'],\n",
       " ['@dorsey.org'],\n",
       " ['@velazquez.com'],\n",
       " ['@yahoo.com'],\n",
       " ['@cox-cole.com'],\n",
       " ['@duarte.com'],\n",
       " ['@gmail.com'],\n",
       " ['@hotmail.com'],\n",
       " ['@knight.com'],\n",
       " ['@hotmail.com'],\n",
       " ['@king-blanchard.com'],\n",
       " ...]"
      ]
     },
     "execution_count": 71,
     "metadata": {},
     "output_type": "execute_result"
    }
   ],
   "source": [
    "lst2 = []\n",
    "for i in range(len(ecom['Email'])):\n",
    "    lst = re.findall('@\\S+', ecom['Email'][i])\n",
    "    lst2.append(lst)\n",
    "lst2"
   ]
  },
  {
   "cell_type": "code",
   "execution_count": 72,
   "metadata": {},
   "outputs": [],
   "source": [
    "ecom['lst2'] = lst2"
   ]
  },
  {
   "cell_type": "code",
   "execution_count": 74,
   "metadata": {},
   "outputs": [
    {
     "ename": "TypeError",
     "evalue": "unhashable type: 'list'",
     "output_type": "error",
     "traceback": [
      "\u001b[1;31m---------------------------------------------------------------------------\u001b[0m",
      "\u001b[1;31mTypeError\u001b[0m                                 Traceback (most recent call last)",
      "\u001b[1;32mpandas\\_libs\\hashtable_class_helper.pxi\u001b[0m in \u001b[0;36mpandas._libs.hashtable.PyObjectHashTable.map_locations\u001b[1;34m()\u001b[0m\n",
      "\u001b[1;31mTypeError\u001b[0m: unhashable type: 'list'"
     ]
    },
    {
     "name": "stderr",
     "output_type": "stream",
     "text": [
      "Exception ignored in: 'pandas._libs.index.IndexEngine._call_map_locations'\n",
      "Traceback (most recent call last):\n",
      "  File \"pandas\\_libs\\hashtable_class_helper.pxi\", line 5231, in pandas._libs.hashtable.PyObjectHashTable.map_locations\n",
      "TypeError: unhashable type: 'list'\n"
     ]
    },
    {
     "data": {
      "text/plain": [
       "[@hotmail.com]     1638\n",
       "[@yahoo.com]       1616\n",
       "[@gmail.com]       1605\n",
       "[@smith.com]         42\n",
       "[@williams.com]      37\n",
       "Name: lst2, dtype: int64"
      ]
     },
     "execution_count": 74,
     "metadata": {},
     "output_type": "execute_result"
    }
   ],
   "source": [
    "ecom['lst2'].value_counts()[:5]"
   ]
  },
  {
   "cell_type": "code",
   "execution_count": 56,
   "metadata": {},
   "outputs": [
    {
     "data": {
      "text/plain": [
       "hotmail.com     1638\n",
       "yahoo.com       1616\n",
       "gmail.com       1605\n",
       "smith.com         42\n",
       "williams.com      37\n",
       "Name: Email, dtype: int64"
      ]
     },
     "execution_count": 56,
     "metadata": {},
     "output_type": "execute_result"
    }
   ],
   "source": []
  }
 ],
 "metadata": {
  "kernelspec": {
   "display_name": "Python 3 (ipykernel)",
   "language": "python",
   "name": "python3"
  },
  "language_info": {
   "codemirror_mode": {
    "name": "ipython",
    "version": 3
   },
   "file_extension": ".py",
   "mimetype": "text/x-python",
   "name": "python",
   "nbconvert_exporter": "python",
   "pygments_lexer": "ipython3",
   "version": "3.9.7"
  },
  "latex_envs": {
   "LaTeX_envs_menu_present": true,
   "autoclose": false,
   "autocomplete": true,
   "bibliofile": "biblio.bib",
   "cite_by": "apalike",
   "current_citInitial": 1,
   "eqLabelWithNumbers": true,
   "eqNumInitial": 1,
   "hotkeys": {
    "equation": "Ctrl-E",
    "itemize": "Ctrl-I"
   },
   "labels_anchors": false,
   "latex_user_defs": false,
   "report_style_numbering": false,
   "user_envs_cfg": false
  },
  "toc": {
   "base_numbering": 1,
   "nav_menu": {},
   "number_sections": true,
   "sideBar": true,
   "skip_h1_title": true,
   "title_cell": "Table of Contents",
   "title_sidebar": "Contents",
   "toc_cell": false,
   "toc_position": {},
   "toc_section_display": true,
   "toc_window_display": true
  },
  "varInspector": {
   "cols": {
    "lenName": 16,
    "lenType": 16,
    "lenVar": 40
   },
   "kernels_config": {
    "python": {
     "delete_cmd_postfix": "",
     "delete_cmd_prefix": "del ",
     "library": "var_list.py",
     "varRefreshCmd": "print(var_dic_list())"
    },
    "r": {
     "delete_cmd_postfix": ") ",
     "delete_cmd_prefix": "rm(",
     "library": "var_list.r",
     "varRefreshCmd": "cat(var_dic_list()) "
    }
   },
   "types_to_exclude": [
    "module",
    "function",
    "builtin_function_or_method",
    "instance",
    "_Feature"
   ],
   "window_display": false
  }
 },
 "nbformat": 4,
 "nbformat_minor": 1
}
